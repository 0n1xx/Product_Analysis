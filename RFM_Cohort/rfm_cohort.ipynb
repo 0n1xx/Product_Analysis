{
 "cells": [
  {
   "cell_type": "markdown",
   "metadata": {
    "collapsed": true,
    "pycharm": {
     "name": "#%% md\n"
    }
   },
   "source": [
    "### Импорт библиотек:\n",
    "____"
   ]
  },
  {
   "cell_type": "code",
   "execution_count": 65,
   "outputs": [],
   "source": [
    "import pandas as pd\n",
    "import seaborn as sns\n",
    "import matplotlib.pyplot as  plt"
   ],
   "metadata": {
    "collapsed": false,
    "pycharm": {
     "name": "#%%\n"
    }
   }
  },
  {
   "cell_type": "markdown",
   "source": [
    "### Справочная информация про DataFrame:\n",
    "____"
   ],
   "metadata": {
    "collapsed": false,
    "pycharm": {
     "name": "#%% md\n"
    }
   }
  },
  {
   "cell_type": "markdown",
   "source": [
    " - olist_customers_datase.csv — таблица с уникальными идентификаторами пользователей:\n",
    "\n",
    "     1. customer_id — позаказный идентификатор пользователя (аналог номера паспорта);\n",
    "     2. customer_unique_id —  уникальный идентификатор пользователя;\n",
    "     3. customer_zip_code_prefix —  почтовый индекс пользователя;\n",
    "     4. customer_city —  город доставки пользователя;\n",
    "     5. customer_state —  штат доставки пользователя."
   ],
   "metadata": {
    "collapsed": false,
    "pycharm": {
     "name": "#%% md\n"
    }
   }
  },
  {
   "cell_type": "markdown",
   "source": [
    " - olist_orders_dataset.csv —  таблица заказов:\n",
    "    1. order_id —  уникальный идентификатор заказа (номер чека);\n",
    "    2. customer_id —  позаказный идентификатор пользователя (аналог номера паспорта);\n",
    "    3. order_status —  статус заказа;\n",
    "    4. order_purchase_timestamp —  время создания заказа;\n",
    "    5. order_approved_at —  время подтверждения оплаты заказа;\n",
    "    6. order_delivered_carrier_date —  время передачи заказа в логистическую службу;\n",
    "    7. order_delivered_customer_date —  время доставки заказа;\n",
    "    8. order_estimated_delivery_date —  обещанная дата доставки."
   ],
   "metadata": {
    "collapsed": false,
    "pycharm": {
     "name": "#%% md\n"
    }
   }
  },
  {
   "cell_type": "markdown",
   "source": [
    " - olist_order_items_dataset.csv —  товарные позиции, входящие в заказы:\n",
    "    1. order_id —  уникальный идентификатор заказа (номер чека);\n",
    "    2. order_item_id —  идентификатор товара внутри одного заказа;\n",
    "    3. product_id —  ид товара (аналог штрихкода);\n",
    "    4. seller_id — ид производителя товара;\n",
    "    5. shipping_limit_date —  максимальная дата доставки продавцом для передачи заказа партнеру по логистике;\n",
    "    6. price —  цена за единицу товара;\n",
    "    7. freight_value —  вес товара."
   ],
   "metadata": {
    "collapsed": false,
    "pycharm": {
     "name": "#%% md\n"
    }
   }
  },
  {
   "cell_type": "markdown",
   "source": [
    "### Главные задачи:\n",
    "____"
   ],
   "metadata": {
    "collapsed": false,
    "pycharm": {
     "name": "#%% md\n"
    }
   }
  },
  {
   "cell_type": "markdown",
   "source": [
    "1. Сколько у нас пользователей, которые совершили покупку только один раз?\n",
    "\n",
    "2. Сколько заказов в месяц в среднем не доставляется по разным причинам (вывести детализацию по причинам)?\n",
    "\n",
    "3. По каждому товару определить, в какой день недели товар чаще всего покупается.\n",
    "\n",
    "4. Сколько у каждого из пользователей в среднем покупок в неделю (по месяцам)? Не стоит забывать, что внутри месяца может быть не целое количество недель. Например, в ноябре 2021 года 4,28 недели. И внутри метрики это нужно учесть.\n",
    "\n",
    "5. Используя pandas, проведи когортный анализ пользователей. В период с января по декабрь выяви когорту с самым высоким retention на 3й месяц.\n",
    "6. Часто для качественного анализа аудитории использую подходы, основанные на сегментации. Используя python, построим RFM-сегментацию пользователей, чтобы качественно оценить свою аудиторию."
   ],
   "metadata": {
    "collapsed": false,
    "pycharm": {
     "name": "#%% md\n"
    }
   }
  },
  {
   "cell_type": "markdown",
   "source": [
    "### Выгрузка данных:\n",
    "____"
   ],
   "metadata": {
    "collapsed": false,
    "pycharm": {
     "name": "#%% md\n"
    }
   }
  },
  {
   "cell_type": "code",
   "execution_count": 66,
   "outputs": [
    {
     "data": {
      "text/plain": "                        customer_id                customer_unique_id  \\\n0  06b8999e2fba1a1fbc88172c00ba8bc7  861eff4711a542e4b93843c6dd7febb0   \n1  18955e83d337fd6b2def6b18a428ac77  290c77bc529b7ac935b93aa66c333dc3   \n2  4e7b3e00288586ebd08712fdd0374a03  060e732b5b29e8181a18229c7b0b2b5e   \n3  b2b6027bc5c5109e529d4dc6358b12c3  259dac757896d24d7702b9acbbff3f3c   \n4  4f2d8ab171c80ec8364f7c12e35b23ad  345ecd01c38d18a9036ed96c73b8d066   \n\n   customer_zip_code_prefix          customer_city customer_state  \n0                     14409                 franca             SP  \n1                      9790  sao bernardo do campo             SP  \n2                      1151              sao paulo             SP  \n3                      8775        mogi das cruzes             SP  \n4                     13056               campinas             SP  ",
      "text/html": "<div>\n<style scoped>\n    .dataframe tbody tr th:only-of-type {\n        vertical-align: middle;\n    }\n\n    .dataframe tbody tr th {\n        vertical-align: top;\n    }\n\n    .dataframe thead th {\n        text-align: right;\n    }\n</style>\n<table border=\"1\" class=\"dataframe\">\n  <thead>\n    <tr style=\"text-align: right;\">\n      <th></th>\n      <th>customer_id</th>\n      <th>customer_unique_id</th>\n      <th>customer_zip_code_prefix</th>\n      <th>customer_city</th>\n      <th>customer_state</th>\n    </tr>\n  </thead>\n  <tbody>\n    <tr>\n      <th>0</th>\n      <td>06b8999e2fba1a1fbc88172c00ba8bc7</td>\n      <td>861eff4711a542e4b93843c6dd7febb0</td>\n      <td>14409</td>\n      <td>franca</td>\n      <td>SP</td>\n    </tr>\n    <tr>\n      <th>1</th>\n      <td>18955e83d337fd6b2def6b18a428ac77</td>\n      <td>290c77bc529b7ac935b93aa66c333dc3</td>\n      <td>9790</td>\n      <td>sao bernardo do campo</td>\n      <td>SP</td>\n    </tr>\n    <tr>\n      <th>2</th>\n      <td>4e7b3e00288586ebd08712fdd0374a03</td>\n      <td>060e732b5b29e8181a18229c7b0b2b5e</td>\n      <td>1151</td>\n      <td>sao paulo</td>\n      <td>SP</td>\n    </tr>\n    <tr>\n      <th>3</th>\n      <td>b2b6027bc5c5109e529d4dc6358b12c3</td>\n      <td>259dac757896d24d7702b9acbbff3f3c</td>\n      <td>8775</td>\n      <td>mogi das cruzes</td>\n      <td>SP</td>\n    </tr>\n    <tr>\n      <th>4</th>\n      <td>4f2d8ab171c80ec8364f7c12e35b23ad</td>\n      <td>345ecd01c38d18a9036ed96c73b8d066</td>\n      <td>13056</td>\n      <td>campinas</td>\n      <td>SP</td>\n    </tr>\n  </tbody>\n</table>\n</div>"
     },
     "execution_count": 66,
     "metadata": {},
     "output_type": "execute_result"
    }
   ],
   "source": [
    "olist_customers_dataset = pd.read_csv(\"olist_customers_dataset.csv\")\n",
    "olist_customers_dataset.head()"
   ],
   "metadata": {
    "collapsed": false,
    "pycharm": {
     "name": "#%%\n"
    }
   }
  },
  {
   "cell_type": "code",
   "execution_count": 67,
   "outputs": [
    {
     "data": {
      "text/plain": "                           order_id                       customer_id  \\\n0  e481f51cbdc54678b7cc49136f2d6af7  9ef432eb6251297304e76186b10a928d   \n1  53cdb2fc8bc7dce0b6741e2150273451  b0830fb4747a6c6d20dea0b8c802d7ef   \n2  47770eb9100c2d0c44946d9cf07ec65d  41ce2a54c0b03bf3443c3d931a367089   \n3  949d5b44dbf5de918fe9c16f97b45f8a  f88197465ea7920adcdbec7375364d82   \n4  ad21c59c0840e6cb83a9ceb5573f8159  8ab97904e6daea8866dbdbc4fb7aad2c   \n\n  order_status order_purchase_timestamp    order_approved_at  \\\n0    delivered      2017-10-02 10:56:33  2017-10-02 11:07:15   \n1    delivered      2018-07-24 20:41:37  2018-07-26 03:24:27   \n2    delivered      2018-08-08 08:38:49  2018-08-08 08:55:23   \n3    delivered      2017-11-18 19:28:06  2017-11-18 19:45:59   \n4    delivered      2018-02-13 21:18:39  2018-02-13 22:20:29   \n\n  order_delivered_carrier_date order_delivered_customer_date  \\\n0          2017-10-04 19:55:00           2017-10-10 21:25:13   \n1          2018-07-26 14:31:00           2018-08-07 15:27:45   \n2          2018-08-08 13:50:00           2018-08-17 18:06:29   \n3          2017-11-22 13:39:59           2017-12-02 00:28:42   \n4          2018-02-14 19:46:34           2018-02-16 18:17:02   \n\n  order_estimated_delivery_date  \n0           2017-10-18 00:00:00  \n1           2018-08-13 00:00:00  \n2           2018-09-04 00:00:00  \n3           2017-12-15 00:00:00  \n4           2018-02-26 00:00:00  ",
      "text/html": "<div>\n<style scoped>\n    .dataframe tbody tr th:only-of-type {\n        vertical-align: middle;\n    }\n\n    .dataframe tbody tr th {\n        vertical-align: top;\n    }\n\n    .dataframe thead th {\n        text-align: right;\n    }\n</style>\n<table border=\"1\" class=\"dataframe\">\n  <thead>\n    <tr style=\"text-align: right;\">\n      <th></th>\n      <th>order_id</th>\n      <th>customer_id</th>\n      <th>order_status</th>\n      <th>order_purchase_timestamp</th>\n      <th>order_approved_at</th>\n      <th>order_delivered_carrier_date</th>\n      <th>order_delivered_customer_date</th>\n      <th>order_estimated_delivery_date</th>\n    </tr>\n  </thead>\n  <tbody>\n    <tr>\n      <th>0</th>\n      <td>e481f51cbdc54678b7cc49136f2d6af7</td>\n      <td>9ef432eb6251297304e76186b10a928d</td>\n      <td>delivered</td>\n      <td>2017-10-02 10:56:33</td>\n      <td>2017-10-02 11:07:15</td>\n      <td>2017-10-04 19:55:00</td>\n      <td>2017-10-10 21:25:13</td>\n      <td>2017-10-18 00:00:00</td>\n    </tr>\n    <tr>\n      <th>1</th>\n      <td>53cdb2fc8bc7dce0b6741e2150273451</td>\n      <td>b0830fb4747a6c6d20dea0b8c802d7ef</td>\n      <td>delivered</td>\n      <td>2018-07-24 20:41:37</td>\n      <td>2018-07-26 03:24:27</td>\n      <td>2018-07-26 14:31:00</td>\n      <td>2018-08-07 15:27:45</td>\n      <td>2018-08-13 00:00:00</td>\n    </tr>\n    <tr>\n      <th>2</th>\n      <td>47770eb9100c2d0c44946d9cf07ec65d</td>\n      <td>41ce2a54c0b03bf3443c3d931a367089</td>\n      <td>delivered</td>\n      <td>2018-08-08 08:38:49</td>\n      <td>2018-08-08 08:55:23</td>\n      <td>2018-08-08 13:50:00</td>\n      <td>2018-08-17 18:06:29</td>\n      <td>2018-09-04 00:00:00</td>\n    </tr>\n    <tr>\n      <th>3</th>\n      <td>949d5b44dbf5de918fe9c16f97b45f8a</td>\n      <td>f88197465ea7920adcdbec7375364d82</td>\n      <td>delivered</td>\n      <td>2017-11-18 19:28:06</td>\n      <td>2017-11-18 19:45:59</td>\n      <td>2017-11-22 13:39:59</td>\n      <td>2017-12-02 00:28:42</td>\n      <td>2017-12-15 00:00:00</td>\n    </tr>\n    <tr>\n      <th>4</th>\n      <td>ad21c59c0840e6cb83a9ceb5573f8159</td>\n      <td>8ab97904e6daea8866dbdbc4fb7aad2c</td>\n      <td>delivered</td>\n      <td>2018-02-13 21:18:39</td>\n      <td>2018-02-13 22:20:29</td>\n      <td>2018-02-14 19:46:34</td>\n      <td>2018-02-16 18:17:02</td>\n      <td>2018-02-26 00:00:00</td>\n    </tr>\n  </tbody>\n</table>\n</div>"
     },
     "execution_count": 67,
     "metadata": {},
     "output_type": "execute_result"
    }
   ],
   "source": [
    "olist_orders_dataset = pd.read_csv(\"olist_orders_dataset.csv\")\n",
    "olist_orders_dataset.head()"
   ],
   "metadata": {
    "collapsed": false,
    "pycharm": {
     "name": "#%%\n"
    }
   }
  },
  {
   "cell_type": "markdown",
   "source": [
    "Также предлагаю сразу все нужные колонки со временем перевести во временной формат:"
   ],
   "metadata": {
    "collapsed": false,
    "pycharm": {
     "name": "#%% md\n"
    }
   }
  },
  {
   "cell_type": "code",
   "execution_count": 68,
   "outputs": [],
   "source": [
    "olist_orders_dataset[\"order_purchase_timestamp\"] = pd.to_datetime(olist_orders_dataset[\"order_purchase_timestamp\"])\n",
    "olist_orders_dataset[\"order_approved_at\"] = pd.to_datetime(olist_orders_dataset[\"order_approved_at\"])\n",
    "olist_orders_dataset[\"order_delivered_customer_date\"] = pd.to_datetime(olist_orders_dataset[\"order_delivered_customer_date\"])"
   ],
   "metadata": {
    "collapsed": false,
    "pycharm": {
     "name": "#%%\n"
    }
   }
  },
  {
   "cell_type": "code",
   "execution_count": 69,
   "outputs": [
    {
     "data": {
      "text/plain": "                           order_id  order_item_id  \\\n0  00010242fe8c5a6d1ba2dd792cb16214              1   \n1  00018f77f2f0320c557190d7a144bdd3              1   \n2  000229ec398224ef6ca0657da4fc703e              1   \n3  00024acbcdf0a6daa1e931b038114c75              1   \n4  00042b26cf59d7ce69dfabb4e55b4fd9              1   \n\n                         product_id                         seller_id  \\\n0  4244733e06e7ecb4970a6e2683c13e61  48436dade18ac8b2bce089ec2a041202   \n1  e5f2d52b802189ee658865ca93d83a8f  dd7ddc04e1b6c2c614352b383efe2d36   \n2  c777355d18b72b67abbeef9df44fd0fd  5b51032eddd242adc84c38acab88f23d   \n3  7634da152a4610f1595efa32f14722fc  9d7a1d34a5052409006425275ba1c2b4   \n4  ac6c3623068f30de03045865e4e10089  df560393f3a51e74553ab94004ba5c87   \n\n   shipping_limit_date   price  freight_value  \n0  2017-09-19 09:45:35   58.90          13.29  \n1  2017-05-03 11:05:13  239.90          19.93  \n2  2018-01-18 14:48:30  199.00          17.87  \n3  2018-08-15 10:10:18   12.99          12.79  \n4  2017-02-13 13:57:51  199.90          18.14  ",
      "text/html": "<div>\n<style scoped>\n    .dataframe tbody tr th:only-of-type {\n        vertical-align: middle;\n    }\n\n    .dataframe tbody tr th {\n        vertical-align: top;\n    }\n\n    .dataframe thead th {\n        text-align: right;\n    }\n</style>\n<table border=\"1\" class=\"dataframe\">\n  <thead>\n    <tr style=\"text-align: right;\">\n      <th></th>\n      <th>order_id</th>\n      <th>order_item_id</th>\n      <th>product_id</th>\n      <th>seller_id</th>\n      <th>shipping_limit_date</th>\n      <th>price</th>\n      <th>freight_value</th>\n    </tr>\n  </thead>\n  <tbody>\n    <tr>\n      <th>0</th>\n      <td>00010242fe8c5a6d1ba2dd792cb16214</td>\n      <td>1</td>\n      <td>4244733e06e7ecb4970a6e2683c13e61</td>\n      <td>48436dade18ac8b2bce089ec2a041202</td>\n      <td>2017-09-19 09:45:35</td>\n      <td>58.90</td>\n      <td>13.29</td>\n    </tr>\n    <tr>\n      <th>1</th>\n      <td>00018f77f2f0320c557190d7a144bdd3</td>\n      <td>1</td>\n      <td>e5f2d52b802189ee658865ca93d83a8f</td>\n      <td>dd7ddc04e1b6c2c614352b383efe2d36</td>\n      <td>2017-05-03 11:05:13</td>\n      <td>239.90</td>\n      <td>19.93</td>\n    </tr>\n    <tr>\n      <th>2</th>\n      <td>000229ec398224ef6ca0657da4fc703e</td>\n      <td>1</td>\n      <td>c777355d18b72b67abbeef9df44fd0fd</td>\n      <td>5b51032eddd242adc84c38acab88f23d</td>\n      <td>2018-01-18 14:48:30</td>\n      <td>199.00</td>\n      <td>17.87</td>\n    </tr>\n    <tr>\n      <th>3</th>\n      <td>00024acbcdf0a6daa1e931b038114c75</td>\n      <td>1</td>\n      <td>7634da152a4610f1595efa32f14722fc</td>\n      <td>9d7a1d34a5052409006425275ba1c2b4</td>\n      <td>2018-08-15 10:10:18</td>\n      <td>12.99</td>\n      <td>12.79</td>\n    </tr>\n    <tr>\n      <th>4</th>\n      <td>00042b26cf59d7ce69dfabb4e55b4fd9</td>\n      <td>1</td>\n      <td>ac6c3623068f30de03045865e4e10089</td>\n      <td>df560393f3a51e74553ab94004ba5c87</td>\n      <td>2017-02-13 13:57:51</td>\n      <td>199.90</td>\n      <td>18.14</td>\n    </tr>\n  </tbody>\n</table>\n</div>"
     },
     "execution_count": 69,
     "metadata": {},
     "output_type": "execute_result"
    }
   ],
   "source": [
    "olist_order_items_dataset = pd.read_csv(\"olist_order_items_dataset.csv\")\n",
    "olist_order_items_dataset.head()"
   ],
   "metadata": {
    "collapsed": false,
    "pycharm": {
     "name": "#%%\n"
    }
   }
  },
  {
   "cell_type": "markdown",
   "source": [
    "### Ответ на первый вопрос:\n",
    "____"
   ],
   "metadata": {
    "collapsed": false,
    "pycharm": {
     "name": "#%% md\n"
    }
   }
  },
  {
   "cell_type": "code",
   "execution_count": 70,
   "outputs": [
    {
     "data": {
      "text/plain": "                        customer_id                customer_unique_id  \\\n0  06b8999e2fba1a1fbc88172c00ba8bc7  861eff4711a542e4b93843c6dd7febb0   \n1  18955e83d337fd6b2def6b18a428ac77  290c77bc529b7ac935b93aa66c333dc3   \n2  4e7b3e00288586ebd08712fdd0374a03  060e732b5b29e8181a18229c7b0b2b5e   \n3  b2b6027bc5c5109e529d4dc6358b12c3  259dac757896d24d7702b9acbbff3f3c   \n4  4f2d8ab171c80ec8364f7c12e35b23ad  345ecd01c38d18a9036ed96c73b8d066   \n\n   customer_zip_code_prefix          customer_city customer_state  \\\n0                     14409                 franca             SP   \n1                      9790  sao bernardo do campo             SP   \n2                      1151              sao paulo             SP   \n3                      8775        mogi das cruzes             SP   \n4                     13056               campinas             SP   \n\n                           order_id order_status order_purchase_timestamp  \\\n0  00e7ee1b050b8499577073aeb2a297a1    delivered      2017-05-16 15:05:35   \n1  29150127e6685892b6eab3eec79f59c7    delivered      2018-01-12 20:48:24   \n2  b2059ed67ce144a36e2aa97d2c9e9ad2    delivered      2018-05-19 16:07:45   \n3  951670f92359f4fe4a63112aa7306eba    delivered      2018-03-13 16:06:38   \n4  6b7d50bd145f6fc7f33cebabd7e49d0f    delivered      2018-07-29 09:51:30   \n\n    order_approved_at order_delivered_carrier_date  \\\n0 2017-05-16 15:22:12          2017-05-23 10:47:57   \n1 2018-01-12 20:58:32          2018-01-15 17:14:59   \n2 2018-05-20 16:19:10          2018-06-11 14:31:00   \n3 2018-03-13 17:29:19          2018-03-27 23:22:42   \n4 2018-07-29 10:10:09          2018-07-30 15:16:00   \n\n  order_delivered_customer_date order_estimated_delivery_date  \n0           2017-05-25 10:35:35           2017-06-05 00:00:00  \n1           2018-01-29 12:41:19           2018-02-06 00:00:00  \n2           2018-06-14 17:58:51           2018-06-13 00:00:00  \n3           2018-03-28 16:04:25           2018-04-10 00:00:00  \n4           2018-08-09 20:55:48           2018-08-15 00:00:00  ",
      "text/html": "<div>\n<style scoped>\n    .dataframe tbody tr th:only-of-type {\n        vertical-align: middle;\n    }\n\n    .dataframe tbody tr th {\n        vertical-align: top;\n    }\n\n    .dataframe thead th {\n        text-align: right;\n    }\n</style>\n<table border=\"1\" class=\"dataframe\">\n  <thead>\n    <tr style=\"text-align: right;\">\n      <th></th>\n      <th>customer_id</th>\n      <th>customer_unique_id</th>\n      <th>customer_zip_code_prefix</th>\n      <th>customer_city</th>\n      <th>customer_state</th>\n      <th>order_id</th>\n      <th>order_status</th>\n      <th>order_purchase_timestamp</th>\n      <th>order_approved_at</th>\n      <th>order_delivered_carrier_date</th>\n      <th>order_delivered_customer_date</th>\n      <th>order_estimated_delivery_date</th>\n    </tr>\n  </thead>\n  <tbody>\n    <tr>\n      <th>0</th>\n      <td>06b8999e2fba1a1fbc88172c00ba8bc7</td>\n      <td>861eff4711a542e4b93843c6dd7febb0</td>\n      <td>14409</td>\n      <td>franca</td>\n      <td>SP</td>\n      <td>00e7ee1b050b8499577073aeb2a297a1</td>\n      <td>delivered</td>\n      <td>2017-05-16 15:05:35</td>\n      <td>2017-05-16 15:22:12</td>\n      <td>2017-05-23 10:47:57</td>\n      <td>2017-05-25 10:35:35</td>\n      <td>2017-06-05 00:00:00</td>\n    </tr>\n    <tr>\n      <th>1</th>\n      <td>18955e83d337fd6b2def6b18a428ac77</td>\n      <td>290c77bc529b7ac935b93aa66c333dc3</td>\n      <td>9790</td>\n      <td>sao bernardo do campo</td>\n      <td>SP</td>\n      <td>29150127e6685892b6eab3eec79f59c7</td>\n      <td>delivered</td>\n      <td>2018-01-12 20:48:24</td>\n      <td>2018-01-12 20:58:32</td>\n      <td>2018-01-15 17:14:59</td>\n      <td>2018-01-29 12:41:19</td>\n      <td>2018-02-06 00:00:00</td>\n    </tr>\n    <tr>\n      <th>2</th>\n      <td>4e7b3e00288586ebd08712fdd0374a03</td>\n      <td>060e732b5b29e8181a18229c7b0b2b5e</td>\n      <td>1151</td>\n      <td>sao paulo</td>\n      <td>SP</td>\n      <td>b2059ed67ce144a36e2aa97d2c9e9ad2</td>\n      <td>delivered</td>\n      <td>2018-05-19 16:07:45</td>\n      <td>2018-05-20 16:19:10</td>\n      <td>2018-06-11 14:31:00</td>\n      <td>2018-06-14 17:58:51</td>\n      <td>2018-06-13 00:00:00</td>\n    </tr>\n    <tr>\n      <th>3</th>\n      <td>b2b6027bc5c5109e529d4dc6358b12c3</td>\n      <td>259dac757896d24d7702b9acbbff3f3c</td>\n      <td>8775</td>\n      <td>mogi das cruzes</td>\n      <td>SP</td>\n      <td>951670f92359f4fe4a63112aa7306eba</td>\n      <td>delivered</td>\n      <td>2018-03-13 16:06:38</td>\n      <td>2018-03-13 17:29:19</td>\n      <td>2018-03-27 23:22:42</td>\n      <td>2018-03-28 16:04:25</td>\n      <td>2018-04-10 00:00:00</td>\n    </tr>\n    <tr>\n      <th>4</th>\n      <td>4f2d8ab171c80ec8364f7c12e35b23ad</td>\n      <td>345ecd01c38d18a9036ed96c73b8d066</td>\n      <td>13056</td>\n      <td>campinas</td>\n      <td>SP</td>\n      <td>6b7d50bd145f6fc7f33cebabd7e49d0f</td>\n      <td>delivered</td>\n      <td>2018-07-29 09:51:30</td>\n      <td>2018-07-29 10:10:09</td>\n      <td>2018-07-30 15:16:00</td>\n      <td>2018-08-09 20:55:48</td>\n      <td>2018-08-15 00:00:00</td>\n    </tr>\n  </tbody>\n</table>\n</div>"
     },
     "execution_count": 70,
     "metadata": {},
     "output_type": "execute_result"
    }
   ],
   "source": [
    "df12 = olist_customers_dataset.merge(olist_orders_dataset,on = \"customer_id\")\n",
    "df12.head()"
   ],
   "metadata": {
    "collapsed": false,
    "pycharm": {
     "name": "#%%\n"
    }
   }
  },
  {
   "cell_type": "code",
   "execution_count": 71,
   "outputs": [
    {
     "data": {
      "text/plain": "  order_delivered_customer_date  size\n0           2016-10-14 15:07:11     1\n1           2016-10-16 14:36:59     1\n2           2016-10-19 18:47:43     1\n3           2016-11-08 10:58:34     1\n4           2016-11-09 14:53:50     1\n5           2018-03-21 22:03:51     1",
      "text/html": "<div>\n<style scoped>\n    .dataframe tbody tr th:only-of-type {\n        vertical-align: middle;\n    }\n\n    .dataframe tbody tr th {\n        vertical-align: top;\n    }\n\n    .dataframe thead th {\n        text-align: right;\n    }\n</style>\n<table border=\"1\" class=\"dataframe\">\n  <thead>\n    <tr style=\"text-align: right;\">\n      <th></th>\n      <th>order_delivered_customer_date</th>\n      <th>size</th>\n    </tr>\n  </thead>\n  <tbody>\n    <tr>\n      <th>0</th>\n      <td>2016-10-14 15:07:11</td>\n      <td>1</td>\n    </tr>\n    <tr>\n      <th>1</th>\n      <td>2016-10-16 14:36:59</td>\n      <td>1</td>\n    </tr>\n    <tr>\n      <th>2</th>\n      <td>2016-10-19 18:47:43</td>\n      <td>1</td>\n    </tr>\n    <tr>\n      <th>3</th>\n      <td>2016-11-08 10:58:34</td>\n      <td>1</td>\n    </tr>\n    <tr>\n      <th>4</th>\n      <td>2016-11-09 14:53:50</td>\n      <td>1</td>\n    </tr>\n    <tr>\n      <th>5</th>\n      <td>2018-03-21 22:03:51</td>\n      <td>1</td>\n    </tr>\n  </tbody>\n</table>\n</div>"
     },
     "execution_count": 71,
     "metadata": {},
     "output_type": "execute_result"
    }
   ],
   "source": [
    "df12.query(\"order_status == 'canceled'\").groupby(\"order_delivered_customer_date\",as_index = False).size()"
   ],
   "metadata": {
    "collapsed": false,
    "pycharm": {
     "name": "#%%\n"
    }
   }
  },
  {
   "cell_type": "code",
   "execution_count": 72,
   "outputs": [
    {
     "data": {
      "text/plain": "array(['delivered', 'canceled', 'invoiced', 'shipped', 'processing',\n       'unavailable', 'approved', 'created'], dtype=object)"
     },
     "execution_count": 72,
     "metadata": {},
     "output_type": "execute_result"
    }
   ],
   "source": [
    "df12[\"order_status\"].unique()"
   ],
   "metadata": {
    "collapsed": false,
    "pycharm": {
     "name": "#%%\n"
    }
   }
  },
  {
   "cell_type": "markdown",
   "source": [
    "Фильтр нам стоит поставить на order_id по условию задания и стоит отфильтровать также по статусу заказу: оставить все те, кроме canceled и unavailable, так как остальные заказы уже прошли стадию совершения покупки."
   ],
   "metadata": {
    "collapsed": false,
    "pycharm": {
     "name": "#%% md\n"
    }
   }
  },
  {
   "cell_type": "code",
   "execution_count": 73,
   "outputs": [],
   "source": [
    "answer1 = df12.query(\"order_status != 'canceled' and order_status != 'unavailable'\")"
   ],
   "metadata": {
    "collapsed": false,
    "pycharm": {
     "name": "#%%\n"
    }
   }
  },
  {
   "cell_type": "code",
   "execution_count": 74,
   "outputs": [
    {
     "data": {
      "text/plain": "92102"
     },
     "execution_count": 74,
     "metadata": {},
     "output_type": "execute_result"
    }
   ],
   "source": [
    "answer1 = answer1.groupby(\"customer_unique_id\",as_index=False).aggregate({\"order_id\":\"count\"}).\\\n",
    "    query(\"order_id == 1\").rename(columns = {\"order_id\":\"quantity_of_orders\"}).shape[0]\n",
    "answer1"
   ],
   "metadata": {
    "collapsed": false,
    "pycharm": {
     "name": "#%%\n"
    }
   }
  },
  {
   "cell_type": "markdown",
   "source": [
    "Итого: пользователей, которые совершили лишь одну покупку - 92102."
   ],
   "metadata": {
    "collapsed": false,
    "pycharm": {
     "name": "#%% md\n"
    }
   }
  },
  {
   "cell_type": "markdown",
   "source": [
    "### Ответ на второй вопрос :\n",
    "____\n"
   ],
   "metadata": {
    "collapsed": false,
    "pycharm": {
     "name": "#%% md\n"
    }
   }
  },
  {
   "cell_type": "markdown",
   "source": [
    "Сначала хотелось бы посмотреть на уникальные значения, которые у нас в принципе есть :"
   ],
   "metadata": {
    "collapsed": false,
    "pycharm": {
     "name": "#%% md\n"
    }
   }
  },
  {
   "cell_type": "code",
   "execution_count": 75,
   "outputs": [
    {
     "data": {
      "text/plain": "array(['delivered', 'canceled', 'invoiced', 'shipped', 'processing',\n       'unavailable', 'approved', 'created'], dtype=object)"
     },
     "execution_count": 75,
     "metadata": {},
     "output_type": "execute_result"
    }
   ],
   "source": [
    "df12[\"order_status\"].unique()"
   ],
   "metadata": {
    "collapsed": false,
    "pycharm": {
     "name": "#%%\n"
    }
   }
  },
  {
   "cell_type": "markdown",
   "source": [
    "В наших данных у нас наблюдается всего 2 причины по которым наши товары не могут быть доставлены юзерам и так как у нас информация как будто идёт в реальном времени, здесь существуют всего 2 колонки:\n",
    "1. canceled;\n",
    "2. unavailable."
   ],
   "metadata": {
    "collapsed": false,
    "pycharm": {
     "name": "#%% md\n"
    }
   }
  },
  {
   "cell_type": "markdown",
   "source": [
    "А теперь отберём нужные нам колонки и на всяких случай также укажем, что order_delivered_customer_date должны быть NaN значения"
   ],
   "metadata": {
    "collapsed": false,
    "pycharm": {
     "name": "#%% md\n"
    }
   }
  },
  {
   "cell_type": "code",
   "execution_count": 76,
   "outputs": [],
   "source": [
    "undelivered = df12.query(\"order_delivered_customer_date == 'NaN' and order_status in ('unavailable','canceled')\")"
   ],
   "metadata": {
    "collapsed": false,
    "pycharm": {
     "name": "#%%\n"
    }
   }
  },
  {
   "cell_type": "markdown",
   "source": [
    "А теперь отберём только те заказы, которые были подтверждённые:"
   ],
   "metadata": {
    "collapsed": false,
    "pycharm": {
     "name": "#%% md\n"
    }
   }
  },
  {
   "cell_type": "code",
   "execution_count": 77,
   "outputs": [
    {
     "data": {
      "text/plain": "    order_approved_at order_status  size\n0 2016-10-04 10:26:40     canceled     1\n1 2016-10-05 08:45:09     canceled     1\n2 2016-10-06 14:22:19  unavailable     1\n3 2016-10-06 15:50:56     canceled     1\n4 2016-10-06 15:54:47     canceled     1",
      "text/html": "<div>\n<style scoped>\n    .dataframe tbody tr th:only-of-type {\n        vertical-align: middle;\n    }\n\n    .dataframe tbody tr th {\n        vertical-align: top;\n    }\n\n    .dataframe thead th {\n        text-align: right;\n    }\n</style>\n<table border=\"1\" class=\"dataframe\">\n  <thead>\n    <tr style=\"text-align: right;\">\n      <th></th>\n      <th>order_approved_at</th>\n      <th>order_status</th>\n      <th>size</th>\n    </tr>\n  </thead>\n  <tbody>\n    <tr>\n      <th>0</th>\n      <td>2016-10-04 10:26:40</td>\n      <td>canceled</td>\n      <td>1</td>\n    </tr>\n    <tr>\n      <th>1</th>\n      <td>2016-10-05 08:45:09</td>\n      <td>canceled</td>\n      <td>1</td>\n    </tr>\n    <tr>\n      <th>2</th>\n      <td>2016-10-06 14:22:19</td>\n      <td>unavailable</td>\n      <td>1</td>\n    </tr>\n    <tr>\n      <th>3</th>\n      <td>2016-10-06 15:50:56</td>\n      <td>canceled</td>\n      <td>1</td>\n    </tr>\n    <tr>\n      <th>4</th>\n      <td>2016-10-06 15:54:47</td>\n      <td>canceled</td>\n      <td>1</td>\n    </tr>\n  </tbody>\n</table>\n</div>"
     },
     "execution_count": 77,
     "metadata": {},
     "output_type": "execute_result"
    }
   ],
   "source": [
    "undelivered = undelivered.groupby([\"order_approved_at\",\"order_status\"],as_index = False).size()\n",
    "undelivered.head()"
   ],
   "metadata": {
    "collapsed": false,
    "pycharm": {
     "name": "#%%\n"
    }
   }
  },
  {
   "cell_type": "markdown",
   "source": [
    "Далее добавим колонку с месяцами :"
   ],
   "metadata": {
    "collapsed": false,
    "pycharm": {
     "name": "#%% md\n"
    }
   }
  },
  {
   "cell_type": "code",
   "execution_count": 78,
   "outputs": [
    {
     "data": {
      "text/plain": "    order_approved_at order_status  size   months\n0 2016-10-04 10:26:40     canceled     1  10-2016\n1 2016-10-05 08:45:09     canceled     1  10-2016\n2 2016-10-06 14:22:19  unavailable     1  10-2016\n3 2016-10-06 15:50:56     canceled     1  10-2016\n4 2016-10-06 15:54:47     canceled     1  10-2016",
      "text/html": "<div>\n<style scoped>\n    .dataframe tbody tr th:only-of-type {\n        vertical-align: middle;\n    }\n\n    .dataframe tbody tr th {\n        vertical-align: top;\n    }\n\n    .dataframe thead th {\n        text-align: right;\n    }\n</style>\n<table border=\"1\" class=\"dataframe\">\n  <thead>\n    <tr style=\"text-align: right;\">\n      <th></th>\n      <th>order_approved_at</th>\n      <th>order_status</th>\n      <th>size</th>\n      <th>months</th>\n    </tr>\n  </thead>\n  <tbody>\n    <tr>\n      <th>0</th>\n      <td>2016-10-04 10:26:40</td>\n      <td>canceled</td>\n      <td>1</td>\n      <td>10-2016</td>\n    </tr>\n    <tr>\n      <th>1</th>\n      <td>2016-10-05 08:45:09</td>\n      <td>canceled</td>\n      <td>1</td>\n      <td>10-2016</td>\n    </tr>\n    <tr>\n      <th>2</th>\n      <td>2016-10-06 14:22:19</td>\n      <td>unavailable</td>\n      <td>1</td>\n      <td>10-2016</td>\n    </tr>\n    <tr>\n      <th>3</th>\n      <td>2016-10-06 15:50:56</td>\n      <td>canceled</td>\n      <td>1</td>\n      <td>10-2016</td>\n    </tr>\n    <tr>\n      <th>4</th>\n      <td>2016-10-06 15:54:47</td>\n      <td>canceled</td>\n      <td>1</td>\n      <td>10-2016</td>\n    </tr>\n  </tbody>\n</table>\n</div>"
     },
     "execution_count": 78,
     "metadata": {},
     "output_type": "execute_result"
    }
   ],
   "source": [
    "undelivered[\"months\"] = undelivered[\"order_approved_at\"].apply(lambda x:x.strftime(\"%m-%Y\"))\n",
    "undelivered.head()"
   ],
   "metadata": {
    "collapsed": false,
    "pycharm": {
     "name": "#%%\n"
    }
   }
  },
  {
   "cell_type": "markdown",
   "source": [
    "После произведём группировку по месяцу и статусу заказа, а далее совершим группировку по статусу и посчитаем среднее в месяц и также округлим наши значения :"
   ],
   "metadata": {
    "collapsed": false,
    "pycharm": {
     "name": "#%% md\n"
    }
   }
  },
  {
   "cell_type": "code",
   "execution_count": 79,
   "outputs": [],
   "source": [
    "undelivered_per_month = undelivered.groupby([\"months\",\"order_status\"],as_index = False).aggregate({\"size\":\"sum\"})\n",
    "undelivered_per_month = undelivered_per_month.groupby(\"order_status\",as_index = False).aggregate({\"size\":\"mean\"})"
   ],
   "metadata": {
    "collapsed": false,
    "pycharm": {
     "name": "#%%\n"
    }
   }
  },
  {
   "cell_type": "code",
   "execution_count": 80,
   "outputs": [
    {
     "name": "stderr",
     "output_type": "stream",
     "text": [
      "/tmp/ipykernel_7453/849065463.py:1: SettingWithCopyWarning: \n",
      "A value is trying to be set on a copy of a slice from a DataFrame\n",
      "\n",
      "See the caveats in the documentation: https://pandas.pydata.org/pandas-docs/stable/user_guide/indexing.html#returning-a-view-versus-a-copy\n",
      "  undelivered_per_month[\"size\"][0] = undelivered_per_month[\"size\"][0].round()\n"
     ]
    }
   ],
   "source": [
    "undelivered_per_month[\"size\"][0] = undelivered_per_month[\"size\"][0].round()"
   ],
   "metadata": {
    "collapsed": false,
    "pycharm": {
     "name": "#%%\n"
    }
   }
  },
  {
   "cell_type": "code",
   "execution_count": 81,
   "outputs": [
    {
     "data": {
      "text/plain": "  order_status  size\n0     canceled  23.0\n1  unavailable  29.0",
      "text/html": "<div>\n<style scoped>\n    .dataframe tbody tr th:only-of-type {\n        vertical-align: middle;\n    }\n\n    .dataframe tbody tr th {\n        vertical-align: top;\n    }\n\n    .dataframe thead th {\n        text-align: right;\n    }\n</style>\n<table border=\"1\" class=\"dataframe\">\n  <thead>\n    <tr style=\"text-align: right;\">\n      <th></th>\n      <th>order_status</th>\n      <th>size</th>\n    </tr>\n  </thead>\n  <tbody>\n    <tr>\n      <th>0</th>\n      <td>canceled</td>\n      <td>23.0</td>\n    </tr>\n    <tr>\n      <th>1</th>\n      <td>unavailable</td>\n      <td>29.0</td>\n    </tr>\n  </tbody>\n</table>\n</div>"
     },
     "execution_count": 81,
     "metadata": {},
     "output_type": "execute_result"
    }
   ],
   "source": [
    "undelivered_per_month"
   ],
   "metadata": {
    "collapsed": false,
    "pycharm": {
     "name": "#%%\n"
    }
   }
  },
  {
   "cell_type": "markdown",
   "source": [
    "Итого: первая причина недоставки заключается в недоступности товара, а вторая в его отмене. Из-за первой причины в среднем в месяц не доставляется 29 товаров, а из-за второй - 23."
   ],
   "metadata": {
    "collapsed": false,
    "pycharm": {
     "name": "#%% md\n"
    }
   }
  },
  {
   "cell_type": "markdown",
   "source": [
    "### Ответ на третий вопрос :\n",
    "____"
   ],
   "metadata": {
    "collapsed": false,
    "pycharm": {
     "name": "#%% md\n"
    }
   }
  },
  {
   "cell_type": "markdown",
   "source": [
    "3. По каждому товару определить, в какой день недели товар чаще всего покупается."
   ],
   "metadata": {
    "collapsed": false,
    "pycharm": {
     "name": "#%% md\n"
    }
   }
  },
  {
   "cell_type": "code",
   "execution_count": 82,
   "outputs": [
    {
     "data": {
      "text/plain": "                           order_id  order_item_id  \\\n0  00010242fe8c5a6d1ba2dd792cb16214              1   \n1  00018f77f2f0320c557190d7a144bdd3              1   \n2  000229ec398224ef6ca0657da4fc703e              1   \n3  00024acbcdf0a6daa1e931b038114c75              1   \n4  00042b26cf59d7ce69dfabb4e55b4fd9              1   \n\n                         product_id                         seller_id  \\\n0  4244733e06e7ecb4970a6e2683c13e61  48436dade18ac8b2bce089ec2a041202   \n1  e5f2d52b802189ee658865ca93d83a8f  dd7ddc04e1b6c2c614352b383efe2d36   \n2  c777355d18b72b67abbeef9df44fd0fd  5b51032eddd242adc84c38acab88f23d   \n3  7634da152a4610f1595efa32f14722fc  9d7a1d34a5052409006425275ba1c2b4   \n4  ac6c3623068f30de03045865e4e10089  df560393f3a51e74553ab94004ba5c87   \n\n   shipping_limit_date   price  freight_value  \\\n0  2017-09-19 09:45:35   58.90          13.29   \n1  2017-05-03 11:05:13  239.90          19.93   \n2  2018-01-18 14:48:30  199.00          17.87   \n3  2018-08-15 10:10:18   12.99          12.79   \n4  2017-02-13 13:57:51  199.90          18.14   \n\n                        customer_id order_status order_purchase_timestamp  \\\n0  3ce436f183e68e07877b285a838db11a    delivered      2017-09-13 08:59:02   \n1  f6dd3ec061db4e3987629fe6b26e5cce    delivered      2017-04-26 10:53:06   \n2  6489ae5e4333f3693df5ad4372dab6d3    delivered      2018-01-14 14:33:31   \n3  d4eb9395c8c0431ee92fce09860c5a06    delivered      2018-08-08 10:00:35   \n4  58dbd0b2d70206bf40e62cd34e84d795    delivered      2017-02-04 13:57:51   \n\n    order_approved_at order_delivered_carrier_date  \\\n0 2017-09-13 09:45:35          2017-09-19 18:34:16   \n1 2017-04-26 11:05:13          2017-05-04 14:35:00   \n2 2018-01-14 14:48:30          2018-01-16 12:36:48   \n3 2018-08-08 10:10:18          2018-08-10 13:28:00   \n4 2017-02-04 14:10:13          2017-02-16 09:46:09   \n\n  order_delivered_customer_date order_estimated_delivery_date  \n0           2017-09-20 23:43:48           2017-09-29 00:00:00  \n1           2017-05-12 16:04:24           2017-05-15 00:00:00  \n2           2018-01-22 13:19:16           2018-02-05 00:00:00  \n3           2018-08-14 13:32:39           2018-08-20 00:00:00  \n4           2017-03-01 16:42:31           2017-03-17 00:00:00  ",
      "text/html": "<div>\n<style scoped>\n    .dataframe tbody tr th:only-of-type {\n        vertical-align: middle;\n    }\n\n    .dataframe tbody tr th {\n        vertical-align: top;\n    }\n\n    .dataframe thead th {\n        text-align: right;\n    }\n</style>\n<table border=\"1\" class=\"dataframe\">\n  <thead>\n    <tr style=\"text-align: right;\">\n      <th></th>\n      <th>order_id</th>\n      <th>order_item_id</th>\n      <th>product_id</th>\n      <th>seller_id</th>\n      <th>shipping_limit_date</th>\n      <th>price</th>\n      <th>freight_value</th>\n      <th>customer_id</th>\n      <th>order_status</th>\n      <th>order_purchase_timestamp</th>\n      <th>order_approved_at</th>\n      <th>order_delivered_carrier_date</th>\n      <th>order_delivered_customer_date</th>\n      <th>order_estimated_delivery_date</th>\n    </tr>\n  </thead>\n  <tbody>\n    <tr>\n      <th>0</th>\n      <td>00010242fe8c5a6d1ba2dd792cb16214</td>\n      <td>1</td>\n      <td>4244733e06e7ecb4970a6e2683c13e61</td>\n      <td>48436dade18ac8b2bce089ec2a041202</td>\n      <td>2017-09-19 09:45:35</td>\n      <td>58.90</td>\n      <td>13.29</td>\n      <td>3ce436f183e68e07877b285a838db11a</td>\n      <td>delivered</td>\n      <td>2017-09-13 08:59:02</td>\n      <td>2017-09-13 09:45:35</td>\n      <td>2017-09-19 18:34:16</td>\n      <td>2017-09-20 23:43:48</td>\n      <td>2017-09-29 00:00:00</td>\n    </tr>\n    <tr>\n      <th>1</th>\n      <td>00018f77f2f0320c557190d7a144bdd3</td>\n      <td>1</td>\n      <td>e5f2d52b802189ee658865ca93d83a8f</td>\n      <td>dd7ddc04e1b6c2c614352b383efe2d36</td>\n      <td>2017-05-03 11:05:13</td>\n      <td>239.90</td>\n      <td>19.93</td>\n      <td>f6dd3ec061db4e3987629fe6b26e5cce</td>\n      <td>delivered</td>\n      <td>2017-04-26 10:53:06</td>\n      <td>2017-04-26 11:05:13</td>\n      <td>2017-05-04 14:35:00</td>\n      <td>2017-05-12 16:04:24</td>\n      <td>2017-05-15 00:00:00</td>\n    </tr>\n    <tr>\n      <th>2</th>\n      <td>000229ec398224ef6ca0657da4fc703e</td>\n      <td>1</td>\n      <td>c777355d18b72b67abbeef9df44fd0fd</td>\n      <td>5b51032eddd242adc84c38acab88f23d</td>\n      <td>2018-01-18 14:48:30</td>\n      <td>199.00</td>\n      <td>17.87</td>\n      <td>6489ae5e4333f3693df5ad4372dab6d3</td>\n      <td>delivered</td>\n      <td>2018-01-14 14:33:31</td>\n      <td>2018-01-14 14:48:30</td>\n      <td>2018-01-16 12:36:48</td>\n      <td>2018-01-22 13:19:16</td>\n      <td>2018-02-05 00:00:00</td>\n    </tr>\n    <tr>\n      <th>3</th>\n      <td>00024acbcdf0a6daa1e931b038114c75</td>\n      <td>1</td>\n      <td>7634da152a4610f1595efa32f14722fc</td>\n      <td>9d7a1d34a5052409006425275ba1c2b4</td>\n      <td>2018-08-15 10:10:18</td>\n      <td>12.99</td>\n      <td>12.79</td>\n      <td>d4eb9395c8c0431ee92fce09860c5a06</td>\n      <td>delivered</td>\n      <td>2018-08-08 10:00:35</td>\n      <td>2018-08-08 10:10:18</td>\n      <td>2018-08-10 13:28:00</td>\n      <td>2018-08-14 13:32:39</td>\n      <td>2018-08-20 00:00:00</td>\n    </tr>\n    <tr>\n      <th>4</th>\n      <td>00042b26cf59d7ce69dfabb4e55b4fd9</td>\n      <td>1</td>\n      <td>ac6c3623068f30de03045865e4e10089</td>\n      <td>df560393f3a51e74553ab94004ba5c87</td>\n      <td>2017-02-13 13:57:51</td>\n      <td>199.90</td>\n      <td>18.14</td>\n      <td>58dbd0b2d70206bf40e62cd34e84d795</td>\n      <td>delivered</td>\n      <td>2017-02-04 13:57:51</td>\n      <td>2017-02-04 14:10:13</td>\n      <td>2017-02-16 09:46:09</td>\n      <td>2017-03-01 16:42:31</td>\n      <td>2017-03-17 00:00:00</td>\n    </tr>\n  </tbody>\n</table>\n</div>"
     },
     "execution_count": 82,
     "metadata": {},
     "output_type": "execute_result"
    }
   ],
   "source": [
    "df23 = olist_order_items_dataset.merge(olist_orders_dataset,on = \"order_id\")\n",
    "df23.head()"
   ],
   "metadata": {
    "collapsed": false,
    "pycharm": {
     "name": "#%%\n"
    }
   }
  },
  {
   "cell_type": "code",
   "execution_count": 83,
   "outputs": [],
   "source": [
    "df23['days'] = df23.order_approved_at.dt.day_name()"
   ],
   "metadata": {
    "collapsed": false,
    "pycharm": {
     "name": "#%%\n"
    }
   }
  },
  {
   "cell_type": "code",
   "execution_count": 84,
   "outputs": [
    {
     "data": {
      "text/plain": "array(['4244733e06e7ecb4970a6e2683c13e61',\n       'e5f2d52b802189ee658865ca93d83a8f',\n       'c777355d18b72b67abbeef9df44fd0fd', ...,\n       'dd469c03ad67e201bc2179ef077dcd48',\n       'bbe7651fef80287a816ead73f065fc4b',\n       '350688d9dc1e75ff97be326363655e01'], dtype=object)"
     },
     "execution_count": 84,
     "metadata": {},
     "output_type": "execute_result"
    }
   ],
   "source": [
    "df23.product_id.unique()"
   ],
   "metadata": {
    "collapsed": false,
    "pycharm": {
     "name": "#%%\n"
    }
   }
  },
  {
   "cell_type": "code",
   "execution_count": 85,
   "outputs": [],
   "source": [
    "per_week = df23.query('order_status == \"delivered\"')\\\n",
    "    .groupby(['product_id','days'], as_index=False)\\\n",
    "    .agg({'price':'count'})"
   ],
   "metadata": {
    "collapsed": false,
    "pycharm": {
     "name": "#%%\n"
    }
   }
  },
  {
   "cell_type": "code",
   "execution_count": 86,
   "outputs": [
    {
     "data": {
      "text/plain": "                             product_id      days  quantity\n40190  aca2eb7d00ea1a7b8ebd4e68314663af   Tuesday       119\n19709  53b36df67ebb7c41585e8d54d6772e08   Tuesday       104\n15609  422879e10f46682990de24d770e7f83d   Tuesday        89\n12793  368c6c730842d78016ad823897a372db  Thursday        80\n35778  99a4788cb24856965c36a24e339b6058   Tuesday        78",
      "text/html": "<div>\n<style scoped>\n    .dataframe tbody tr th:only-of-type {\n        vertical-align: middle;\n    }\n\n    .dataframe tbody tr th {\n        vertical-align: top;\n    }\n\n    .dataframe thead th {\n        text-align: right;\n    }\n</style>\n<table border=\"1\" class=\"dataframe\">\n  <thead>\n    <tr style=\"text-align: right;\">\n      <th></th>\n      <th>product_id</th>\n      <th>days</th>\n      <th>quantity</th>\n    </tr>\n  </thead>\n  <tbody>\n    <tr>\n      <th>40190</th>\n      <td>aca2eb7d00ea1a7b8ebd4e68314663af</td>\n      <td>Tuesday</td>\n      <td>119</td>\n    </tr>\n    <tr>\n      <th>19709</th>\n      <td>53b36df67ebb7c41585e8d54d6772e08</td>\n      <td>Tuesday</td>\n      <td>104</td>\n    </tr>\n    <tr>\n      <th>15609</th>\n      <td>422879e10f46682990de24d770e7f83d</td>\n      <td>Tuesday</td>\n      <td>89</td>\n    </tr>\n    <tr>\n      <th>12793</th>\n      <td>368c6c730842d78016ad823897a372db</td>\n      <td>Thursday</td>\n      <td>80</td>\n    </tr>\n    <tr>\n      <th>35778</th>\n      <td>99a4788cb24856965c36a24e339b6058</td>\n      <td>Tuesday</td>\n      <td>78</td>\n    </tr>\n  </tbody>\n</table>\n</div>"
     },
     "execution_count": 86,
     "metadata": {},
     "output_type": "execute_result"
    }
   ],
   "source": [
    "per_week.loc[per_week.groupby('product_id')['price']\n",
    "    .idxmax()]\\\n",
    "    .sort_values(by='price',ascending=False).rename(columns={\"price\":\"quantity\"}).head()"
   ],
   "metadata": {
    "collapsed": false,
    "pycharm": {
     "name": "#%%\n"
    }
   }
  },
  {
   "cell_type": "markdown",
   "source": [
    "### Ответ на четвёртый вопрос:\n",
    "____"
   ],
   "metadata": {
    "collapsed": false,
    "pycharm": {
     "name": "#%% md\n"
    }
   }
  },
  {
   "cell_type": "markdown",
   "source": [
    "Для начала нам стоит снова посмотреть на наш объединённый DataFrame(1 и 2):\n",
    "Исходя из запроса нам понадобяться всего лишь 2 колонки:\n",
    "1. customer_unique_id - уникальный id пользователя;\n",
    "2. order_approved_at - время подтверждения оплаты заказа."
   ],
   "metadata": {
    "collapsed": false,
    "pycharm": {
     "name": "#%% md\n"
    }
   }
  },
  {
   "cell_type": "markdown",
   "source": [
    "Для начала как всегда проверим и очистим DataFrame, но походу буду придерживаться такого плана:\n",
    "1. Посчитать сколько наши пользователи покупали каждый месяц каждого года;\n",
    "2. Посчитать как раз неровное кол-во недель(то есть просто простые недели с оставшимеся днями);\n",
    "3. Поделить первое на второе."
   ],
   "metadata": {
    "collapsed": false,
    "pycharm": {
     "name": "#%% md\n"
    }
   }
  },
  {
   "cell_type": "code",
   "execution_count": 87,
   "outputs": [
    {
     "data": {
      "text/plain": "                     customer_unique_id   order_approved_at\n21125  830d5b7aaa3b6f1e9ad63703bec97d23 2016-09-15 12:16:38\n17531  14359ea0c7a105749c0a56478825b015 2016-10-04 09:43:32\n59705  b8b8726af116a5cfb35b0315ecef9172 2016-10-04 10:18:57\n19876  87776adb449c551e74c13fc34f036105 2016-10-04 10:19:23\n21796  88bc832f104b6dd684a17dbb1b76e778 2016-10-04 10:25:46",
      "text/html": "<div>\n<style scoped>\n    .dataframe tbody tr th:only-of-type {\n        vertical-align: middle;\n    }\n\n    .dataframe tbody tr th {\n        vertical-align: top;\n    }\n\n    .dataframe thead th {\n        text-align: right;\n    }\n</style>\n<table border=\"1\" class=\"dataframe\">\n  <thead>\n    <tr style=\"text-align: right;\">\n      <th></th>\n      <th>customer_unique_id</th>\n      <th>order_approved_at</th>\n    </tr>\n  </thead>\n  <tbody>\n    <tr>\n      <th>21125</th>\n      <td>830d5b7aaa3b6f1e9ad63703bec97d23</td>\n      <td>2016-09-15 12:16:38</td>\n    </tr>\n    <tr>\n      <th>17531</th>\n      <td>14359ea0c7a105749c0a56478825b015</td>\n      <td>2016-10-04 09:43:32</td>\n    </tr>\n    <tr>\n      <th>59705</th>\n      <td>b8b8726af116a5cfb35b0315ecef9172</td>\n      <td>2016-10-04 10:18:57</td>\n    </tr>\n    <tr>\n      <th>19876</th>\n      <td>87776adb449c551e74c13fc34f036105</td>\n      <td>2016-10-04 10:19:23</td>\n    </tr>\n    <tr>\n      <th>21796</th>\n      <td>88bc832f104b6dd684a17dbb1b76e778</td>\n      <td>2016-10-04 10:25:46</td>\n    </tr>\n  </tbody>\n</table>\n</div>"
     },
     "execution_count": 87,
     "metadata": {},
     "output_type": "execute_result"
    }
   ],
   "source": [
    "answer4 = df12[[\"customer_unique_id\",\"order_approved_at\"]].sort_values(\"order_approved_at\")\n",
    "answer4.head()"
   ],
   "metadata": {
    "collapsed": false,
    "pycharm": {
     "name": "#%%\n"
    }
   }
  },
  {
   "cell_type": "code",
   "execution_count": 88,
   "outputs": [],
   "source": [
    "answer4.dropna(inplace=True)"
   ],
   "metadata": {
    "collapsed": false,
    "pycharm": {
     "name": "#%%\n"
    }
   }
  },
  {
   "cell_type": "markdown",
   "source": [
    "Сначала найдем месяца каждого года и для этого я просто взял lambda из предыдущего упражнения:"
   ],
   "metadata": {
    "collapsed": false,
    "pycharm": {
     "name": "#%% md\n"
    }
   }
  },
  {
   "cell_type": "code",
   "execution_count": 89,
   "outputs": [
    {
     "data": {
      "text/plain": "                     customer_unique_id   order_approved_at month_year\n21125  830d5b7aaa3b6f1e9ad63703bec97d23 2016-09-15 12:16:38    09-2016\n17531  14359ea0c7a105749c0a56478825b015 2016-10-04 09:43:32    10-2016\n59705  b8b8726af116a5cfb35b0315ecef9172 2016-10-04 10:18:57    10-2016\n19876  87776adb449c551e74c13fc34f036105 2016-10-04 10:19:23    10-2016\n21796  88bc832f104b6dd684a17dbb1b76e778 2016-10-04 10:25:46    10-2016",
      "text/html": "<div>\n<style scoped>\n    .dataframe tbody tr th:only-of-type {\n        vertical-align: middle;\n    }\n\n    .dataframe tbody tr th {\n        vertical-align: top;\n    }\n\n    .dataframe thead th {\n        text-align: right;\n    }\n</style>\n<table border=\"1\" class=\"dataframe\">\n  <thead>\n    <tr style=\"text-align: right;\">\n      <th></th>\n      <th>customer_unique_id</th>\n      <th>order_approved_at</th>\n      <th>month_year</th>\n    </tr>\n  </thead>\n  <tbody>\n    <tr>\n      <th>21125</th>\n      <td>830d5b7aaa3b6f1e9ad63703bec97d23</td>\n      <td>2016-09-15 12:16:38</td>\n      <td>09-2016</td>\n    </tr>\n    <tr>\n      <th>17531</th>\n      <td>14359ea0c7a105749c0a56478825b015</td>\n      <td>2016-10-04 09:43:32</td>\n      <td>10-2016</td>\n    </tr>\n    <tr>\n      <th>59705</th>\n      <td>b8b8726af116a5cfb35b0315ecef9172</td>\n      <td>2016-10-04 10:18:57</td>\n      <td>10-2016</td>\n    </tr>\n    <tr>\n      <th>19876</th>\n      <td>87776adb449c551e74c13fc34f036105</td>\n      <td>2016-10-04 10:19:23</td>\n      <td>10-2016</td>\n    </tr>\n    <tr>\n      <th>21796</th>\n      <td>88bc832f104b6dd684a17dbb1b76e778</td>\n      <td>2016-10-04 10:25:46</td>\n      <td>10-2016</td>\n    </tr>\n  </tbody>\n</table>\n</div>"
     },
     "execution_count": 89,
     "metadata": {},
     "output_type": "execute_result"
    }
   ],
   "source": [
    "answer4[\"month_year\"] = answer4[\"order_approved_at\"].apply(lambda x:x.strftime(\"%m-%Y\"))\n",
    "answer4.head()"
   ],
   "metadata": {
    "collapsed": false,
    "pycharm": {
     "name": "#%%\n"
    }
   }
  },
  {
   "cell_type": "markdown",
   "source": [
    "Далее создадим небольшой датафрейм, один из столбцов которого как раз и будет отвечать за кол-во покупок каждый месяц каждого года:"
   ],
   "metadata": {
    "collapsed": false,
    "pycharm": {
     "name": "#%% md\n"
    }
   }
  },
  {
   "cell_type": "code",
   "execution_count": 90,
   "outputs": [],
   "source": [
    "quantity_per_month = answer4.groupby([\"customer_unique_id\",\"month_year\"],as_index=False).aggregate({\"order_approved_at\":\"count\"}).\\\n",
    "    rename(columns={\"order_approved_at\":\"quantity_per_month\"})"
   ],
   "metadata": {
    "collapsed": false,
    "pycharm": {
     "name": "#%%\n"
    }
   }
  },
  {
   "cell_type": "code",
   "execution_count": 91,
   "outputs": [
    {
     "data": {
      "text/plain": "                 customer_unique_id   order_approved_at month_year  \\\n0  830d5b7aaa3b6f1e9ad63703bec97d23 2016-09-15 12:16:38    09-2016   \n1  14359ea0c7a105749c0a56478825b015 2016-10-04 09:43:32    10-2016   \n2  b8b8726af116a5cfb35b0315ecef9172 2016-10-04 10:18:57    10-2016   \n3  87776adb449c551e74c13fc34f036105 2016-10-04 10:19:23    10-2016   \n4  88bc832f104b6dd684a17dbb1b76e778 2016-10-04 10:25:46    10-2016   \n\n   quantity_per_month  \n0                   1  \n1                   1  \n2                   1  \n3                   1  \n4                   1  ",
      "text/html": "<div>\n<style scoped>\n    .dataframe tbody tr th:only-of-type {\n        vertical-align: middle;\n    }\n\n    .dataframe tbody tr th {\n        vertical-align: top;\n    }\n\n    .dataframe thead th {\n        text-align: right;\n    }\n</style>\n<table border=\"1\" class=\"dataframe\">\n  <thead>\n    <tr style=\"text-align: right;\">\n      <th></th>\n      <th>customer_unique_id</th>\n      <th>order_approved_at</th>\n      <th>month_year</th>\n      <th>quantity_per_month</th>\n    </tr>\n  </thead>\n  <tbody>\n    <tr>\n      <th>0</th>\n      <td>830d5b7aaa3b6f1e9ad63703bec97d23</td>\n      <td>2016-09-15 12:16:38</td>\n      <td>09-2016</td>\n      <td>1</td>\n    </tr>\n    <tr>\n      <th>1</th>\n      <td>14359ea0c7a105749c0a56478825b015</td>\n      <td>2016-10-04 09:43:32</td>\n      <td>10-2016</td>\n      <td>1</td>\n    </tr>\n    <tr>\n      <th>2</th>\n      <td>b8b8726af116a5cfb35b0315ecef9172</td>\n      <td>2016-10-04 10:18:57</td>\n      <td>10-2016</td>\n      <td>1</td>\n    </tr>\n    <tr>\n      <th>3</th>\n      <td>87776adb449c551e74c13fc34f036105</td>\n      <td>2016-10-04 10:19:23</td>\n      <td>10-2016</td>\n      <td>1</td>\n    </tr>\n    <tr>\n      <th>4</th>\n      <td>88bc832f104b6dd684a17dbb1b76e778</td>\n      <td>2016-10-04 10:25:46</td>\n      <td>10-2016</td>\n      <td>1</td>\n    </tr>\n  </tbody>\n</table>\n</div>"
     },
     "execution_count": 91,
     "metadata": {},
     "output_type": "execute_result"
    }
   ],
   "source": [
    "answer4 = answer4.merge(quantity_per_month,how = \"inner\",on=['customer_unique_id'])#если делать по месяцу у меня умирает консоль, так что делаю по юзерам, а там просто фильрую немного датасет\n",
    "answer4.drop(\"month_year_y\",inplace=True,axis=1)\n",
    "answer4 = answer4.rename(columns={\"month_year_x\":\"month_year\"})\n",
    "answer4.head()"
   ],
   "metadata": {
    "collapsed": false,
    "pycharm": {
     "name": "#%%\n"
    }
   }
  },
  {
   "cell_type": "markdown",
   "source": [
    "Далее производим подсчёт сколько недель с остатками в каждом месяце:"
   ],
   "metadata": {
    "collapsed": false,
    "pycharm": {
     "name": "#%% md\n"
    }
   }
  },
  {
   "cell_type": "code",
   "execution_count": 92,
   "outputs": [],
   "source": [
    "answer4['days_in_month'] = answer4['order_approved_at'].dt.days_in_month / 7"
   ],
   "metadata": {
    "collapsed": false,
    "pycharm": {
     "name": "#%%\n"
    }
   }
  },
  {
   "cell_type": "code",
   "execution_count": 93,
   "outputs": [
    {
     "data": {
      "text/plain": "                 customer_unique_id month_year  mean_orders_per_week\n0  830d5b7aaa3b6f1e9ad63703bec97d23    09-2016              0.233333\n1  14359ea0c7a105749c0a56478825b015    10-2016              0.225806\n2  b8b8726af116a5cfb35b0315ecef9172    10-2016              0.225806\n3  87776adb449c551e74c13fc34f036105    10-2016              0.225806\n4  88bc832f104b6dd684a17dbb1b76e778    10-2016              0.225806",
      "text/html": "<div>\n<style scoped>\n    .dataframe tbody tr th:only-of-type {\n        vertical-align: middle;\n    }\n\n    .dataframe tbody tr th {\n        vertical-align: top;\n    }\n\n    .dataframe thead th {\n        text-align: right;\n    }\n</style>\n<table border=\"1\" class=\"dataframe\">\n  <thead>\n    <tr style=\"text-align: right;\">\n      <th></th>\n      <th>customer_unique_id</th>\n      <th>month_year</th>\n      <th>mean_orders_per_week</th>\n    </tr>\n  </thead>\n  <tbody>\n    <tr>\n      <th>0</th>\n      <td>830d5b7aaa3b6f1e9ad63703bec97d23</td>\n      <td>09-2016</td>\n      <td>0.233333</td>\n    </tr>\n    <tr>\n      <th>1</th>\n      <td>14359ea0c7a105749c0a56478825b015</td>\n      <td>10-2016</td>\n      <td>0.225806</td>\n    </tr>\n    <tr>\n      <th>2</th>\n      <td>b8b8726af116a5cfb35b0315ecef9172</td>\n      <td>10-2016</td>\n      <td>0.225806</td>\n    </tr>\n    <tr>\n      <th>3</th>\n      <td>87776adb449c551e74c13fc34f036105</td>\n      <td>10-2016</td>\n      <td>0.225806</td>\n    </tr>\n    <tr>\n      <th>4</th>\n      <td>88bc832f104b6dd684a17dbb1b76e778</td>\n      <td>10-2016</td>\n      <td>0.225806</td>\n    </tr>\n  </tbody>\n</table>\n</div>"
     },
     "execution_count": 93,
     "metadata": {},
     "output_type": "execute_result"
    }
   ],
   "source": [
    "answer4[\"mean_orders_per_week\"] = answer4[\"quantity_per_month\"] / answer4[\"days_in_month\"]\n",
    "answer4 = answer4[[\"customer_unique_id\",\"month_year\",\"mean_orders_per_week\"]]\n",
    "answer4.head()"
   ],
   "metadata": {
    "collapsed": false,
    "pycharm": {
     "name": "#%%\n"
    }
   }
  },
  {
   "cell_type": "markdown",
   "source": [
    "### Ответ на пятый вопрос:\n",
    "____"
   ],
   "metadata": {
    "collapsed": false,
    "pycharm": {
     "name": "#%% md\n"
    }
   }
  },
  {
   "cell_type": "markdown",
   "source": [
    "![](cohort.jpg)\n",
    "\n",
    "Также о том, что такое когорный анализ можно почитать вот [тут](https://vc.ru/s/productstar/134090-chto-takoe-kogortnyy-analiz)."
   ],
   "metadata": {
    "collapsed": false,
    "pycharm": {
     "name": "#%% md\n"
    }
   }
  },
  {
   "cell_type": "markdown",
   "source": [
    "Для начала выберем нужную нам таблицу и приведём все типы данных в порядок:"
   ],
   "metadata": {
    "collapsed": false,
    "pycharm": {
     "name": "#%% md\n"
    }
   }
  },
  {
   "cell_type": "code",
   "execution_count": 94,
   "outputs": [],
   "source": [
    "df12[\"order_purchase_timestamp\"] = df12[\"order_purchase_timestamp\"].astype(\"str\")\n",
    "df12[\"order_purchase_timestamp\"] = df12[\"order_purchase_timestamp\"].apply(lambda x:x[0:7])\n",
    "df12[\"order_purchase_timestamp\"] = pd.to_datetime(df12[\"order_purchase_timestamp\"])"
   ],
   "metadata": {
    "collapsed": false,
    "pycharm": {
     "name": "#%%\n"
    }
   }
  },
  {
   "cell_type": "markdown",
   "source": [
    "Далее создадим колонку с первым месяцем для каждого пользователя:"
   ],
   "metadata": {
    "collapsed": false,
    "pycharm": {
     "name": "#%% md\n"
    }
   }
  },
  {
   "cell_type": "code",
   "execution_count": 95,
   "outputs": [
    {
     "data": {
      "text/plain": "                        customer_id                customer_unique_id  \\\n0  06b8999e2fba1a1fbc88172c00ba8bc7  861eff4711a542e4b93843c6dd7febb0   \n1  18955e83d337fd6b2def6b18a428ac77  290c77bc529b7ac935b93aa66c333dc3   \n2  4e7b3e00288586ebd08712fdd0374a03  060e732b5b29e8181a18229c7b0b2b5e   \n3  b2b6027bc5c5109e529d4dc6358b12c3  259dac757896d24d7702b9acbbff3f3c   \n4  4f2d8ab171c80ec8364f7c12e35b23ad  345ecd01c38d18a9036ed96c73b8d066   \n\n   customer_zip_code_prefix          customer_city customer_state  \\\n0                     14409                 franca             SP   \n1                      9790  sao bernardo do campo             SP   \n2                      1151              sao paulo             SP   \n3                      8775        mogi das cruzes             SP   \n4                     13056               campinas             SP   \n\n                           order_id order_status order_purchase_timestamp  \\\n0  00e7ee1b050b8499577073aeb2a297a1    delivered               2017-05-01   \n1  29150127e6685892b6eab3eec79f59c7    delivered               2018-01-01   \n2  b2059ed67ce144a36e2aa97d2c9e9ad2    delivered               2018-05-01   \n3  951670f92359f4fe4a63112aa7306eba    delivered               2018-03-01   \n4  6b7d50bd145f6fc7f33cebabd7e49d0f    delivered               2018-07-01   \n\n    order_approved_at order_delivered_carrier_date  \\\n0 2017-05-16 15:22:12          2017-05-23 10:47:57   \n1 2018-01-12 20:58:32          2018-01-15 17:14:59   \n2 2018-05-20 16:19:10          2018-06-11 14:31:00   \n3 2018-03-13 17:29:19          2018-03-27 23:22:42   \n4 2018-07-29 10:10:09          2018-07-30 15:16:00   \n\n  order_delivered_customer_date order_estimated_delivery_date first_month  \n0           2017-05-25 10:35:35           2017-06-05 00:00:00     2017-05  \n1           2018-01-29 12:41:19           2018-02-06 00:00:00     2018-01  \n2           2018-06-14 17:58:51           2018-06-13 00:00:00     2018-05  \n3           2018-03-28 16:04:25           2018-04-10 00:00:00     2018-03  \n4           2018-08-09 20:55:48           2018-08-15 00:00:00     2018-07  ",
      "text/html": "<div>\n<style scoped>\n    .dataframe tbody tr th:only-of-type {\n        vertical-align: middle;\n    }\n\n    .dataframe tbody tr th {\n        vertical-align: top;\n    }\n\n    .dataframe thead th {\n        text-align: right;\n    }\n</style>\n<table border=\"1\" class=\"dataframe\">\n  <thead>\n    <tr style=\"text-align: right;\">\n      <th></th>\n      <th>customer_id</th>\n      <th>customer_unique_id</th>\n      <th>customer_zip_code_prefix</th>\n      <th>customer_city</th>\n      <th>customer_state</th>\n      <th>order_id</th>\n      <th>order_status</th>\n      <th>order_purchase_timestamp</th>\n      <th>order_approved_at</th>\n      <th>order_delivered_carrier_date</th>\n      <th>order_delivered_customer_date</th>\n      <th>order_estimated_delivery_date</th>\n      <th>first_month</th>\n    </tr>\n  </thead>\n  <tbody>\n    <tr>\n      <th>0</th>\n      <td>06b8999e2fba1a1fbc88172c00ba8bc7</td>\n      <td>861eff4711a542e4b93843c6dd7febb0</td>\n      <td>14409</td>\n      <td>franca</td>\n      <td>SP</td>\n      <td>00e7ee1b050b8499577073aeb2a297a1</td>\n      <td>delivered</td>\n      <td>2017-05-01</td>\n      <td>2017-05-16 15:22:12</td>\n      <td>2017-05-23 10:47:57</td>\n      <td>2017-05-25 10:35:35</td>\n      <td>2017-06-05 00:00:00</td>\n      <td>2017-05</td>\n    </tr>\n    <tr>\n      <th>1</th>\n      <td>18955e83d337fd6b2def6b18a428ac77</td>\n      <td>290c77bc529b7ac935b93aa66c333dc3</td>\n      <td>9790</td>\n      <td>sao bernardo do campo</td>\n      <td>SP</td>\n      <td>29150127e6685892b6eab3eec79f59c7</td>\n      <td>delivered</td>\n      <td>2018-01-01</td>\n      <td>2018-01-12 20:58:32</td>\n      <td>2018-01-15 17:14:59</td>\n      <td>2018-01-29 12:41:19</td>\n      <td>2018-02-06 00:00:00</td>\n      <td>2018-01</td>\n    </tr>\n    <tr>\n      <th>2</th>\n      <td>4e7b3e00288586ebd08712fdd0374a03</td>\n      <td>060e732b5b29e8181a18229c7b0b2b5e</td>\n      <td>1151</td>\n      <td>sao paulo</td>\n      <td>SP</td>\n      <td>b2059ed67ce144a36e2aa97d2c9e9ad2</td>\n      <td>delivered</td>\n      <td>2018-05-01</td>\n      <td>2018-05-20 16:19:10</td>\n      <td>2018-06-11 14:31:00</td>\n      <td>2018-06-14 17:58:51</td>\n      <td>2018-06-13 00:00:00</td>\n      <td>2018-05</td>\n    </tr>\n    <tr>\n      <th>3</th>\n      <td>b2b6027bc5c5109e529d4dc6358b12c3</td>\n      <td>259dac757896d24d7702b9acbbff3f3c</td>\n      <td>8775</td>\n      <td>mogi das cruzes</td>\n      <td>SP</td>\n      <td>951670f92359f4fe4a63112aa7306eba</td>\n      <td>delivered</td>\n      <td>2018-03-01</td>\n      <td>2018-03-13 17:29:19</td>\n      <td>2018-03-27 23:22:42</td>\n      <td>2018-03-28 16:04:25</td>\n      <td>2018-04-10 00:00:00</td>\n      <td>2018-03</td>\n    </tr>\n    <tr>\n      <th>4</th>\n      <td>4f2d8ab171c80ec8364f7c12e35b23ad</td>\n      <td>345ecd01c38d18a9036ed96c73b8d066</td>\n      <td>13056</td>\n      <td>campinas</td>\n      <td>SP</td>\n      <td>6b7d50bd145f6fc7f33cebabd7e49d0f</td>\n      <td>delivered</td>\n      <td>2018-07-01</td>\n      <td>2018-07-29 10:10:09</td>\n      <td>2018-07-30 15:16:00</td>\n      <td>2018-08-09 20:55:48</td>\n      <td>2018-08-15 00:00:00</td>\n      <td>2018-07</td>\n    </tr>\n  </tbody>\n</table>\n</div>"
     },
     "execution_count": 95,
     "metadata": {},
     "output_type": "execute_result"
    }
   ],
   "source": [
    "df12[\"first_month\"] = df12.groupby('customer_unique_id')['order_purchase_timestamp'].transform('min').dt.to_period('M')\n",
    "df12.head()"
   ],
   "metadata": {
    "collapsed": false,
    "pycharm": {
     "name": "#%%\n"
    }
   }
  },
  {
   "cell_type": "markdown",
   "source": [
    "Отберём таблицу, которая нам после понадобится:\n",
    "1. Дата должна быть с января по декабрь;\n",
    "2. Переименуем колонки для удобного визуала."
   ],
   "metadata": {
    "collapsed": false,
    "pycharm": {
     "name": "#%% md\n"
    }
   }
  },
  {
   "cell_type": "code",
   "execution_count": 96,
   "outputs": [
    {
     "data": {
      "text/plain": "  first_month months_of_purchases  customers\n0     2017-01          2017-01-01        764\n1     2017-01          2017-02-01          3\n2     2017-01          2017-03-01          2\n3     2017-01          2017-04-01          1\n4     2017-01          2017-05-01          3",
      "text/html": "<div>\n<style scoped>\n    .dataframe tbody tr th:only-of-type {\n        vertical-align: middle;\n    }\n\n    .dataframe tbody tr th {\n        vertical-align: top;\n    }\n\n    .dataframe thead th {\n        text-align: right;\n    }\n</style>\n<table border=\"1\" class=\"dataframe\">\n  <thead>\n    <tr style=\"text-align: right;\">\n      <th></th>\n      <th>first_month</th>\n      <th>months_of_purchases</th>\n      <th>customers</th>\n    </tr>\n  </thead>\n  <tbody>\n    <tr>\n      <th>0</th>\n      <td>2017-01</td>\n      <td>2017-01-01</td>\n      <td>764</td>\n    </tr>\n    <tr>\n      <th>1</th>\n      <td>2017-01</td>\n      <td>2017-02-01</td>\n      <td>3</td>\n    </tr>\n    <tr>\n      <th>2</th>\n      <td>2017-01</td>\n      <td>2017-03-01</td>\n      <td>2</td>\n    </tr>\n    <tr>\n      <th>3</th>\n      <td>2017-01</td>\n      <td>2017-04-01</td>\n      <td>1</td>\n    </tr>\n    <tr>\n      <th>4</th>\n      <td>2017-01</td>\n      <td>2017-05-01</td>\n      <td>3</td>\n    </tr>\n  </tbody>\n</table>\n</div>"
     },
     "execution_count": 96,
     "metadata": {},
     "output_type": "execute_result"
    }
   ],
   "source": [
    "answer5 = df12.query('first_month >= \"2017-01\" and first_month <= \"2017-12\"').\\\n",
    "    groupby(['first_month', 'order_purchase_timestamp'], as_index=False).\\\n",
    "    agg({'customer_unique_id':'nunique'}).\\\n",
    "    rename(columns=({'customer_unique_id':'customers',\"order_purchase_timestamp\":\"months_of_purchases\"}))\n",
    "answer5.head()"
   ],
   "metadata": {
    "collapsed": false,
    "pycharm": {
     "name": "#%%\n"
    }
   }
  },
  {
   "cell_type": "code",
   "execution_count": 97,
   "outputs": [],
   "source": [
    "from operator import attrgetter#берём данный модуль для расчёта разницы периодов"
   ],
   "metadata": {
    "collapsed": false,
    "pycharm": {
     "name": "#%%\n"
    }
   }
  },
  {
   "cell_type": "code",
   "execution_count": 98,
   "outputs": [
    {
     "data": {
      "text/plain": "first_month                 period[M]\nmonths_of_purchases    datetime64[ns]\ncustomers                       int64\ndtype: object"
     },
     "execution_count": 98,
     "metadata": {},
     "output_type": "execute_result"
    }
   ],
   "source": [
    "answer5.dtypes"
   ],
   "metadata": {
    "collapsed": false,
    "pycharm": {
     "name": "#%%\n"
    }
   }
  },
  {
   "cell_type": "markdown",
   "source": [
    "Так, а теперь приведём колонку с месяцем покупок в порядок, так как attrgetter принимает формат периода:"
   ],
   "metadata": {
    "collapsed": false,
    "pycharm": {
     "name": "#%% md\n"
    }
   }
  },
  {
   "cell_type": "code",
   "execution_count": 99,
   "outputs": [],
   "source": [
    "answer5[\"months_of_purchases\"] = pd.to_datetime(answer5[\"months_of_purchases\"]).dt.to_period(\"m\")"
   ],
   "metadata": {
    "collapsed": false,
    "pycharm": {
     "name": "#%%\n"
    }
   }
  },
  {
   "cell_type": "code",
   "execution_count": 100,
   "outputs": [
    {
     "data": {
      "text/plain": "first_month            period[M]\nmonths_of_purchases    period[M]\ncustomers                  int64\ndtype: object"
     },
     "execution_count": 100,
     "metadata": {},
     "output_type": "execute_result"
    }
   ],
   "source": [
    "answer5.dtypes"
   ],
   "metadata": {
    "collapsed": false,
    "pycharm": {
     "name": "#%%\n"
    }
   }
  },
  {
   "cell_type": "markdown",
   "source": [
    "Теперь все данные в порядке и давайте посчитаем разницу между датой каждой покупки и первым месяцем:"
   ],
   "metadata": {
    "collapsed": false,
    "pycharm": {
     "name": "#%% md\n"
    }
   }
  },
  {
   "cell_type": "code",
   "execution_count": 101,
   "outputs": [],
   "source": [
    "answer5['months_difference'] = (answer5.months_of_purchases - answer5.first_month).apply(attrgetter('n'))"
   ],
   "metadata": {
    "collapsed": false,
    "pycharm": {
     "name": "#%%\n"
    }
   }
  },
  {
   "cell_type": "code",
   "execution_count": 102,
   "outputs": [
    {
     "data": {
      "text/plain": "    first_month months_of_purchases  customers  months_difference\n0       2017-01             2017-01        764                  0\n1       2017-01             2017-02          3                  1\n2       2017-01             2017-03          2                  2\n3       2017-01             2017-04          1                  3\n4       2017-01             2017-05          3                  4\n..          ...                 ...        ...                ...\n166     2017-12             2018-04         15                  4\n167     2017-12             2018-05         11                  5\n168     2017-12             2018-06          9                  6\n169     2017-12             2018-07          3                  7\n170     2017-12             2018-08         12                  8\n\n[171 rows x 4 columns]",
      "text/html": "<div>\n<style scoped>\n    .dataframe tbody tr th:only-of-type {\n        vertical-align: middle;\n    }\n\n    .dataframe tbody tr th {\n        vertical-align: top;\n    }\n\n    .dataframe thead th {\n        text-align: right;\n    }\n</style>\n<table border=\"1\" class=\"dataframe\">\n  <thead>\n    <tr style=\"text-align: right;\">\n      <th></th>\n      <th>first_month</th>\n      <th>months_of_purchases</th>\n      <th>customers</th>\n      <th>months_difference</th>\n    </tr>\n  </thead>\n  <tbody>\n    <tr>\n      <th>0</th>\n      <td>2017-01</td>\n      <td>2017-01</td>\n      <td>764</td>\n      <td>0</td>\n    </tr>\n    <tr>\n      <th>1</th>\n      <td>2017-01</td>\n      <td>2017-02</td>\n      <td>3</td>\n      <td>1</td>\n    </tr>\n    <tr>\n      <th>2</th>\n      <td>2017-01</td>\n      <td>2017-03</td>\n      <td>2</td>\n      <td>2</td>\n    </tr>\n    <tr>\n      <th>3</th>\n      <td>2017-01</td>\n      <td>2017-04</td>\n      <td>1</td>\n      <td>3</td>\n    </tr>\n    <tr>\n      <th>4</th>\n      <td>2017-01</td>\n      <td>2017-05</td>\n      <td>3</td>\n      <td>4</td>\n    </tr>\n    <tr>\n      <th>...</th>\n      <td>...</td>\n      <td>...</td>\n      <td>...</td>\n      <td>...</td>\n    </tr>\n    <tr>\n      <th>166</th>\n      <td>2017-12</td>\n      <td>2018-04</td>\n      <td>15</td>\n      <td>4</td>\n    </tr>\n    <tr>\n      <th>167</th>\n      <td>2017-12</td>\n      <td>2018-05</td>\n      <td>11</td>\n      <td>5</td>\n    </tr>\n    <tr>\n      <th>168</th>\n      <td>2017-12</td>\n      <td>2018-06</td>\n      <td>9</td>\n      <td>6</td>\n    </tr>\n    <tr>\n      <th>169</th>\n      <td>2017-12</td>\n      <td>2018-07</td>\n      <td>3</td>\n      <td>7</td>\n    </tr>\n    <tr>\n      <th>170</th>\n      <td>2017-12</td>\n      <td>2018-08</td>\n      <td>12</td>\n      <td>8</td>\n    </tr>\n  </tbody>\n</table>\n<p>171 rows × 4 columns</p>\n</div>"
     },
     "execution_count": 102,
     "metadata": {},
     "output_type": "execute_result"
    }
   ],
   "source": [
    "answer5"
   ],
   "metadata": {
    "collapsed": false,
    "pycharm": {
     "name": "#%%\n"
    }
   }
  },
  {
   "cell_type": "code",
   "execution_count": 103,
   "outputs": [
    {
     "data": {
      "text/plain": "months_difference      0     1     2     3     4     5     6    7    8     9   \\\nfirst_month                                                                     \n2017-01             764.0   3.0   2.0   1.0   3.0   1.0   4.0  1.0  1.0   NaN   \n2017-02            1752.0   4.0   5.0   2.0   7.0   2.0   4.0  3.0  3.0   4.0   \n2017-03            2636.0  13.0  10.0  10.0   9.0   4.0   4.0  8.0  9.0   2.0   \n2017-04            2352.0  14.0   5.0   4.0   8.0   6.0   8.0  7.0  7.0   4.0   \n2017-05            3596.0  18.0  18.0  14.0  11.0  12.0  15.0  6.0  9.0  11.0   \n\nmonths_difference    10    11   12   13   14   15   16   17   19  \nfirst_month                                                       \n2017-01             3.0   1.0  6.0  3.0  1.0  1.0  2.0  3.0  1.0  \n2017-02             2.0   5.0  3.0  3.0  2.0  1.0  1.0  4.0  NaN  \n2017-03            10.0   4.0  6.0  3.0  4.0  6.0  2.0  4.0  NaN  \n2017-04             6.0   2.0  2.0  1.0  2.0  2.0  5.0  NaN  NaN  \n2017-05             9.0  12.0  9.0  1.0  7.0  9.0  NaN  NaN  NaN  ",
      "text/html": "<div>\n<style scoped>\n    .dataframe tbody tr th:only-of-type {\n        vertical-align: middle;\n    }\n\n    .dataframe tbody tr th {\n        vertical-align: top;\n    }\n\n    .dataframe thead th {\n        text-align: right;\n    }\n</style>\n<table border=\"1\" class=\"dataframe\">\n  <thead>\n    <tr style=\"text-align: right;\">\n      <th>months_difference</th>\n      <th>0</th>\n      <th>1</th>\n      <th>2</th>\n      <th>3</th>\n      <th>4</th>\n      <th>5</th>\n      <th>6</th>\n      <th>7</th>\n      <th>8</th>\n      <th>9</th>\n      <th>10</th>\n      <th>11</th>\n      <th>12</th>\n      <th>13</th>\n      <th>14</th>\n      <th>15</th>\n      <th>16</th>\n      <th>17</th>\n      <th>19</th>\n    </tr>\n    <tr>\n      <th>first_month</th>\n      <th></th>\n      <th></th>\n      <th></th>\n      <th></th>\n      <th></th>\n      <th></th>\n      <th></th>\n      <th></th>\n      <th></th>\n      <th></th>\n      <th></th>\n      <th></th>\n      <th></th>\n      <th></th>\n      <th></th>\n      <th></th>\n      <th></th>\n      <th></th>\n      <th></th>\n    </tr>\n  </thead>\n  <tbody>\n    <tr>\n      <th>2017-01</th>\n      <td>764.0</td>\n      <td>3.0</td>\n      <td>2.0</td>\n      <td>1.0</td>\n      <td>3.0</td>\n      <td>1.0</td>\n      <td>4.0</td>\n      <td>1.0</td>\n      <td>1.0</td>\n      <td>NaN</td>\n      <td>3.0</td>\n      <td>1.0</td>\n      <td>6.0</td>\n      <td>3.0</td>\n      <td>1.0</td>\n      <td>1.0</td>\n      <td>2.0</td>\n      <td>3.0</td>\n      <td>1.0</td>\n    </tr>\n    <tr>\n      <th>2017-02</th>\n      <td>1752.0</td>\n      <td>4.0</td>\n      <td>5.0</td>\n      <td>2.0</td>\n      <td>7.0</td>\n      <td>2.0</td>\n      <td>4.0</td>\n      <td>3.0</td>\n      <td>3.0</td>\n      <td>4.0</td>\n      <td>2.0</td>\n      <td>5.0</td>\n      <td>3.0</td>\n      <td>3.0</td>\n      <td>2.0</td>\n      <td>1.0</td>\n      <td>1.0</td>\n      <td>4.0</td>\n      <td>NaN</td>\n    </tr>\n    <tr>\n      <th>2017-03</th>\n      <td>2636.0</td>\n      <td>13.0</td>\n      <td>10.0</td>\n      <td>10.0</td>\n      <td>9.0</td>\n      <td>4.0</td>\n      <td>4.0</td>\n      <td>8.0</td>\n      <td>9.0</td>\n      <td>2.0</td>\n      <td>10.0</td>\n      <td>4.0</td>\n      <td>6.0</td>\n      <td>3.0</td>\n      <td>4.0</td>\n      <td>6.0</td>\n      <td>2.0</td>\n      <td>4.0</td>\n      <td>NaN</td>\n    </tr>\n    <tr>\n      <th>2017-04</th>\n      <td>2352.0</td>\n      <td>14.0</td>\n      <td>5.0</td>\n      <td>4.0</td>\n      <td>8.0</td>\n      <td>6.0</td>\n      <td>8.0</td>\n      <td>7.0</td>\n      <td>7.0</td>\n      <td>4.0</td>\n      <td>6.0</td>\n      <td>2.0</td>\n      <td>2.0</td>\n      <td>1.0</td>\n      <td>2.0</td>\n      <td>2.0</td>\n      <td>5.0</td>\n      <td>NaN</td>\n      <td>NaN</td>\n    </tr>\n    <tr>\n      <th>2017-05</th>\n      <td>3596.0</td>\n      <td>18.0</td>\n      <td>18.0</td>\n      <td>14.0</td>\n      <td>11.0</td>\n      <td>12.0</td>\n      <td>15.0</td>\n      <td>6.0</td>\n      <td>9.0</td>\n      <td>11.0</td>\n      <td>9.0</td>\n      <td>12.0</td>\n      <td>9.0</td>\n      <td>1.0</td>\n      <td>7.0</td>\n      <td>9.0</td>\n      <td>NaN</td>\n      <td>NaN</td>\n      <td>NaN</td>\n    </tr>\n  </tbody>\n</table>\n</div>"
     },
     "execution_count": 103,
     "metadata": {},
     "output_type": "execute_result"
    }
   ],
   "source": [
    "cohort_pivot = answer5.pivot(index='first_month', columns = 'months_difference', values = 'customers')\n",
    "cohort_pivot.head()"
   ],
   "metadata": {
    "collapsed": false,
    "pycharm": {
     "name": "#%%\n"
    }
   }
  },
  {
   "cell_type": "code",
   "execution_count": 104,
   "outputs": [],
   "source": [
    "cohort_size = cohort_pivot.iloc[:,0]\n",
    "retention_matrix = cohort_pivot.divide(cohort_size, axis = 0)"
   ],
   "metadata": {
    "collapsed": false,
    "pycharm": {
     "name": "#%%\n"
    }
   }
  },
  {
   "cell_type": "code",
   "execution_count": 105,
   "outputs": [
    {
     "data": {
      "text/plain": "<pandas.io.formats.style.Styler at 0x7f2cd38d7130>",
      "text/html": "<style type=\"text/css\">\n#T_3cd46_row0_col0, #T_3cd46_row0_col18, #T_3cd46_row1_col0, #T_3cd46_row1_col1, #T_3cd46_row1_col5, #T_3cd46_row1_col10, #T_3cd46_row1_col15, #T_3cd46_row1_col16, #T_3cd46_row2_col0, #T_3cd46_row2_col17, #T_3cd46_row3_col0, #T_3cd46_row3_col2, #T_3cd46_row3_col12, #T_3cd46_row3_col14, #T_3cd46_row4_col0, #T_3cd46_row4_col13, #T_3cd46_row5_col0, #T_3cd46_row5_col8, #T_3cd46_row6_col0, #T_3cd46_row7_col0, #T_3cd46_row8_col0, #T_3cd46_row8_col11, #T_3cd46_row9_col0, #T_3cd46_row9_col3, #T_3cd46_row10_col0, #T_3cd46_row10_col4, #T_3cd46_row10_col6, #T_3cd46_row10_col9, #T_3cd46_row11_col0, #T_3cd46_row11_col7 {\n  background-color: #440154;\n  color: #f1f1f1;\n}\n#T_3cd46_row0_col1, #T_3cd46_row7_col9 {\n  background-color: #2e6d8e;\n  color: #f1f1f1;\n}\n#T_3cd46_row0_col2, #T_3cd46_row10_col5 {\n  background-color: #453581;\n  color: #f1f1f1;\n}\n#T_3cd46_row0_col3 {\n  background-color: #472d7b;\n  color: #f1f1f1;\n}\n#T_3cd46_row0_col4 {\n  background-color: #5cc863;\n  color: #000000;\n}\n#T_3cd46_row0_col5, #T_3cd46_row3_col13 {\n  background-color: #471063;\n  color: #f1f1f1;\n}\n#T_3cd46_row0_col6, #T_3cd46_row0_col10, #T_3cd46_row0_col12, #T_3cd46_row0_col13, #T_3cd46_row0_col16, #T_3cd46_row0_col17, #T_3cd46_row2_col8, #T_3cd46_row4_col9, #T_3cd46_row4_col14, #T_3cd46_row4_col15, #T_3cd46_row5_col3, #T_3cd46_row5_col11, #T_3cd46_row7_col1, #T_3cd46_row7_col5, #T_3cd46_row8_col2, #T_3cd46_row8_col4, #T_3cd46_row9_col1, #T_3cd46_row9_col7 {\n  background-color: #fde725;\n  color: #000000;\n}\n#T_3cd46_row0_col7, #T_3cd46_row8_col5 {\n  background-color: #3b528b;\n  color: #f1f1f1;\n}\n#T_3cd46_row0_col8 {\n  background-color: #46075a;\n  color: #f1f1f1;\n}\n#T_3cd46_row0_col9, #T_3cd46_row3_col17, #T_3cd46_row4_col16, #T_3cd46_row4_col17, #T_3cd46_row5_col15, #T_3cd46_row5_col16, #T_3cd46_row5_col17, #T_3cd46_row6_col14, #T_3cd46_row6_col15, #T_3cd46_row6_col16, #T_3cd46_row6_col17, #T_3cd46_row7_col13, #T_3cd46_row7_col14, #T_3cd46_row7_col15, #T_3cd46_row7_col16, #T_3cd46_row7_col17, #T_3cd46_row8_col12, #T_3cd46_row8_col13, #T_3cd46_row8_col14, #T_3cd46_row8_col15, #T_3cd46_row8_col16, #T_3cd46_row8_col17, #T_3cd46_row9_col11, #T_3cd46_row9_col12, #T_3cd46_row9_col13, #T_3cd46_row9_col14, #T_3cd46_row9_col15, #T_3cd46_row9_col16, #T_3cd46_row9_col17, #T_3cd46_row10_col10, #T_3cd46_row10_col11, #T_3cd46_row10_col12, #T_3cd46_row10_col13, #T_3cd46_row10_col14, #T_3cd46_row10_col15, #T_3cd46_row10_col16, #T_3cd46_row10_col17, #T_3cd46_row11_col9, #T_3cd46_row11_col10, #T_3cd46_row11_col11, #T_3cd46_row11_col12, #T_3cd46_row11_col13, #T_3cd46_row11_col14, #T_3cd46_row11_col15, #T_3cd46_row11_col16, #T_3cd46_row11_col17 {\n  background-color: #000000;\n  color: #f1f1f1;\n  background-color: white;\n}\n#T_3cd46_row0_col11, #T_3cd46_row11_col5 {\n  background-color: #404688;\n  color: #f1f1f1;\n}\n#T_3cd46_row0_col14, #T_3cd46_row6_col10 {\n  background-color: #287d8e;\n  color: #f1f1f1;\n}\n#T_3cd46_row0_col15, #T_3cd46_row7_col2 {\n  background-color: #2c738e;\n  color: #f1f1f1;\n}\n#T_3cd46_row1_col2 {\n  background-color: #3e4c8a;\n  color: #f1f1f1;\n}\n#T_3cd46_row1_col3, #T_3cd46_row7_col8 {\n  background-color: #481c6e;\n  color: #f1f1f1;\n}\n#T_3cd46_row1_col4 {\n  background-color: #6ccd5a;\n  color: #000000;\n}\n#T_3cd46_row1_col6 {\n  background-color: #365c8d;\n  color: #f1f1f1;\n}\n#T_3cd46_row1_col7 {\n  background-color: #2b748e;\n  color: #f1f1f1;\n}\n#T_3cd46_row1_col8, #T_3cd46_row2_col12 {\n  background-color: #404588;\n  color: #f1f1f1;\n}\n#T_3cd46_row1_col9 {\n  background-color: #3fbc73;\n  color: #f1f1f1;\n}\n#T_3cd46_row1_col11 {\n  background-color: #67cc5c;\n  color: #000000;\n}\n#T_3cd46_row1_col12 {\n  background-color: #472c7a;\n  color: #f1f1f1;\n}\n#T_3cd46_row1_col13 {\n  background-color: #2a768e;\n  color: #f1f1f1;\n}\n#T_3cd46_row1_col14 {\n  background-color: #39568c;\n  color: #f1f1f1;\n}\n#T_3cd46_row1_col17 {\n  background-color: #32648e;\n  color: #f1f1f1;\n}\n#T_3cd46_row1_col18, #T_3cd46_row2_col18, #T_3cd46_row3_col18, #T_3cd46_row4_col18, #T_3cd46_row5_col18, #T_3cd46_row6_col18, #T_3cd46_row7_col18, #T_3cd46_row8_col18, #T_3cd46_row9_col18, #T_3cd46_row10_col18, #T_3cd46_row11_col18 {\n  background-color: #440154;\n  color: #f1f1f1;\n  background-color: white;\n}\n#T_3cd46_row2_col1 {\n  background-color: #1fa188;\n  color: #f1f1f1;\n}\n#T_3cd46_row2_col2 {\n  background-color: #1f958b;\n  color: #f1f1f1;\n}\n#T_3cd46_row2_col3 {\n  background-color: #b8de29;\n  color: #000000;\n}\n#T_3cd46_row2_col4, #T_3cd46_row3_col6, #T_3cd46_row5_col7 {\n  background-color: #1f9e89;\n  color: #f1f1f1;\n}\n#T_3cd46_row2_col5, #T_3cd46_row2_col16 {\n  background-color: #482173;\n  color: #f1f1f1;\n}\n#T_3cd46_row2_col6, #T_3cd46_row9_col2 {\n  background-color: #482576;\n  color: #f1f1f1;\n}\n#T_3cd46_row2_col7 {\n  background-color: #89d548;\n  color: #000000;\n}\n#T_3cd46_row2_col9 {\n  background-color: #481f70;\n  color: #f1f1f1;\n}\n#T_3cd46_row2_col10 {\n  background-color: #dfe318;\n  color: #000000;\n}\n#T_3cd46_row2_col11 {\n  background-color: #375b8d;\n  color: #f1f1f1;\n}\n#T_3cd46_row2_col13, #T_3cd46_row4_col12, #T_3cd46_row5_col4 {\n  background-color: #3d4e8a;\n  color: #f1f1f1;\n}\n#T_3cd46_row2_col14 {\n  background-color: #24aa83;\n  color: #f1f1f1;\n}\n#T_3cd46_row2_col15 {\n  background-color: #b0dd2f;\n  color: #000000;\n}\n#T_3cd46_row3_col1 {\n  background-color: #73d056;\n  color: #000000;\n}\n#T_3cd46_row3_col3 {\n  background-color: #3b518b;\n  color: #f1f1f1;\n}\n#T_3cd46_row3_col4 {\n  background-color: #1e9d89;\n  color: #f1f1f1;\n}\n#T_3cd46_row3_col5 {\n  background-color: #306a8e;\n  color: #f1f1f1;\n}\n#T_3cd46_row3_col7, #T_3cd46_row6_col9 {\n  background-color: #7cd250;\n  color: #000000;\n}\n#T_3cd46_row3_col8 {\n  background-color: #77d153;\n  color: #000000;\n}\n#T_3cd46_row3_col9, #T_3cd46_row6_col2 {\n  background-color: #24868e;\n  color: #f1f1f1;\n}\n#T_3cd46_row3_col10 {\n  background-color: #20928c;\n  color: #f1f1f1;\n}\n#T_3cd46_row3_col11, #T_3cd46_row10_col8 {\n  background-color: #471164;\n  color: #f1f1f1;\n}\n#T_3cd46_row3_col15 {\n  background-color: #46337f;\n  color: #f1f1f1;\n}\n#T_3cd46_row3_col16 {\n  background-color: #63cb5f;\n  color: #000000;\n}\n#T_3cd46_row4_col1, #T_3cd46_row9_col9 {\n  background-color: #20a486;\n  color: #f1f1f1;\n}\n#T_3cd46_row4_col2 {\n  background-color: #bddf26;\n  color: #000000;\n}\n#T_3cd46_row4_col3 {\n  background-color: #cde11d;\n  color: #000000;\n}\n#T_3cd46_row4_col4 {\n  background-color: #277e8e;\n  color: #f1f1f1;\n}\n#T_3cd46_row4_col5, #T_3cd46_row7_col3, #T_3cd46_row10_col2 {\n  background-color: #1f988b;\n  color: #f1f1f1;\n}\n#T_3cd46_row4_col6 {\n  background-color: #5ac864;\n  color: #000000;\n}\n#T_3cd46_row4_col7 {\n  background-color: #2d718e;\n  color: #f1f1f1;\n}\n#T_3cd46_row4_col8 {\n  background-color: #1fa187;\n  color: #f1f1f1;\n}\n#T_3cd46_row4_col10 {\n  background-color: #218e8d;\n  color: #f1f1f1;\n}\n#T_3cd46_row4_col11 {\n  background-color: #d8e219;\n  color: #000000;\n}\n#T_3cd46_row5_col1 {\n  background-color: #1f998a;\n  color: #f1f1f1;\n}\n#T_3cd46_row5_col2 {\n  background-color: #27808e;\n  color: #f1f1f1;\n}\n#T_3cd46_row5_col5 {\n  background-color: #2fb47c;\n  color: #f1f1f1;\n}\n#T_3cd46_row5_col6, #T_3cd46_row9_col8 {\n  background-color: #32b67a;\n  color: #f1f1f1;\n}\n#T_3cd46_row5_col9 {\n  background-color: #37b878;\n  color: #f1f1f1;\n}\n#T_3cd46_row5_col10 {\n  background-color: #54c568;\n  color: #000000;\n}\n#T_3cd46_row5_col12 {\n  background-color: #482677;\n  color: #f1f1f1;\n}\n#T_3cd46_row5_col13, #T_3cd46_row10_col3 {\n  background-color: #38588c;\n  color: #f1f1f1;\n}\n#T_3cd46_row5_col14, #T_3cd46_row8_col1 {\n  background-color: #eae51a;\n  color: #000000;\n}\n#T_3cd46_row6_col1 {\n  background-color: #25ac82;\n  color: #f1f1f1;\n}\n#T_3cd46_row6_col3 {\n  background-color: #20938c;\n  color: #f1f1f1;\n}\n#T_3cd46_row6_col4 {\n  background-color: #30698e;\n  color: #f1f1f1;\n}\n#T_3cd46_row6_col5 {\n  background-color: #3e4989;\n  color: #f1f1f1;\n}\n#T_3cd46_row6_col6 {\n  background-color: #228b8d;\n  color: #f1f1f1;\n}\n#T_3cd46_row6_col7 {\n  background-color: #453781;\n  color: #f1f1f1;\n}\n#T_3cd46_row6_col8 {\n  background-color: #3c508b;\n  color: #f1f1f1;\n}\n#T_3cd46_row6_col11 {\n  background-color: #9bd93c;\n  color: #000000;\n}\n#T_3cd46_row6_col12 {\n  background-color: #481769;\n  color: #f1f1f1;\n}\n#T_3cd46_row6_col13 {\n  background-color: #28ae80;\n  color: #f1f1f1;\n}\n#T_3cd46_row7_col4 {\n  background-color: #27ad81;\n  color: #f1f1f1;\n}\n#T_3cd46_row7_col6, #T_3cd46_row7_col11, #T_3cd46_row11_col8 {\n  background-color: #277f8e;\n  color: #f1f1f1;\n}\n#T_3cd46_row7_col7, #T_3cd46_row10_col1 {\n  background-color: #3dbc74;\n  color: #f1f1f1;\n}\n#T_3cd46_row7_col10 {\n  background-color: #25838e;\n  color: #f1f1f1;\n}\n#T_3cd46_row7_col12 {\n  background-color: #450559;\n  color: #f1f1f1;\n}\n#T_3cd46_row8_col3, #T_3cd46_row8_col7 {\n  background-color: #26ad81;\n  color: #f1f1f1;\n}\n#T_3cd46_row8_col6 {\n  background-color: #39558c;\n  color: #f1f1f1;\n}\n#T_3cd46_row8_col8 {\n  background-color: #65cb5e;\n  color: #000000;\n}\n#T_3cd46_row8_col9 {\n  background-color: #25858e;\n  color: #f1f1f1;\n}\n#T_3cd46_row8_col10 {\n  background-color: #1e9b8a;\n  color: #f1f1f1;\n}\n#T_3cd46_row9_col4 {\n  background-color: #472a7a;\n  color: #f1f1f1;\n}\n#T_3cd46_row9_col5 {\n  background-color: #3f4788;\n  color: #f1f1f1;\n}\n#T_3cd46_row9_col6 {\n  background-color: #38598c;\n  color: #f1f1f1;\n}\n#T_3cd46_row9_col10 {\n  background-color: #33638d;\n  color: #f1f1f1;\n}\n#T_3cd46_row10_col7 {\n  background-color: #25848e;\n  color: #f1f1f1;\n}\n#T_3cd46_row11_col1 {\n  background-color: #481668;\n  color: #f1f1f1;\n}\n#T_3cd46_row11_col2 {\n  background-color: #424086;\n  color: #f1f1f1;\n}\n#T_3cd46_row11_col3 {\n  background-color: #75d054;\n  color: #000000;\n}\n#T_3cd46_row11_col4 {\n  background-color: #34608d;\n  color: #f1f1f1;\n}\n#T_3cd46_row11_col6 {\n  background-color: #472e7c;\n  color: #f1f1f1;\n}\n</style>\n<table id=\"T_3cd46\">\n  <caption>Когортный анализ</caption>\n  <thead>\n    <tr>\n      <th class=\"index_name level0\" >months_difference</th>\n      <th id=\"T_3cd46_level0_col0\" class=\"col_heading level0 col0\" >0</th>\n      <th id=\"T_3cd46_level0_col1\" class=\"col_heading level0 col1\" >1</th>\n      <th id=\"T_3cd46_level0_col2\" class=\"col_heading level0 col2\" >2</th>\n      <th id=\"T_3cd46_level0_col3\" class=\"col_heading level0 col3\" >3</th>\n      <th id=\"T_3cd46_level0_col4\" class=\"col_heading level0 col4\" >4</th>\n      <th id=\"T_3cd46_level0_col5\" class=\"col_heading level0 col5\" >5</th>\n      <th id=\"T_3cd46_level0_col6\" class=\"col_heading level0 col6\" >6</th>\n      <th id=\"T_3cd46_level0_col7\" class=\"col_heading level0 col7\" >7</th>\n      <th id=\"T_3cd46_level0_col8\" class=\"col_heading level0 col8\" >8</th>\n      <th id=\"T_3cd46_level0_col9\" class=\"col_heading level0 col9\" >9</th>\n      <th id=\"T_3cd46_level0_col10\" class=\"col_heading level0 col10\" >10</th>\n      <th id=\"T_3cd46_level0_col11\" class=\"col_heading level0 col11\" >11</th>\n      <th id=\"T_3cd46_level0_col12\" class=\"col_heading level0 col12\" >12</th>\n      <th id=\"T_3cd46_level0_col13\" class=\"col_heading level0 col13\" >13</th>\n      <th id=\"T_3cd46_level0_col14\" class=\"col_heading level0 col14\" >14</th>\n      <th id=\"T_3cd46_level0_col15\" class=\"col_heading level0 col15\" >15</th>\n      <th id=\"T_3cd46_level0_col16\" class=\"col_heading level0 col16\" >16</th>\n      <th id=\"T_3cd46_level0_col17\" class=\"col_heading level0 col17\" >17</th>\n      <th id=\"T_3cd46_level0_col18\" class=\"col_heading level0 col18\" >19</th>\n    </tr>\n    <tr>\n      <th class=\"index_name level0\" >first_month</th>\n      <th class=\"blank col0\" >&nbsp;</th>\n      <th class=\"blank col1\" >&nbsp;</th>\n      <th class=\"blank col2\" >&nbsp;</th>\n      <th class=\"blank col3\" >&nbsp;</th>\n      <th class=\"blank col4\" >&nbsp;</th>\n      <th class=\"blank col5\" >&nbsp;</th>\n      <th class=\"blank col6\" >&nbsp;</th>\n      <th class=\"blank col7\" >&nbsp;</th>\n      <th class=\"blank col8\" >&nbsp;</th>\n      <th class=\"blank col9\" >&nbsp;</th>\n      <th class=\"blank col10\" >&nbsp;</th>\n      <th class=\"blank col11\" >&nbsp;</th>\n      <th class=\"blank col12\" >&nbsp;</th>\n      <th class=\"blank col13\" >&nbsp;</th>\n      <th class=\"blank col14\" >&nbsp;</th>\n      <th class=\"blank col15\" >&nbsp;</th>\n      <th class=\"blank col16\" >&nbsp;</th>\n      <th class=\"blank col17\" >&nbsp;</th>\n      <th class=\"blank col18\" >&nbsp;</th>\n    </tr>\n  </thead>\n  <tbody>\n    <tr>\n      <th id=\"T_3cd46_level0_row0\" class=\"row_heading level0 row0\" >2017-01</th>\n      <td id=\"T_3cd46_row0_col0\" class=\"data row0 col0\" >100.00%</td>\n      <td id=\"T_3cd46_row0_col1\" class=\"data row0 col1\" >0.39%</td>\n      <td id=\"T_3cd46_row0_col2\" class=\"data row0 col2\" >0.26%</td>\n      <td id=\"T_3cd46_row0_col3\" class=\"data row0 col3\" >0.13%</td>\n      <td id=\"T_3cd46_row0_col4\" class=\"data row0 col4\" >0.39%</td>\n      <td id=\"T_3cd46_row0_col5\" class=\"data row0 col5\" >0.13%</td>\n      <td id=\"T_3cd46_row0_col6\" class=\"data row0 col6\" >0.52%</td>\n      <td id=\"T_3cd46_row0_col7\" class=\"data row0 col7\" >0.13%</td>\n      <td id=\"T_3cd46_row0_col8\" class=\"data row0 col8\" >0.13%</td>\n      <td id=\"T_3cd46_row0_col9\" class=\"data row0 col9\" ></td>\n      <td id=\"T_3cd46_row0_col10\" class=\"data row0 col10\" >0.39%</td>\n      <td id=\"T_3cd46_row0_col11\" class=\"data row0 col11\" >0.13%</td>\n      <td id=\"T_3cd46_row0_col12\" class=\"data row0 col12\" >0.79%</td>\n      <td id=\"T_3cd46_row0_col13\" class=\"data row0 col13\" >0.39%</td>\n      <td id=\"T_3cd46_row0_col14\" class=\"data row0 col14\" >0.13%</td>\n      <td id=\"T_3cd46_row0_col15\" class=\"data row0 col15\" >0.13%</td>\n      <td id=\"T_3cd46_row0_col16\" class=\"data row0 col16\" >0.26%</td>\n      <td id=\"T_3cd46_row0_col17\" class=\"data row0 col17\" >0.39%</td>\n      <td id=\"T_3cd46_row0_col18\" class=\"data row0 col18\" >0.13%</td>\n    </tr>\n    <tr>\n      <th id=\"T_3cd46_level0_row1\" class=\"row_heading level0 row1\" >2017-02</th>\n      <td id=\"T_3cd46_row1_col0\" class=\"data row1 col0\" >100.00%</td>\n      <td id=\"T_3cd46_row1_col1\" class=\"data row1 col1\" >0.23%</td>\n      <td id=\"T_3cd46_row1_col2\" class=\"data row1 col2\" >0.29%</td>\n      <td id=\"T_3cd46_row1_col3\" class=\"data row1 col3\" >0.11%</td>\n      <td id=\"T_3cd46_row1_col4\" class=\"data row1 col4\" >0.40%</td>\n      <td id=\"T_3cd46_row1_col5\" class=\"data row1 col5\" >0.11%</td>\n      <td id=\"T_3cd46_row1_col6\" class=\"data row1 col6\" >0.23%</td>\n      <td id=\"T_3cd46_row1_col7\" class=\"data row1 col7\" >0.17%</td>\n      <td id=\"T_3cd46_row1_col8\" class=\"data row1 col8\" >0.17%</td>\n      <td id=\"T_3cd46_row1_col9\" class=\"data row1 col9\" >0.23%</td>\n      <td id=\"T_3cd46_row1_col10\" class=\"data row1 col10\" >0.11%</td>\n      <td id=\"T_3cd46_row1_col11\" class=\"data row1 col11\" >0.29%</td>\n      <td id=\"T_3cd46_row1_col12\" class=\"data row1 col12\" >0.17%</td>\n      <td id=\"T_3cd46_row1_col13\" class=\"data row1 col13\" >0.17%</td>\n      <td id=\"T_3cd46_row1_col14\" class=\"data row1 col14\" >0.11%</td>\n      <td id=\"T_3cd46_row1_col15\" class=\"data row1 col15\" >0.06%</td>\n      <td id=\"T_3cd46_row1_col16\" class=\"data row1 col16\" >0.06%</td>\n      <td id=\"T_3cd46_row1_col17\" class=\"data row1 col17\" >0.23%</td>\n      <td id=\"T_3cd46_row1_col18\" class=\"data row1 col18\" ></td>\n    </tr>\n    <tr>\n      <th id=\"T_3cd46_level0_row2\" class=\"row_heading level0 row2\" >2017-03</th>\n      <td id=\"T_3cd46_row2_col0\" class=\"data row2 col0\" >100.00%</td>\n      <td id=\"T_3cd46_row2_col1\" class=\"data row2 col1\" >0.49%</td>\n      <td id=\"T_3cd46_row2_col2\" class=\"data row2 col2\" >0.38%</td>\n      <td id=\"T_3cd46_row2_col3\" class=\"data row2 col3\" >0.38%</td>\n      <td id=\"T_3cd46_row2_col4\" class=\"data row2 col4\" >0.34%</td>\n      <td id=\"T_3cd46_row2_col5\" class=\"data row2 col5\" >0.15%</td>\n      <td id=\"T_3cd46_row2_col6\" class=\"data row2 col6\" >0.15%</td>\n      <td id=\"T_3cd46_row2_col7\" class=\"data row2 col7\" >0.30%</td>\n      <td id=\"T_3cd46_row2_col8\" class=\"data row2 col8\" >0.34%</td>\n      <td id=\"T_3cd46_row2_col9\" class=\"data row2 col9\" >0.08%</td>\n      <td id=\"T_3cd46_row2_col10\" class=\"data row2 col10\" >0.38%</td>\n      <td id=\"T_3cd46_row2_col11\" class=\"data row2 col11\" >0.15%</td>\n      <td id=\"T_3cd46_row2_col12\" class=\"data row2 col12\" >0.23%</td>\n      <td id=\"T_3cd46_row2_col13\" class=\"data row2 col13\" >0.11%</td>\n      <td id=\"T_3cd46_row2_col14\" class=\"data row2 col14\" >0.15%</td>\n      <td id=\"T_3cd46_row2_col15\" class=\"data row2 col15\" >0.23%</td>\n      <td id=\"T_3cd46_row2_col16\" class=\"data row2 col16\" >0.08%</td>\n      <td id=\"T_3cd46_row2_col17\" class=\"data row2 col17\" >0.15%</td>\n      <td id=\"T_3cd46_row2_col18\" class=\"data row2 col18\" ></td>\n    </tr>\n    <tr>\n      <th id=\"T_3cd46_level0_row3\" class=\"row_heading level0 row3\" >2017-04</th>\n      <td id=\"T_3cd46_row3_col0\" class=\"data row3 col0\" >100.00%</td>\n      <td id=\"T_3cd46_row3_col1\" class=\"data row3 col1\" >0.60%</td>\n      <td id=\"T_3cd46_row3_col2\" class=\"data row3 col2\" >0.21%</td>\n      <td id=\"T_3cd46_row3_col3\" class=\"data row3 col3\" >0.17%</td>\n      <td id=\"T_3cd46_row3_col4\" class=\"data row3 col4\" >0.34%</td>\n      <td id=\"T_3cd46_row3_col5\" class=\"data row3 col5\" >0.26%</td>\n      <td id=\"T_3cd46_row3_col6\" class=\"data row3 col6\" >0.34%</td>\n      <td id=\"T_3cd46_row3_col7\" class=\"data row3 col7\" >0.30%</td>\n      <td id=\"T_3cd46_row3_col8\" class=\"data row3 col8\" >0.30%</td>\n      <td id=\"T_3cd46_row3_col9\" class=\"data row3 col9\" >0.17%</td>\n      <td id=\"T_3cd46_row3_col10\" class=\"data row3 col10\" >0.26%</td>\n      <td id=\"T_3cd46_row3_col11\" class=\"data row3 col11\" >0.09%</td>\n      <td id=\"T_3cd46_row3_col12\" class=\"data row3 col12\" >0.09%</td>\n      <td id=\"T_3cd46_row3_col13\" class=\"data row3 col13\" >0.04%</td>\n      <td id=\"T_3cd46_row3_col14\" class=\"data row3 col14\" >0.09%</td>\n      <td id=\"T_3cd46_row3_col15\" class=\"data row3 col15\" >0.09%</td>\n      <td id=\"T_3cd46_row3_col16\" class=\"data row3 col16\" >0.21%</td>\n      <td id=\"T_3cd46_row3_col17\" class=\"data row3 col17\" ></td>\n      <td id=\"T_3cd46_row3_col18\" class=\"data row3 col18\" ></td>\n    </tr>\n    <tr>\n      <th id=\"T_3cd46_level0_row4\" class=\"row_heading level0 row4\" >2017-05</th>\n      <td id=\"T_3cd46_row4_col0\" class=\"data row4 col0\" >100.00%</td>\n      <td id=\"T_3cd46_row4_col1\" class=\"data row4 col1\" >0.50%</td>\n      <td id=\"T_3cd46_row4_col2\" class=\"data row4 col2\" >0.50%</td>\n      <td id=\"T_3cd46_row4_col3\" class=\"data row4 col3\" >0.39%</td>\n      <td id=\"T_3cd46_row4_col4\" class=\"data row4 col4\" >0.31%</td>\n      <td id=\"T_3cd46_row4_col5\" class=\"data row4 col5\" >0.33%</td>\n      <td id=\"T_3cd46_row4_col6\" class=\"data row4 col6\" >0.42%</td>\n      <td id=\"T_3cd46_row4_col7\" class=\"data row4 col7\" >0.17%</td>\n      <td id=\"T_3cd46_row4_col8\" class=\"data row4 col8\" >0.25%</td>\n      <td id=\"T_3cd46_row4_col9\" class=\"data row4 col9\" >0.31%</td>\n      <td id=\"T_3cd46_row4_col10\" class=\"data row4 col10\" >0.25%</td>\n      <td id=\"T_3cd46_row4_col11\" class=\"data row4 col11\" >0.33%</td>\n      <td id=\"T_3cd46_row4_col12\" class=\"data row4 col12\" >0.25%</td>\n      <td id=\"T_3cd46_row4_col13\" class=\"data row4 col13\" >0.03%</td>\n      <td id=\"T_3cd46_row4_col14\" class=\"data row4 col14\" >0.19%</td>\n      <td id=\"T_3cd46_row4_col15\" class=\"data row4 col15\" >0.25%</td>\n      <td id=\"T_3cd46_row4_col16\" class=\"data row4 col16\" ></td>\n      <td id=\"T_3cd46_row4_col17\" class=\"data row4 col17\" ></td>\n      <td id=\"T_3cd46_row4_col18\" class=\"data row4 col18\" ></td>\n    </tr>\n    <tr>\n      <th id=\"T_3cd46_level0_row5\" class=\"row_heading level0 row5\" >2017-06</th>\n      <td id=\"T_3cd46_row5_col0\" class=\"data row5 col0\" >100.00%</td>\n      <td id=\"T_3cd46_row5_col1\" class=\"data row5 col1\" >0.48%</td>\n      <td id=\"T_3cd46_row5_col2\" class=\"data row5 col2\" >0.35%</td>\n      <td id=\"T_3cd46_row5_col3\" class=\"data row5 col3\" >0.41%</td>\n      <td id=\"T_3cd46_row5_col4\" class=\"data row5 col4\" >0.25%</td>\n      <td id=\"T_3cd46_row5_col5\" class=\"data row5 col5\" >0.38%</td>\n      <td id=\"T_3cd46_row5_col6\" class=\"data row5 col6\" >0.38%</td>\n      <td id=\"T_3cd46_row5_col7\" class=\"data row5 col7\" >0.22%</td>\n      <td id=\"T_3cd46_row5_col8\" class=\"data row5 col8\" >0.13%</td>\n      <td id=\"T_3cd46_row5_col9\" class=\"data row5 col9\" >0.22%</td>\n      <td id=\"T_3cd46_row5_col10\" class=\"data row5 col10\" >0.32%</td>\n      <td id=\"T_3cd46_row5_col11\" class=\"data row5 col11\" >0.35%</td>\n      <td id=\"T_3cd46_row5_col12\" class=\"data row5 col12\" >0.16%</td>\n      <td id=\"T_3cd46_row5_col13\" class=\"data row5 col13\" >0.13%</td>\n      <td id=\"T_3cd46_row5_col14\" class=\"data row5 col14\" >0.19%</td>\n      <td id=\"T_3cd46_row5_col15\" class=\"data row5 col15\" ></td>\n      <td id=\"T_3cd46_row5_col16\" class=\"data row5 col16\" ></td>\n      <td id=\"T_3cd46_row5_col17\" class=\"data row5 col17\" ></td>\n      <td id=\"T_3cd46_row5_col18\" class=\"data row5 col18\" ></td>\n    </tr>\n    <tr>\n      <th id=\"T_3cd46_level0_row6\" class=\"row_heading level0 row6\" >2017-07</th>\n      <td id=\"T_3cd46_row6_col0\" class=\"data row6 col0\" >100.00%</td>\n      <td id=\"T_3cd46_row6_col1\" class=\"data row6 col1\" >0.51%</td>\n      <td id=\"T_3cd46_row6_col2\" class=\"data row6 col2\" >0.36%</td>\n      <td id=\"T_3cd46_row6_col3\" class=\"data row6 col3\" >0.26%</td>\n      <td id=\"T_3cd46_row6_col4\" class=\"data row6 col4\" >0.28%</td>\n      <td id=\"T_3cd46_row6_col5\" class=\"data row6 col5\" >0.21%</td>\n      <td id=\"T_3cd46_row6_col6\" class=\"data row6 col6\" >0.31%</td>\n      <td id=\"T_3cd46_row6_col7\" class=\"data row6 col7\" >0.10%</td>\n      <td id=\"T_3cd46_row6_col8\" class=\"data row6 col8\" >0.18%</td>\n      <td id=\"T_3cd46_row6_col9\" class=\"data row6 col9\" >0.26%</td>\n      <td id=\"T_3cd46_row6_col10\" class=\"data row6 col10\" >0.23%</td>\n      <td id=\"T_3cd46_row6_col11\" class=\"data row6 col11\" >0.31%</td>\n      <td id=\"T_3cd46_row6_col12\" class=\"data row6 col12\" >0.13%</td>\n      <td id=\"T_3cd46_row6_col13\" class=\"data row6 col13\" >0.26%</td>\n      <td id=\"T_3cd46_row6_col14\" class=\"data row6 col14\" ></td>\n      <td id=\"T_3cd46_row6_col15\" class=\"data row6 col15\" ></td>\n      <td id=\"T_3cd46_row6_col16\" class=\"data row6 col16\" ></td>\n      <td id=\"T_3cd46_row6_col17\" class=\"data row6 col17\" ></td>\n      <td id=\"T_3cd46_row6_col18\" class=\"data row6 col18\" ></td>\n    </tr>\n    <tr>\n      <th id=\"T_3cd46_level0_row7\" class=\"row_heading level0 row7\" >2017-08</th>\n      <td id=\"T_3cd46_row7_col0\" class=\"data row7 col0\" >100.00%</td>\n      <td id=\"T_3cd46_row7_col1\" class=\"data row7 col1\" >0.69%</td>\n      <td id=\"T_3cd46_row7_col2\" class=\"data row7 col2\" >0.33%</td>\n      <td id=\"T_3cd46_row7_col3\" class=\"data row7 col3\" >0.26%</td>\n      <td id=\"T_3cd46_row7_col4\" class=\"data row7 col4\" >0.36%</td>\n      <td id=\"T_3cd46_row7_col5\" class=\"data row7 col5\" >0.53%</td>\n      <td id=\"T_3cd46_row7_col6\" class=\"data row7 col6\" >0.29%</td>\n      <td id=\"T_3cd46_row7_col7\" class=\"data row7 col7\" >0.26%</td>\n      <td id=\"T_3cd46_row7_col8\" class=\"data row7 col8\" >0.14%</td>\n      <td id=\"T_3cd46_row7_col9\" class=\"data row7 col9\" >0.14%</td>\n      <td id=\"T_3cd46_row7_col10\" class=\"data row7 col10\" >0.24%</td>\n      <td id=\"T_3cd46_row7_col11\" class=\"data row7 col11\" >0.19%</td>\n      <td id=\"T_3cd46_row7_col12\" class=\"data row7 col12\" >0.10%</td>\n      <td id=\"T_3cd46_row7_col13\" class=\"data row7 col13\" ></td>\n      <td id=\"T_3cd46_row7_col14\" class=\"data row7 col14\" ></td>\n      <td id=\"T_3cd46_row7_col15\" class=\"data row7 col15\" ></td>\n      <td id=\"T_3cd46_row7_col16\" class=\"data row7 col16\" ></td>\n      <td id=\"T_3cd46_row7_col17\" class=\"data row7 col17\" ></td>\n      <td id=\"T_3cd46_row7_col18\" class=\"data row7 col18\" ></td>\n    </tr>\n    <tr>\n      <th id=\"T_3cd46_level0_row8\" class=\"row_heading level0 row8\" >2017-09</th>\n      <td id=\"T_3cd46_row8_col0\" class=\"data row8 col0\" >100.00%</td>\n      <td id=\"T_3cd46_row8_col1\" class=\"data row8 col1\" >0.68%</td>\n      <td id=\"T_3cd46_row8_col2\" class=\"data row8 col2\" >0.53%</td>\n      <td id=\"T_3cd46_row8_col3\" class=\"data row8 col3\" >0.29%</td>\n      <td id=\"T_3cd46_row8_col4\" class=\"data row8 col4\" >0.46%</td>\n      <td id=\"T_3cd46_row8_col5\" class=\"data row8 col5\" >0.22%</td>\n      <td id=\"T_3cd46_row8_col6\" class=\"data row8 col6\" >0.22%</td>\n      <td id=\"T_3cd46_row8_col7\" class=\"data row8 col7\" >0.24%</td>\n      <td id=\"T_3cd46_row8_col8\" class=\"data row8 col8\" >0.29%</td>\n      <td id=\"T_3cd46_row8_col9\" class=\"data row8 col9\" >0.17%</td>\n      <td id=\"T_3cd46_row8_col10\" class=\"data row8 col10\" >0.27%</td>\n      <td id=\"T_3cd46_row8_col11\" class=\"data row8 col11\" >0.07%</td>\n      <td id=\"T_3cd46_row8_col12\" class=\"data row8 col12\" ></td>\n      <td id=\"T_3cd46_row8_col13\" class=\"data row8 col13\" ></td>\n      <td id=\"T_3cd46_row8_col14\" class=\"data row8 col14\" ></td>\n      <td id=\"T_3cd46_row8_col15\" class=\"data row8 col15\" ></td>\n      <td id=\"T_3cd46_row8_col16\" class=\"data row8 col16\" ></td>\n      <td id=\"T_3cd46_row8_col17\" class=\"data row8 col17\" ></td>\n      <td id=\"T_3cd46_row8_col18\" class=\"data row8 col18\" ></td>\n    </tr>\n    <tr>\n      <th id=\"T_3cd46_level0_row9\" class=\"row_heading level0 row9\" >2017-10</th>\n      <td id=\"T_3cd46_row9_col0\" class=\"data row9 col0\" >100.00%</td>\n      <td id=\"T_3cd46_row9_col1\" class=\"data row9 col1\" >0.69%</td>\n      <td id=\"T_3cd46_row9_col2\" class=\"data row9 col2\" >0.25%</td>\n      <td id=\"T_3cd46_row9_col3\" class=\"data row9 col3\" >0.09%</td>\n      <td id=\"T_3cd46_row9_col4\" class=\"data row9 col4\" >0.22%</td>\n      <td id=\"T_3cd46_row9_col5\" class=\"data row9 col5\" >0.20%</td>\n      <td id=\"T_3cd46_row9_col6\" class=\"data row9 col6\" >0.22%</td>\n      <td id=\"T_3cd46_row9_col7\" class=\"data row9 col7\" >0.36%</td>\n      <td id=\"T_3cd46_row9_col8\" class=\"data row9 col8\" >0.27%</td>\n      <td id=\"T_3cd46_row9_col9\" class=\"data row9 col9\" >0.20%</td>\n      <td id=\"T_3cd46_row9_col10\" class=\"data row9 col10\" >0.20%</td>\n      <td id=\"T_3cd46_row9_col11\" class=\"data row9 col11\" ></td>\n      <td id=\"T_3cd46_row9_col12\" class=\"data row9 col12\" ></td>\n      <td id=\"T_3cd46_row9_col13\" class=\"data row9 col13\" ></td>\n      <td id=\"T_3cd46_row9_col14\" class=\"data row9 col14\" ></td>\n      <td id=\"T_3cd46_row9_col15\" class=\"data row9 col15\" ></td>\n      <td id=\"T_3cd46_row9_col16\" class=\"data row9 col16\" ></td>\n      <td id=\"T_3cd46_row9_col17\" class=\"data row9 col17\" ></td>\n      <td id=\"T_3cd46_row9_col18\" class=\"data row9 col18\" ></td>\n    </tr>\n    <tr>\n      <th id=\"T_3cd46_level0_row10\" class=\"row_heading level0 row10\" >2017-11</th>\n      <td id=\"T_3cd46_row10_col0\" class=\"data row10 col0\" >100.00%</td>\n      <td id=\"T_3cd46_row10_col1\" class=\"data row10 col1\" >0.55%</td>\n      <td id=\"T_3cd46_row10_col2\" class=\"data row10 col2\" >0.38%</td>\n      <td id=\"T_3cd46_row10_col3\" class=\"data row10 col3\" >0.18%</td>\n      <td id=\"T_3cd46_row10_col4\" class=\"data row10 col4\" >0.19%</td>\n      <td id=\"T_3cd46_row10_col5\" class=\"data row10 col5\" >0.18%</td>\n      <td id=\"T_3cd46_row10_col6\" class=\"data row10 col6\" >0.11%</td>\n      <td id=\"T_3cd46_row10_col7\" class=\"data row10 col7\" >0.19%</td>\n      <td id=\"T_3cd46_row10_col8\" class=\"data row10 col8\" >0.14%</td>\n      <td id=\"T_3cd46_row10_col9\" class=\"data row10 col9\" >0.05%</td>\n      <td id=\"T_3cd46_row10_col10\" class=\"data row10 col10\" ></td>\n      <td id=\"T_3cd46_row10_col11\" class=\"data row10 col11\" ></td>\n      <td id=\"T_3cd46_row10_col12\" class=\"data row10 col12\" ></td>\n      <td id=\"T_3cd46_row10_col13\" class=\"data row10 col13\" ></td>\n      <td id=\"T_3cd46_row10_col14\" class=\"data row10 col14\" ></td>\n      <td id=\"T_3cd46_row10_col15\" class=\"data row10 col15\" ></td>\n      <td id=\"T_3cd46_row10_col16\" class=\"data row10 col16\" ></td>\n      <td id=\"T_3cd46_row10_col17\" class=\"data row10 col17\" ></td>\n      <td id=\"T_3cd46_row10_col18\" class=\"data row10 col18\" ></td>\n    </tr>\n    <tr>\n      <th id=\"T_3cd46_level0_row11\" class=\"row_heading level0 row11\" >2017-12</th>\n      <td id=\"T_3cd46_row11_col0\" class=\"data row11 col0\" >100.00%</td>\n      <td id=\"T_3cd46_row11_col1\" class=\"data row11 col1\" >0.26%</td>\n      <td id=\"T_3cd46_row11_col2\" class=\"data row11 col2\" >0.27%</td>\n      <td id=\"T_3cd46_row11_col3\" class=\"data row11 col3\" >0.35%</td>\n      <td id=\"T_3cd46_row11_col4\" class=\"data row11 col4\" >0.27%</td>\n      <td id=\"T_3cd46_row11_col5\" class=\"data row11 col5\" >0.20%</td>\n      <td id=\"T_3cd46_row11_col6\" class=\"data row11 col6\" >0.16%</td>\n      <td id=\"T_3cd46_row11_col7\" class=\"data row11 col7\" >0.05%</td>\n      <td id=\"T_3cd46_row11_col8\" class=\"data row11 col8\" >0.22%</td>\n      <td id=\"T_3cd46_row11_col9\" class=\"data row11 col9\" ></td>\n      <td id=\"T_3cd46_row11_col10\" class=\"data row11 col10\" ></td>\n      <td id=\"T_3cd46_row11_col11\" class=\"data row11 col11\" ></td>\n      <td id=\"T_3cd46_row11_col12\" class=\"data row11 col12\" ></td>\n      <td id=\"T_3cd46_row11_col13\" class=\"data row11 col13\" ></td>\n      <td id=\"T_3cd46_row11_col14\" class=\"data row11 col14\" ></td>\n      <td id=\"T_3cd46_row11_col15\" class=\"data row11 col15\" ></td>\n      <td id=\"T_3cd46_row11_col16\" class=\"data row11 col16\" ></td>\n      <td id=\"T_3cd46_row11_col17\" class=\"data row11 col17\" ></td>\n      <td id=\"T_3cd46_row11_col18\" class=\"data row11 col18\" ></td>\n    </tr>\n  </tbody>\n</table>\n"
     },
     "execution_count": 105,
     "metadata": {},
     "output_type": "execute_result"
    }
   ],
   "source": [
    "cohort_final = (retention_matrix\n",
    "                .style\n",
    "                .background_gradient(cmap='viridis')  # раскрашиваем ячейки по столбцам\n",
    "                .highlight_null('white')  # делаем белый фон для значений NaN\n",
    "                .set_caption('Когортный анализ')\n",
    "                .format(\"{:.2%}\", na_rep=\"\"))\n",
    "cohort_final"
   ],
   "metadata": {
    "collapsed": false,
    "pycharm": {
     "name": "#%%\n"
    }
   }
  },
  {
   "cell_type": "markdown",
   "source": [
    "Cамый высокий retention на 3 месяц был у когорты 2017-06"
   ],
   "metadata": {
    "collapsed": false,
    "pycharm": {
     "name": "#%% md\n"
    }
   }
  },
  {
   "cell_type": "markdown",
   "source": [
    "### Ответ на шестой вопрос:\n",
    "____"
   ],
   "metadata": {
    "collapsed": false,
    "pycharm": {
     "name": "#%% md\n"
    }
   }
  },
  {
   "cell_type": "markdown",
   "source": [
    "- Recency (R) as days since last purchase: How many days ago was their last purchase? Deduct most recent purchase date from today to calculate the recency value. 1 day ago? 14 days ago? 500 days ago?\n",
    "- Frequency (F) as the total number of transactions: How many times has the customer purchased from our store? For example, if someone placed 10 orders over a period of time, their frequency is 10.\n",
    "- Monetary (M) as total money spent: How many $$ (or whatever is your currency of calculation) has this customer spent? Simply total up the money from all transactions to get the M value.\n",
    "\n",
    "Честно очень помогло вот это, видимо на англ и вправду лучше все воспринимаю, а также вот хорошая статья:\n",
    "[Подробная информация](https://medium.com/analytics-vidhya/customer-segmentation-with-rfm-analysis-kmeans-clustering-32c387d04dfe)."
   ],
   "metadata": {
    "collapsed": false,
    "pycharm": {
     "name": "#%% md\n"
    }
   }
  },
  {
   "cell_type": "code",
   "execution_count": 106,
   "outputs": [],
   "source": [
    "from datetime import timedelta #понадобиться потом для симуляции даты наперёд"
   ],
   "metadata": {
    "collapsed": false,
    "pycharm": {
     "name": "#%%\n"
    }
   }
  },
  {
   "cell_type": "markdown",
   "source": [
    "У нас исторический dataset, поэтому 'сегодняшнею' дату мы будем симулировать, а что на счёт таблиц,  нам понадобяться все:"
   ],
   "metadata": {
    "collapsed": false,
    "pycharm": {
     "name": "#%% md\n"
    }
   }
  },
  {
   "cell_type": "code",
   "execution_count": 107,
   "outputs": [
    {
     "data": {
      "text/plain": "                        customer_id                customer_unique_id  \\\n0  06b8999e2fba1a1fbc88172c00ba8bc7  861eff4711a542e4b93843c6dd7febb0   \n1  18955e83d337fd6b2def6b18a428ac77  290c77bc529b7ac935b93aa66c333dc3   \n2  4e7b3e00288586ebd08712fdd0374a03  060e732b5b29e8181a18229c7b0b2b5e   \n3  b2b6027bc5c5109e529d4dc6358b12c3  259dac757896d24d7702b9acbbff3f3c   \n4  4f2d8ab171c80ec8364f7c12e35b23ad  345ecd01c38d18a9036ed96c73b8d066   \n\n   customer_zip_code_prefix          customer_city customer_state  \\\n0                     14409                 franca             SP   \n1                      9790  sao bernardo do campo             SP   \n2                      1151              sao paulo             SP   \n3                      8775        mogi das cruzes             SP   \n4                     13056               campinas             SP   \n\n                           order_id order_status order_purchase_timestamp  \\\n0  00e7ee1b050b8499577073aeb2a297a1    delivered               2017-05-01   \n1  29150127e6685892b6eab3eec79f59c7    delivered               2018-01-01   \n2  b2059ed67ce144a36e2aa97d2c9e9ad2    delivered               2018-05-01   \n3  951670f92359f4fe4a63112aa7306eba    delivered               2018-03-01   \n4  6b7d50bd145f6fc7f33cebabd7e49d0f    delivered               2018-07-01   \n\n    order_approved_at order_delivered_carrier_date  \\\n0 2017-05-16 15:22:12          2017-05-23 10:47:57   \n1 2018-01-12 20:58:32          2018-01-15 17:14:59   \n2 2018-05-20 16:19:10          2018-06-11 14:31:00   \n3 2018-03-13 17:29:19          2018-03-27 23:22:42   \n4 2018-07-29 10:10:09          2018-07-30 15:16:00   \n\n  order_delivered_customer_date order_estimated_delivery_date first_month  \\\n0           2017-05-25 10:35:35           2017-06-05 00:00:00     2017-05   \n1           2018-01-29 12:41:19           2018-02-06 00:00:00     2018-01   \n2           2018-06-14 17:58:51           2018-06-13 00:00:00     2018-05   \n3           2018-03-28 16:04:25           2018-04-10 00:00:00     2018-03   \n4           2018-08-09 20:55:48           2018-08-15 00:00:00     2018-07   \n\n   order_item_id                        product_id  \\\n0              1  a9516a079e37a9c9c36b9b78b10169e8   \n1              1  4aa6014eceb682077f9dc4bffebc05b0   \n2              1  bd07b66896d6f1494f5b86251848ced7   \n3              1  a5647c44af977b148e0a3a4751a09e2e   \n4              1  9391a573abe00141c56e38d84d7d5b3b   \n\n                          seller_id  shipping_limit_date   price  \\\n0  7c67e1448b00f6e969d365cea6b010ab  2017-05-22 15:22:12  124.99   \n1  b8bc237ba3788b23da09c0f1f3a3288c  2018-01-18 20:58:32  289.00   \n2  7c67e1448b00f6e969d365cea6b010ab  2018-06-05 16:19:10  139.94   \n3  7c67e1448b00f6e969d365cea6b010ab  2018-03-27 16:31:16  149.94   \n4  4a3ca9315b744ce9f8e9374361493884  2018-07-31 10:10:09  230.00   \n\n   freight_value  \n0          21.88  \n1          46.48  \n2          17.79  \n3          23.36  \n4          22.25  ",
      "text/html": "<div>\n<style scoped>\n    .dataframe tbody tr th:only-of-type {\n        vertical-align: middle;\n    }\n\n    .dataframe tbody tr th {\n        vertical-align: top;\n    }\n\n    .dataframe thead th {\n        text-align: right;\n    }\n</style>\n<table border=\"1\" class=\"dataframe\">\n  <thead>\n    <tr style=\"text-align: right;\">\n      <th></th>\n      <th>customer_id</th>\n      <th>customer_unique_id</th>\n      <th>customer_zip_code_prefix</th>\n      <th>customer_city</th>\n      <th>customer_state</th>\n      <th>order_id</th>\n      <th>order_status</th>\n      <th>order_purchase_timestamp</th>\n      <th>order_approved_at</th>\n      <th>order_delivered_carrier_date</th>\n      <th>order_delivered_customer_date</th>\n      <th>order_estimated_delivery_date</th>\n      <th>first_month</th>\n      <th>order_item_id</th>\n      <th>product_id</th>\n      <th>seller_id</th>\n      <th>shipping_limit_date</th>\n      <th>price</th>\n      <th>freight_value</th>\n    </tr>\n  </thead>\n  <tbody>\n    <tr>\n      <th>0</th>\n      <td>06b8999e2fba1a1fbc88172c00ba8bc7</td>\n      <td>861eff4711a542e4b93843c6dd7febb0</td>\n      <td>14409</td>\n      <td>franca</td>\n      <td>SP</td>\n      <td>00e7ee1b050b8499577073aeb2a297a1</td>\n      <td>delivered</td>\n      <td>2017-05-01</td>\n      <td>2017-05-16 15:22:12</td>\n      <td>2017-05-23 10:47:57</td>\n      <td>2017-05-25 10:35:35</td>\n      <td>2017-06-05 00:00:00</td>\n      <td>2017-05</td>\n      <td>1</td>\n      <td>a9516a079e37a9c9c36b9b78b10169e8</td>\n      <td>7c67e1448b00f6e969d365cea6b010ab</td>\n      <td>2017-05-22 15:22:12</td>\n      <td>124.99</td>\n      <td>21.88</td>\n    </tr>\n    <tr>\n      <th>1</th>\n      <td>18955e83d337fd6b2def6b18a428ac77</td>\n      <td>290c77bc529b7ac935b93aa66c333dc3</td>\n      <td>9790</td>\n      <td>sao bernardo do campo</td>\n      <td>SP</td>\n      <td>29150127e6685892b6eab3eec79f59c7</td>\n      <td>delivered</td>\n      <td>2018-01-01</td>\n      <td>2018-01-12 20:58:32</td>\n      <td>2018-01-15 17:14:59</td>\n      <td>2018-01-29 12:41:19</td>\n      <td>2018-02-06 00:00:00</td>\n      <td>2018-01</td>\n      <td>1</td>\n      <td>4aa6014eceb682077f9dc4bffebc05b0</td>\n      <td>b8bc237ba3788b23da09c0f1f3a3288c</td>\n      <td>2018-01-18 20:58:32</td>\n      <td>289.00</td>\n      <td>46.48</td>\n    </tr>\n    <tr>\n      <th>2</th>\n      <td>4e7b3e00288586ebd08712fdd0374a03</td>\n      <td>060e732b5b29e8181a18229c7b0b2b5e</td>\n      <td>1151</td>\n      <td>sao paulo</td>\n      <td>SP</td>\n      <td>b2059ed67ce144a36e2aa97d2c9e9ad2</td>\n      <td>delivered</td>\n      <td>2018-05-01</td>\n      <td>2018-05-20 16:19:10</td>\n      <td>2018-06-11 14:31:00</td>\n      <td>2018-06-14 17:58:51</td>\n      <td>2018-06-13 00:00:00</td>\n      <td>2018-05</td>\n      <td>1</td>\n      <td>bd07b66896d6f1494f5b86251848ced7</td>\n      <td>7c67e1448b00f6e969d365cea6b010ab</td>\n      <td>2018-06-05 16:19:10</td>\n      <td>139.94</td>\n      <td>17.79</td>\n    </tr>\n    <tr>\n      <th>3</th>\n      <td>b2b6027bc5c5109e529d4dc6358b12c3</td>\n      <td>259dac757896d24d7702b9acbbff3f3c</td>\n      <td>8775</td>\n      <td>mogi das cruzes</td>\n      <td>SP</td>\n      <td>951670f92359f4fe4a63112aa7306eba</td>\n      <td>delivered</td>\n      <td>2018-03-01</td>\n      <td>2018-03-13 17:29:19</td>\n      <td>2018-03-27 23:22:42</td>\n      <td>2018-03-28 16:04:25</td>\n      <td>2018-04-10 00:00:00</td>\n      <td>2018-03</td>\n      <td>1</td>\n      <td>a5647c44af977b148e0a3a4751a09e2e</td>\n      <td>7c67e1448b00f6e969d365cea6b010ab</td>\n      <td>2018-03-27 16:31:16</td>\n      <td>149.94</td>\n      <td>23.36</td>\n    </tr>\n    <tr>\n      <th>4</th>\n      <td>4f2d8ab171c80ec8364f7c12e35b23ad</td>\n      <td>345ecd01c38d18a9036ed96c73b8d066</td>\n      <td>13056</td>\n      <td>campinas</td>\n      <td>SP</td>\n      <td>6b7d50bd145f6fc7f33cebabd7e49d0f</td>\n      <td>delivered</td>\n      <td>2018-07-01</td>\n      <td>2018-07-29 10:10:09</td>\n      <td>2018-07-30 15:16:00</td>\n      <td>2018-08-09 20:55:48</td>\n      <td>2018-08-15 00:00:00</td>\n      <td>2018-07</td>\n      <td>1</td>\n      <td>9391a573abe00141c56e38d84d7d5b3b</td>\n      <td>4a3ca9315b744ce9f8e9374361493884</td>\n      <td>2018-07-31 10:10:09</td>\n      <td>230.00</td>\n      <td>22.25</td>\n    </tr>\n  </tbody>\n</table>\n</div>"
     },
     "execution_count": 107,
     "metadata": {},
     "output_type": "execute_result"
    }
   ],
   "source": [
    "answer6 = df12.merge(olist_order_items_dataset,on = \"order_id\")\n",
    "answer6.head()"
   ],
   "metadata": {
    "collapsed": false,
    "pycharm": {
     "name": "#%%\n"
    }
   }
  },
  {
   "cell_type": "markdown",
   "source": [
    "Прежде всего избавить наш dataset от NaN значений, если таковые есть, а также смоделируем наш сегодняшний день(под данным предполагаю плюс 1 день к максимальному дню доставки):"
   ],
   "metadata": {
    "collapsed": false,
    "pycharm": {
     "name": "#%% md\n"
    }
   }
  },
  {
   "cell_type": "code",
   "execution_count": 108,
   "outputs": [],
   "source": [
    "answer6.dropna(inplace=True)"
   ],
   "metadata": {
    "collapsed": false,
    "pycharm": {
     "name": "#%%\n"
    }
   }
  },
  {
   "cell_type": "code",
   "execution_count": 109,
   "outputs": [],
   "source": [
    "answer6[\"order_delivered_carrier_date\"] = pd.to_datetime(answer6[\"order_delivered_carrier_date\"])"
   ],
   "metadata": {
    "collapsed": false,
    "pycharm": {
     "name": "#%%\n"
    }
   }
  },
  {
   "cell_type": "code",
   "execution_count": 110,
   "outputs": [
    {
     "data": {
      "text/plain": "Timestamp('2018-09-12 19:48:28')"
     },
     "execution_count": 110,
     "metadata": {},
     "output_type": "execute_result"
    }
   ],
   "source": [
    "last_date = answer6['order_delivered_carrier_date'].max() + timedelta(days=1)\n",
    "last_date"
   ],
   "metadata": {
    "collapsed": false,
    "pycharm": {
     "name": "#%%\n"
    }
   }
  },
  {
   "cell_type": "markdown",
   "source": [
    "Далее группируем RFM таблицу, на основе которой мы и бдуем собирать RFM показатель и также я снова же изменил названия столбцов для более удобной наглядности:"
   ],
   "metadata": {
    "collapsed": false,
    "pycharm": {
     "name": "#%% md\n"
    }
   }
  },
  {
   "cell_type": "code",
   "execution_count": 111,
   "outputs": [],
   "source": [
    "rfmTable = answer6.reset_index().groupby('customer_unique_id').agg({'order_delivered_carrier_date': lambda x: (last_date - x.max()).days,\n",
    "                                                                   'order_id': lambda x: len(x),\n",
    "                                                                   'price': lambda x: x.sum()})"
   ],
   "metadata": {
    "collapsed": false,
    "pycharm": {
     "name": "#%%\n"
    }
   }
  },
  {
   "cell_type": "code",
   "execution_count": 112,
   "outputs": [],
   "source": [
    "rfmTable.rename(columns={'order_delivered_carrier_date': 'recency',\n",
    "                         'order_id': 'frequency',\n",
    "                         'price': 'monetary_value'}, inplace=True)"
   ],
   "metadata": {
    "collapsed": false,
    "pycharm": {
     "name": "#%%\n"
    }
   }
  },
  {
   "cell_type": "code",
   "execution_count": 113,
   "outputs": [
    {
     "data": {
      "text/plain": "                                  recency  frequency  monetary_value\ncustomer_unique_id                                                  \n0000366f3b9a7992bf8c76cfdf3221e2      123          1          129.90\n0000b849f77a49e4a4ce2b2a4ca5be3f      126          1           18.90\n0000f46a3911fa3c0805444483337064      548          1           69.00\n0000f6ccb0745a6a4b88665a16c9f078      333          1           25.99\n0004aac84e0df4da2b147fca70cf8255      299          1          180.00",
      "text/html": "<div>\n<style scoped>\n    .dataframe tbody tr th:only-of-type {\n        vertical-align: middle;\n    }\n\n    .dataframe tbody tr th {\n        vertical-align: top;\n    }\n\n    .dataframe thead th {\n        text-align: right;\n    }\n</style>\n<table border=\"1\" class=\"dataframe\">\n  <thead>\n    <tr style=\"text-align: right;\">\n      <th></th>\n      <th>recency</th>\n      <th>frequency</th>\n      <th>monetary_value</th>\n    </tr>\n    <tr>\n      <th>customer_unique_id</th>\n      <th></th>\n      <th></th>\n      <th></th>\n    </tr>\n  </thead>\n  <tbody>\n    <tr>\n      <th>0000366f3b9a7992bf8c76cfdf3221e2</th>\n      <td>123</td>\n      <td>1</td>\n      <td>129.90</td>\n    </tr>\n    <tr>\n      <th>0000b849f77a49e4a4ce2b2a4ca5be3f</th>\n      <td>126</td>\n      <td>1</td>\n      <td>18.90</td>\n    </tr>\n    <tr>\n      <th>0000f46a3911fa3c0805444483337064</th>\n      <td>548</td>\n      <td>1</td>\n      <td>69.00</td>\n    </tr>\n    <tr>\n      <th>0000f6ccb0745a6a4b88665a16c9f078</th>\n      <td>333</td>\n      <td>1</td>\n      <td>25.99</td>\n    </tr>\n    <tr>\n      <th>0004aac84e0df4da2b147fca70cf8255</th>\n      <td>299</td>\n      <td>1</td>\n      <td>180.00</td>\n    </tr>\n  </tbody>\n</table>\n</div>"
     },
     "execution_count": 113,
     "metadata": {},
     "output_type": "execute_result"
    }
   ],
   "source": [
    "rfmTable.head()"
   ],
   "metadata": {
    "collapsed": false,
    "pycharm": {
     "name": "#%%\n"
    }
   }
  },
  {
   "cell_type": "code",
   "execution_count": 114,
   "outputs": [
    {
     "data": {
      "text/plain": "1     81733\n2      8796\n3      1646\n4       621\n5       241\n6       190\n7        45\n8        16\n10       11\n11       11\n9        10\n12        9\n15        3\n14        3\n20        2\n13        2\n18        1\n21        1\n24        1\nName: frequency, dtype: int64"
     },
     "execution_count": 114,
     "metadata": {},
     "output_type": "execute_result"
    }
   ],
   "source": [
    "rfmTable.frequency.value_counts()"
   ],
   "metadata": {
    "collapsed": false,
    "pycharm": {
     "name": "#%%\n"
    }
   }
  },
  {
   "cell_type": "markdown",
   "source": [
    "Дальше мы создаём функции, которые и будут делить наших пользователей по разным показателям RFM:"
   ],
   "metadata": {
    "collapsed": false,
    "pycharm": {
     "name": "#%% md\n"
    }
   }
  },
  {
   "cell_type": "code",
   "execution_count": 115,
   "outputs": [],
   "source": [
    "quantiles = rfmTable.quantile(q=[0.20, 0.40, 0.60, 0.80])\n",
    "quantiles = quantiles.to_dict()\n",
    "segmented_rfm = rfmTable"
   ],
   "metadata": {
    "collapsed": false,
    "pycharm": {
     "name": "#%%\n"
    }
   }
  },
  {
   "cell_type": "code",
   "execution_count": 116,
   "outputs": [],
   "source": [
    "def RScore(x,p,d):\n",
    "    if x <= d[p][0.20]:\n",
    "        return 5\n",
    "    elif x <= d[p][0.40]:\n",
    "        return 4\n",
    "    elif x <= d[p][0.60]:\n",
    "        return 3\n",
    "    elif x<=d[p][0.80]:\n",
    "        return 2\n",
    "    else:\n",
    "        return 1"
   ],
   "metadata": {
    "collapsed": false,
    "pycharm": {
     "name": "#%%\n"
    }
   }
  },
  {
   "cell_type": "code",
   "execution_count": 117,
   "outputs": [],
   "source": [
    "def FMScore(x,p,d):\n",
    "    if x <= d[p][0.20]:\n",
    "        return 1\n",
    "    elif x <= d[p][0.40]:\n",
    "        return 2\n",
    "    elif x <= d[p][0.60]:\n",
    "        return 3\n",
    "    elif x<=d[p][0.80]:\n",
    "        return 4\n",
    "    else:\n",
    "        return 5"
   ],
   "metadata": {
    "collapsed": false,
    "pycharm": {
     "name": "#%%\n"
    }
   }
  },
  {
   "cell_type": "code",
   "execution_count": 118,
   "outputs": [
    {
     "data": {
      "text/plain": "                                  recency  frequency  monetary_value  \\\ncustomer_unique_id                                                     \n0000366f3b9a7992bf8c76cfdf3221e2      123          1          129.90   \n0000b849f77a49e4a4ce2b2a4ca5be3f      126          1           18.90   \n0000f46a3911fa3c0805444483337064      548          1           69.00   \n0000f6ccb0745a6a4b88665a16c9f078      333          1           25.99   \n0004aac84e0df4da2b147fca70cf8255      299          1          180.00   \n\n                                  r_quartile  f_quartile  m_quartile RFMScore  \ncustomer_unique_id                                                             \n0000366f3b9a7992bf8c76cfdf3221e2           4           1           4      414  \n0000b849f77a49e4a4ce2b2a4ca5be3f           4           1           1      411  \n0000f46a3911fa3c0805444483337064           1           1           2      112  \n0000f6ccb0745a6a4b88665a16c9f078           2           1           1      211  \n0004aac84e0df4da2b147fca70cf8255           2           1           5      215  ",
      "text/html": "<div>\n<style scoped>\n    .dataframe tbody tr th:only-of-type {\n        vertical-align: middle;\n    }\n\n    .dataframe tbody tr th {\n        vertical-align: top;\n    }\n\n    .dataframe thead th {\n        text-align: right;\n    }\n</style>\n<table border=\"1\" class=\"dataframe\">\n  <thead>\n    <tr style=\"text-align: right;\">\n      <th></th>\n      <th>recency</th>\n      <th>frequency</th>\n      <th>monetary_value</th>\n      <th>r_quartile</th>\n      <th>f_quartile</th>\n      <th>m_quartile</th>\n      <th>RFMScore</th>\n    </tr>\n    <tr>\n      <th>customer_unique_id</th>\n      <th></th>\n      <th></th>\n      <th></th>\n      <th></th>\n      <th></th>\n      <th></th>\n      <th></th>\n    </tr>\n  </thead>\n  <tbody>\n    <tr>\n      <th>0000366f3b9a7992bf8c76cfdf3221e2</th>\n      <td>123</td>\n      <td>1</td>\n      <td>129.90</td>\n      <td>4</td>\n      <td>1</td>\n      <td>4</td>\n      <td>414</td>\n    </tr>\n    <tr>\n      <th>0000b849f77a49e4a4ce2b2a4ca5be3f</th>\n      <td>126</td>\n      <td>1</td>\n      <td>18.90</td>\n      <td>4</td>\n      <td>1</td>\n      <td>1</td>\n      <td>411</td>\n    </tr>\n    <tr>\n      <th>0000f46a3911fa3c0805444483337064</th>\n      <td>548</td>\n      <td>1</td>\n      <td>69.00</td>\n      <td>1</td>\n      <td>1</td>\n      <td>2</td>\n      <td>112</td>\n    </tr>\n    <tr>\n      <th>0000f6ccb0745a6a4b88665a16c9f078</th>\n      <td>333</td>\n      <td>1</td>\n      <td>25.99</td>\n      <td>2</td>\n      <td>1</td>\n      <td>1</td>\n      <td>211</td>\n    </tr>\n    <tr>\n      <th>0004aac84e0df4da2b147fca70cf8255</th>\n      <td>299</td>\n      <td>1</td>\n      <td>180.00</td>\n      <td>2</td>\n      <td>1</td>\n      <td>5</td>\n      <td>215</td>\n    </tr>\n  </tbody>\n</table>\n</div>"
     },
     "execution_count": 118,
     "metadata": {},
     "output_type": "execute_result"
    }
   ],
   "source": [
    "segmented_rfm['r_quartile'] = segmented_rfm['recency'].apply(RScore, args=('recency',quantiles,))\n",
    "segmented_rfm['f_quartile'] = segmented_rfm['frequency'].apply(FMScore, args=(\"frequency\",quantiles,))\n",
    "segmented_rfm['m_quartile'] = segmented_rfm['monetary_value'].apply(FMScore, args=('monetary_value',quantiles,))\n",
    "segmented_rfm['RFMScore'] = segmented_rfm.r_quartile.map(str) + segmented_rfm.f_quartile.map(str) + segmented_rfm.m_quartile.map(str)\n",
    "segmented_rfm.head()"
   ],
   "metadata": {
    "collapsed": false,
    "pycharm": {
     "name": "#%%\n"
    }
   }
  },
  {
   "cell_type": "markdown",
   "source": [
    "### Выводы :\n",
    "____"
   ],
   "metadata": {
    "collapsed": false,
    "pycharm": {
     "name": "#%% md\n"
    }
   }
  },
  {
   "cell_type": "markdown",
   "source": [
    "\n",
    "Я ответил на 4 вопроса от бизнеса, а также научился применять когорный анализ и RFM сегментацию."
   ],
   "metadata": {
    "collapsed": false,
    "pycharm": {
     "name": "#%% md\n"
    }
   }
  },
  {
   "cell_type": "markdown",
   "source": [
    "### Ссылки :\n",
    "____\n",
    "\n",
    "1. [Что такое когорный анлиз](https://vc.ru/s/productstar/134090-chto-takoe-kogortnyy-analiz);\n",
    "2. [Пример когорного анализа на Python](https://towardsdatascience.com/a-step-by-step-introduction-to-cohort-analysis-in-python-a2cbbd8460ea);\n",
    "3. [RFM](https://aainabajaj39.medium.com/rfm-analysis-for-successful-customer-segmentation-using-python-6291decceb4b)."
   ],
   "metadata": {
    "collapsed": false,
    "pycharm": {
     "name": "#%% md\n"
    }
   }
  }
 ],
 "metadata": {
  "kernelspec": {
   "display_name": "Python 3",
   "language": "python",
   "name": "python3"
  },
  "language_info": {
   "codemirror_mode": {
    "name": "ipython",
    "version": 2
   },
   "file_extension": ".py",
   "mimetype": "text/x-python",
   "name": "python",
   "nbconvert_exporter": "python",
   "pygments_lexer": "ipython2",
   "version": "2.7.6"
  }
 },
 "nbformat": 4,
 "nbformat_minor": 0
}