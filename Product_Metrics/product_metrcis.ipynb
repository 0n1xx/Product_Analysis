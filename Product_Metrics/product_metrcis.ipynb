{
 "cells": [
  {
   "cell_type": "markdown",
   "source": [
    "# Метрики и их царство:"
   ],
   "metadata": {
    "collapsed": false,
    "pycharm": {
     "name": "#%% md\n"
    }
   }
  },
  {
   "cell_type": "code",
   "execution_count": 1,
   "outputs": [],
   "source": [
    "import pandas as pd"
   ],
   "metadata": {
    "collapsed": false,
    "pycharm": {
     "name": "#%%\n"
    }
   }
  },
  {
   "cell_type": "markdown",
   "source": [
    "Датасет будет прикреплён в виде ссылки так как он слишком большой для github:\n",
    "[Ссылка](https://drive.google.com/file/d/1Ia3k1MoOOxrpJ8p7JOtNyQZGkE3ZumZj/view?usp=sharing)."
   ],
   "metadata": {
    "collapsed": false,
    "pycharm": {
     "name": "#%% md\n"
    }
   }
  },
  {
   "cell_type": "markdown",
   "source": [
    "### Введение и план:\n",
    "____"
   ],
   "metadata": {
    "collapsed": false,
    "pycharm": {
     "name": "#%% md\n"
    }
   }
  },
  {
   "cell_type": "markdown",
   "source": [
    "Являясь продуктовым аналитиком, я постоянно сталкиваюсь с метриками и считаю, что важно не только просто знать, но уметь их правильно применять.\n",
    "Именно для этого я и создаю данный проект, so,\n",
    "Let's get started :)\n",
    "\n",
    "\n",
    "<p align=\"center\">\n",
    "  <img width=\"600\" height=\"327\" src=\"metrics.jpg\">\n",
    "</p>"
   ],
   "metadata": {
    "collapsed": false,
    "pycharm": {
     "name": "#%% md\n"
    }
   }
  },
  {
   "cell_type": "markdown",
   "source": [
    "Для начала давайте разберёмся какие вообще бывают метрики и для чего он нужны для аналитиков:\n",
    "- Метрики — это количественно измеряемые показатели, которые позволяют компаниям, командам или предприятиям определять и отслеживать успешность продукта или бизнес-деятельности. Используются для выявления проблем, отслеживания выполнения целей и принятия обоснованных решений.\n",
    "\n",
    "При этом метрики принято делить на некоторые категории:\n",
    "- Метрики действия (Actionable) — метрики, про которые известны чёткие законы связи метрик и прибыли, а еще те, на которые мы можем влиять непосредственно (то есть, имеем инструменты работы с этими метриками). Например, Retention rate, CAC.\n",
    "- Метрики тщеславия (Vanity metrics) — это те метрики, которые напрямую не влияют на бизнес показатели проекта. Они красиво смотрятся, заставляют чувствовать себя хорошо, но не добавляют ничего к финансовой̆ отчетности вашего проекта. Например, количество лайков/репостов в соцсетях.\n",
    "\n",
    "Как можно понять из определений,  превый тип метрик реально позволяет оценить состояние бизнеса, а второй лишь показывает различные значение, которые должны нас радовать (или нет), но какого-то insight мы в них не увидим."
   ],
   "metadata": {
    "collapsed": false,
    "pycharm": {
     "name": "#%% md\n"
    }
   }
  },
  {
   "cell_type": "markdown",
   "source": [
    "А теперь я хочу приступить к практической части, в которой я выполню несколько задач по расчёту метрик. Как обычно начинаем с  описания данных и предосмотра данных:"
   ],
   "metadata": {
    "collapsed": false,
    "pycharm": {
     "name": "#%% md\n"
    }
   }
  },
  {
   "cell_type": "markdown",
   "source": [
    "#### Описание данных:\n",
    "____\n",
    "\n",
    "- date – дата совершения события\n",
    "\n",
    "- event - событие:\n",
    "\n",
    "    - app_install – установка приложения\n",
    "    - app_start – открыть приложения\n",
    "    - registration – зарегистрироваться\n",
    "    - search – перейти на страницу поиска товаров (каталог)\n",
    "    - open_item – открыть товар\n",
    "    - choose_item – отправить товар в корзину\n",
    "    - tap_basket – перейти в корзину\n",
    "    - purchase – подтверждение покупки\n",
    "\n",
    "- gender – пол пользователя\n",
    "\n",
    "- os_name – платформа пользователя\n",
    "\n",
    "- city – город пользователя\n",
    "\n",
    "- device_id – идентификатор устройства пользователя\n",
    "\n",
    "- urm_source – канал, с которого пришел пользователь:\n",
    "\n",
    "    - yandex-direct – Яндекс директ\n",
    "    - google_ads – реклама в Google\n",
    "    - vk_ads – реклама в ВК\n",
    "    - instagram_ads – реклама в instagram\n",
    "    - facebook_ads – реклама в facebook\n",
    "    - referral – акция «приведи друга»\n",
    "\n",
    "Если стоит ‘-’, то канал не определен или это скачивание приложения напрямую или посещение не с рекламы\n",
    "- purchase_sum – стоимость покупки (при совершении события ‘purchase’)\n",
    "\n",
    "Обратите внимание на следующее:\n",
    "____\n",
    "\n",
    "- В выгрузке только уникальные действия пользователей за каждый день\n",
    "\n",
    "- Можно миновать стадию установки приложения, если оно было установлено ранее\n",
    "\n",
    "- Можно миновать стадию регистрации, если пользователь был уже залогинен на момент сессии. Однако незарегистрированные пользователи не могут оформить покупку."
   ],
   "metadata": {
    "collapsed": false,
    "pycharm": {
     "name": "#%% md\n"
    }
   }
  },
  {
   "cell_type": "code",
   "execution_count": 2,
   "outputs": [
    {
     "data": {
      "text/plain": "         date      event  purchase_sum  os_name  device_id  gender  \\\n0  2020-01-01  app_start           NaN  android     669460  female   \n1  2020-01-01  app_start           NaN      ios     833621    male   \n2  2020-01-01  app_start           NaN  android    1579237    male   \n3  2020-01-01  app_start           NaN  android    1737182  female   \n4  2020-01-01  app_start           NaN      ios    4029024  female   \n\n               city    utm_source  \n0            Moscow             -  \n1            Moscow        vk_ads  \n2  Saint-Petersburg       referal  \n3            Moscow  facebook_ads  \n4            Moscow  facebook_ads  ",
      "text/html": "<div>\n<style scoped>\n    .dataframe tbody tr th:only-of-type {\n        vertical-align: middle;\n    }\n\n    .dataframe tbody tr th {\n        vertical-align: top;\n    }\n\n    .dataframe thead th {\n        text-align: right;\n    }\n</style>\n<table border=\"1\" class=\"dataframe\">\n  <thead>\n    <tr style=\"text-align: right;\">\n      <th></th>\n      <th>date</th>\n      <th>event</th>\n      <th>purchase_sum</th>\n      <th>os_name</th>\n      <th>device_id</th>\n      <th>gender</th>\n      <th>city</th>\n      <th>utm_source</th>\n    </tr>\n  </thead>\n  <tbody>\n    <tr>\n      <th>0</th>\n      <td>2020-01-01</td>\n      <td>app_start</td>\n      <td>NaN</td>\n      <td>android</td>\n      <td>669460</td>\n      <td>female</td>\n      <td>Moscow</td>\n      <td>-</td>\n    </tr>\n    <tr>\n      <th>1</th>\n      <td>2020-01-01</td>\n      <td>app_start</td>\n      <td>NaN</td>\n      <td>ios</td>\n      <td>833621</td>\n      <td>male</td>\n      <td>Moscow</td>\n      <td>vk_ads</td>\n    </tr>\n    <tr>\n      <th>2</th>\n      <td>2020-01-01</td>\n      <td>app_start</td>\n      <td>NaN</td>\n      <td>android</td>\n      <td>1579237</td>\n      <td>male</td>\n      <td>Saint-Petersburg</td>\n      <td>referal</td>\n    </tr>\n    <tr>\n      <th>3</th>\n      <td>2020-01-01</td>\n      <td>app_start</td>\n      <td>NaN</td>\n      <td>android</td>\n      <td>1737182</td>\n      <td>female</td>\n      <td>Moscow</td>\n      <td>facebook_ads</td>\n    </tr>\n    <tr>\n      <th>4</th>\n      <td>2020-01-01</td>\n      <td>app_start</td>\n      <td>NaN</td>\n      <td>ios</td>\n      <td>4029024</td>\n      <td>female</td>\n      <td>Moscow</td>\n      <td>facebook_ads</td>\n    </tr>\n  </tbody>\n</table>\n</div>"
     },
     "execution_count": 2,
     "metadata": {},
     "output_type": "execute_result"
    }
   ],
   "source": [
    "df = pd.read_csv('metrics.csv')\n",
    "df.head()"
   ],
   "metadata": {
    "collapsed": false,
    "pycharm": {
     "name": "#%%\n"
    }
   }
  },
  {
   "cell_type": "code",
   "execution_count": 3,
   "outputs": [
    {
     "data": {
      "text/plain": "(2747968, 8)"
     },
     "execution_count": 3,
     "metadata": {},
     "output_type": "execute_result"
    }
   ],
   "source": [
    "df.shape"
   ],
   "metadata": {
    "collapsed": false,
    "pycharm": {
     "name": "#%%\n"
    }
   }
  },
  {
   "cell_type": "code",
   "execution_count": 4,
   "outputs": [
    {
     "data": {
      "text/plain": "date                  0\nevent                 0\npurchase_sum    2606585\nos_name               0\ndevice_id             0\ngender                0\ncity                  0\nutm_source            0\ndtype: int64"
     },
     "execution_count": 4,
     "metadata": {},
     "output_type": "execute_result"
    }
   ],
   "source": [
    "df.isna().sum()"
   ],
   "metadata": {
    "collapsed": false,
    "pycharm": {
     "name": "#%%\n"
    }
   }
  },
  {
   "cell_type": "markdown",
   "source": [
    "В данном случае я не уберу Nan значения, так как здесь они означают, что некоторые пользователи просто ничего не купили."
   ],
   "metadata": {
    "collapsed": false,
    "pycharm": {
     "name": "#%% md\n"
    }
   }
  },
  {
   "cell_type": "markdown",
   "source": [
    "Перед расчётами хочу оставить ссылки на вебинары и статью, которые помогут вам разобраться с основными видами метрик:\n",
    "[Аналитика мобильных приложений, с чего начать?](https://www.youtube.com/watch?v=Ae0YO1izn84&list=PLo8_x3Axzvutlkh_ccSIvhJH7oBoLgOa_&index=21);\n",
    "[Unit-экономика мобильный приложений](https://www.youtube.com/watch?v=mhEpREw4oKU&t=202s);\n",
    "[Базовые продуктовые метрики](https://vc.ru/marketing/314555-bazovye-produktovye-metriki).\n",
    "А теперь давайте приступим в задачам:"
   ],
   "metadata": {
    "collapsed": false,
    "pycharm": {
     "name": "#%% md\n"
    }
   }
  },
  {
   "cell_type": "markdown",
   "source": [
    "#### Рассчитайте MAU у февраля:\n",
    "____\n",
    "\n",
    "Формулы и определения:\n",
    "- Дневная аудитория (DAU) — количество уникальных пользователей, которые зашли в приложение в течение суток;\n",
    "- Недельная аудитория (WAU) - количество уникальных пользователей, которые зашли в приложение в течение недели;\n",
    "- Месячная аудитория (MAU) — количество уникальных пользователей, которые зашли в приложение в течение месяца;\n",
    "- avg. DAU/MAU = stickness ratio — коэффициент того, насколько часто пользователи, в течение одного периода, \"остаются\" в продукте."
   ],
   "metadata": {
    "collapsed": false,
    "pycharm": {
     "name": "#%% md\n"
    }
   }
  },
  {
   "cell_type": "code",
   "execution_count": 5,
   "outputs": [],
   "source": [
    "df[\"date\"] = pd.to_datetime(df[\"date\"])"
   ],
   "metadata": {
    "collapsed": false,
    "pycharm": {
     "name": "#%%\n"
    }
   }
  },
  {
   "cell_type": "code",
   "execution_count": 6,
   "outputs": [],
   "source": [
    "df[\"months\"] = df[\"date\"].dt.month"
   ],
   "metadata": {
    "collapsed": false,
    "pycharm": {
     "name": "#%%\n"
    }
   }
  },
  {
   "cell_type": "markdown",
   "source": [
    "В данном случае, я сделал колонку, а не отбирал через query по дате, так как думаю, что колонка с месяцем нам ещё будет нужна."
   ],
   "metadata": {
    "collapsed": false,
    "pycharm": {
     "name": "#%% md\n"
    }
   }
  },
  {
   "cell_type": "code",
   "execution_count": 7,
   "outputs": [
    {
     "data": {
      "text/plain": "75032"
     },
     "execution_count": 7,
     "metadata": {},
     "output_type": "execute_result"
    }
   ],
   "source": [
    "df.query(\"months == 2\").nunique()[4]"
   ],
   "metadata": {
    "collapsed": false,
    "pycharm": {
     "name": "#%%\n"
    }
   }
  },
  {
   "cell_type": "markdown",
   "source": [
    "В феврале в наш продукт пришли 75302 пользователя."
   ],
   "metadata": {
    "collapsed": false,
    "pycharm": {
     "name": "#%% md\n"
    }
   }
  },
  {
   "cell_type": "markdown",
   "source": [
    "#### 2. Количество установок в январе:\n",
    "____"
   ],
   "metadata": {
    "collapsed": false,
    "pycharm": {
     "name": "#%% md\n"
    }
   }
  },
  {
   "cell_type": "code",
   "execution_count": 8,
   "outputs": [
    {
     "data": {
      "text/plain": "app_install    80297\nName: event, dtype: int64"
     },
     "execution_count": 8,
     "metadata": {},
     "output_type": "execute_result"
    }
   ],
   "source": [
    "df.query(\"months == 1 and event == 'app_install'\").event.value_counts()"
   ],
   "metadata": {
    "collapsed": false,
    "pycharm": {
     "name": "#%%\n"
    }
   }
  },
  {
   "cell_type": "markdown",
   "source": [
    "#### Какой платный канал привлечения имеет самый высокий ROMI?\n",
    "____\n",
    "\n",
    "ROI отвечает в целом за окупаемость бизнеса, а ROMI и ROAS являются производными от ROI, но отвечают за расходы на маркетинг и рекламу соответственно.\n",
    "\n",
    "Формулы:\n",
    "\n",
    "- ROI = (доходы − расходы) / расходы\n",
    "\n",
    "- ROMI = (Валовая прибыль − Маркетинговые расходы) / Маркетинговые расходы\n",
    "\n",
    "- ROAS = (Валовая прибыль − расходы на рекламу) /расходы на рекламу"
   ],
   "metadata": {
    "collapsed": false,
    "pycharm": {
     "name": "#%% md\n"
    }
   }
  },
  {
   "cell_type": "markdown",
   "source": [
    "Дополнительно нам потребуются данные по затрате на рекламу:\n",
    "\n",
    "- Яндекс – 10 491 707 руб.\n",
    "\n",
    "- Гугл – 10 534 878 руб.\n",
    "\n",
    "- Фейсбук – 8 590 498 руб.\n",
    "\n",
    "- Инстаграм – 8 561626 руб.\n",
    "\n",
    "- ВК – 9 553 531руб."
   ],
   "metadata": {
    "collapsed": false,
    "pycharm": {
     "name": "#%% md\n"
    }
   }
  },
  {
   "cell_type": "code",
   "execution_count": 9,
   "outputs": [
    {
     "data": {
      "text/plain": "      utm_source  purchase_sum\n0              -    21449749.5\n1   facebook_ads    12249901.0\n2     google_ads    12868276.0\n3  instagram_ads    14546969.0\n4        referal     8837044.5\n5         vk_ads    16389652.5\n6  yandex-direct    13915368.0",
      "text/html": "<div>\n<style scoped>\n    .dataframe tbody tr th:only-of-type {\n        vertical-align: middle;\n    }\n\n    .dataframe tbody tr th {\n        vertical-align: top;\n    }\n\n    .dataframe thead th {\n        text-align: right;\n    }\n</style>\n<table border=\"1\" class=\"dataframe\">\n  <thead>\n    <tr style=\"text-align: right;\">\n      <th></th>\n      <th>utm_source</th>\n      <th>purchase_sum</th>\n    </tr>\n  </thead>\n  <tbody>\n    <tr>\n      <th>0</th>\n      <td>-</td>\n      <td>21449749.5</td>\n    </tr>\n    <tr>\n      <th>1</th>\n      <td>facebook_ads</td>\n      <td>12249901.0</td>\n    </tr>\n    <tr>\n      <th>2</th>\n      <td>google_ads</td>\n      <td>12868276.0</td>\n    </tr>\n    <tr>\n      <th>3</th>\n      <td>instagram_ads</td>\n      <td>14546969.0</td>\n    </tr>\n    <tr>\n      <th>4</th>\n      <td>referal</td>\n      <td>8837044.5</td>\n    </tr>\n    <tr>\n      <th>5</th>\n      <td>vk_ads</td>\n      <td>16389652.5</td>\n    </tr>\n    <tr>\n      <th>6</th>\n      <td>yandex-direct</td>\n      <td>13915368.0</td>\n    </tr>\n  </tbody>\n</table>\n</div>"
     },
     "execution_count": 9,
     "metadata": {},
     "output_type": "execute_result"
    }
   ],
   "source": [
    "adv = df.groupby(\"utm_source\",as_index=False).agg({\"purchase_sum\":\"sum\"})\n",
    "adv"
   ],
   "metadata": {
    "collapsed": false,
    "pycharm": {
     "name": "#%%\n"
    }
   }
  },
  {
   "cell_type": "markdown",
   "source": [
    "Внизу мне просто захотелось сделать эффектный вывод:"
   ],
   "metadata": {
    "collapsed": false,
    "pycharm": {
     "name": "#%% md\n"
    }
   }
  },
  {
   "cell_type": "code",
   "execution_count": 10,
   "outputs": [
    {
     "name": "stdout",
     "output_type": "stream",
     "text": [
      "0.4259826380263403 - Facebook\n",
      "0.22149264566708793 - Google\n",
      "0.6990895187432854 - Instagram\n",
      "0.7155596710786828 - VK\n",
      "0.3263206835646478 - Яндекс\n"
     ]
    }
   ],
   "source": [
    "print(f\"{(adv.loc[1][1] - 8590498) / 8590498} - Facebook\",f\"{(adv.loc[2][1] - 10534878)/ 10534878} - Google\",f\"{(adv.loc[3][1] - 8561626)/8561626} - Instagram\",f\"{(adv.loc[5][1] - 9553531)/9553531} - VK\",f\"{(adv.loc[6][1] - 10491707)/ 10491707} - Яндекс\",sep=\"\\n\")"
   ],
   "metadata": {
    "collapsed": false,
    "pycharm": {
     "name": "#%%\n"
    }
   }
  },
  {
   "cell_type": "markdown",
   "source": [
    "Как видно, ROMI  выше всего у VK."
   ],
   "metadata": {
    "collapsed": false,
    "pycharm": {
     "name": "#%% md\n"
    }
   }
  },
  {
   "cell_type": "markdown",
   "source": [
    "#### С какого платного маркетингового канала пришло больше всего новых пользователей?\n",
    "____"
   ],
   "metadata": {
    "collapsed": false,
    "pycharm": {
     "name": "#%% md\n"
    }
   }
  },
  {
   "cell_type": "code",
   "execution_count": 11,
   "outputs": [
    {
     "data": {
      "text/plain": "               device_id\nutm_source              \n-                  52273\nyandex-direct      40712\ngoogle_ads         38096\nvk_ads             34086\ninstagram_ads      31048\nfacebook_ads       25959\nreferal            15926",
      "text/html": "<div>\n<style scoped>\n    .dataframe tbody tr th:only-of-type {\n        vertical-align: middle;\n    }\n\n    .dataframe tbody tr th {\n        vertical-align: top;\n    }\n\n    .dataframe thead th {\n        text-align: right;\n    }\n</style>\n<table border=\"1\" class=\"dataframe\">\n  <thead>\n    <tr style=\"text-align: right;\">\n      <th></th>\n      <th>device_id</th>\n    </tr>\n    <tr>\n      <th>utm_source</th>\n      <th></th>\n    </tr>\n  </thead>\n  <tbody>\n    <tr>\n      <th>-</th>\n      <td>52273</td>\n    </tr>\n    <tr>\n      <th>yandex-direct</th>\n      <td>40712</td>\n    </tr>\n    <tr>\n      <th>google_ads</th>\n      <td>38096</td>\n    </tr>\n    <tr>\n      <th>vk_ads</th>\n      <td>34086</td>\n    </tr>\n    <tr>\n      <th>instagram_ads</th>\n      <td>31048</td>\n    </tr>\n    <tr>\n      <th>facebook_ads</th>\n      <td>25959</td>\n    </tr>\n    <tr>\n      <th>referal</th>\n      <td>15926</td>\n    </tr>\n  </tbody>\n</table>\n</div>"
     },
     "execution_count": 11,
     "metadata": {},
     "output_type": "execute_result"
    }
   ],
   "source": [
    "df.groupby(\"utm_source\").agg({\"device_id\":pd.Series.nunique}).sort_values(\"device_id\",ascending=False)"
   ],
   "metadata": {
    "collapsed": false,
    "pycharm": {
     "name": "#%%\n"
    }
   }
  },
  {
   "cell_type": "markdown",
   "source": [
    "Больше всего клиентов к нам пришло из Яндекса, но также можно обратить внимание, что и из Google кол-во практически тоже самое."
   ],
   "metadata": {
    "collapsed": false,
    "pycharm": {
     "name": "#%% md\n"
    }
   }
  },
  {
   "cell_type": "markdown",
   "source": [
    "#### Пользователи, пришедшие с какого канала, имеют медианный первый чек выше?\n",
    "____"
   ],
   "metadata": {
    "collapsed": false,
    "pycharm": {
     "name": "#%% md\n"
    }
   }
  },
  {
   "cell_type": "code",
   "execution_count": 12,
   "outputs": [],
   "source": [
    "first_purchase = df.query(\"event == 'purchase'\").groupby(\"device_id\").agg({\"date\":\"min\"}).reset_index().rename({\"date\":\"first_purchase\"},axis=1)"
   ],
   "metadata": {
    "collapsed": false,
    "pycharm": {
     "name": "#%%\n"
    }
   }
  },
  {
   "cell_type": "markdown",
   "source": [
    "Я вычислил первую покупку у каждого юзера, который он сделал, при этом нам надо вычислить медианный первый чек и для этого нужно сджоинить её к основному фрейму и произвести расчёты:"
   ],
   "metadata": {
    "collapsed": false,
    "pycharm": {
     "name": "#%% md\n"
    }
   }
  },
  {
   "cell_type": "code",
   "execution_count": 13,
   "outputs": [],
   "source": [
    "purchase_df = first_purchase.merge(df,how=\"left\",on=\"device_id\")"
   ],
   "metadata": {
    "collapsed": false,
    "pycharm": {
     "name": "#%%\n"
    }
   }
  },
  {
   "cell_type": "code",
   "execution_count": 14,
   "outputs": [],
   "source": [
    "purchase_df = purchase_df.query(\"event == 'purchase' and first_purchase == date\")"
   ],
   "metadata": {
    "collapsed": false,
    "pycharm": {
     "name": "#%%\n"
    }
   }
  },
  {
   "cell_type": "code",
   "execution_count": 15,
   "outputs": [
    {
     "data": {
      "text/plain": "               purchase_sum\nutm_source                 \n-                     398.5\nreferal               395.5\ninstagram_ads         393.5\nvk_ads                393.0\nyandex-direct         392.5\ngoogle_ads            390.5\nfacebook_ads          389.0",
      "text/html": "<div>\n<style scoped>\n    .dataframe tbody tr th:only-of-type {\n        vertical-align: middle;\n    }\n\n    .dataframe tbody tr th {\n        vertical-align: top;\n    }\n\n    .dataframe thead th {\n        text-align: right;\n    }\n</style>\n<table border=\"1\" class=\"dataframe\">\n  <thead>\n    <tr style=\"text-align: right;\">\n      <th></th>\n      <th>purchase_sum</th>\n    </tr>\n    <tr>\n      <th>utm_source</th>\n      <th></th>\n    </tr>\n  </thead>\n  <tbody>\n    <tr>\n      <th>-</th>\n      <td>398.5</td>\n    </tr>\n    <tr>\n      <th>referal</th>\n      <td>395.5</td>\n    </tr>\n    <tr>\n      <th>instagram_ads</th>\n      <td>393.5</td>\n    </tr>\n    <tr>\n      <th>vk_ads</th>\n      <td>393.0</td>\n    </tr>\n    <tr>\n      <th>yandex-direct</th>\n      <td>392.5</td>\n    </tr>\n    <tr>\n      <th>google_ads</th>\n      <td>390.5</td>\n    </tr>\n    <tr>\n      <th>facebook_ads</th>\n      <td>389.0</td>\n    </tr>\n  </tbody>\n</table>\n</div>"
     },
     "execution_count": 15,
     "metadata": {},
     "output_type": "execute_result"
    }
   ],
   "source": [
    "purchase_df.groupby(\"utm_source\").agg({\"purchase_sum\":\"median\"}).sort_values(\"purchase_sum\",ascending=False)"
   ],
   "metadata": {
    "collapsed": false,
    "pycharm": {
     "name": "#%%\n"
    }
   }
  },
  {
   "cell_type": "markdown",
   "source": [
    "Первый медианный чек выше всего у пользователей, которые пришли к нам балгодаря реферальной программе."
   ],
   "metadata": {
    "collapsed": false,
    "pycharm": {
     "name": "#%% md\n"
    }
   }
  },
  {
   "cell_type": "markdown",
   "source": [
    "#### Пользователи, пришедшие с каких каналов, показали самую низкую конверсию в первую покупку?\n",
    "____\n",
    "\n",
    "Подсказка:\n",
    "\n",
    "- CR = кол-во юзеров, впервые совершивших покупку/кол-во юзеров, впервые открывших приложение\n"
   ],
   "metadata": {
    "collapsed": false,
    "pycharm": {
     "name": "#%% md\n"
    }
   }
  },
  {
   "cell_type": "markdown",
   "source": [
    "В ходе доклада, мы уже затронули большое кол-во метрик, но важно не только их знать и понимать, а также определять является ли метрика хорошей:\n",
    "\n",
    "Критерии хорошей метрики:\n",
    "____\n",
    "\n",
    "- Доступная для понимания — вся команда понимает, что значит эта метрика, так как она незамысловата;\n",
    "- Чувствительная — метрика сразу отразит какие-то проблемы в одном или нескольких направлениях;\n",
    "- Actionable — метрика несет смысл, и ее динамика или сравнение с другими метриками нам о чём-то говорит и меняет наше поведение;\n",
    "- Быстрая — нам не нужно ждать конца месяца, чтобы посчитать эту метрику. Ценятся те метрики, которые можно измерять риалтайм и реагировать;\n",
    "- Релевантная — относится к нашим целям и тому, что мы хотим понять или узнать.\n",
    "\n",
    "Вроде бы всё понятно, но что означает чувствительность метрики ?\n",
    "Чувствительность метрики - это ситуация, когда метрики даже при малейших изменений начнётся \"прокрашиваться\" на синтетичных A/A тестах, но я настоятельно рекомендую посмотреть вебинары, прикреплённые ниже:\n",
    "- [Виталий Черемисинов, EXPF, - Как искать прокси-метрики в продуктах](https://www.youtube.com/watch?v=fSRKOr3L6AI&t=498s);\n",
    "- [Online meetup EXPF x Delivery Club (доклад Тимура из Авито)](https://www.youtube.com/watch?v=3eoIq8Csa1Y).\n",
    "\n",
    "Ну а я смело начну выполнение задания:"
   ],
   "metadata": {
    "collapsed": false,
    "pycharm": {
     "name": "#%% md\n"
    }
   }
  },
  {
   "cell_type": "code",
   "execution_count": 16,
   "outputs": [
    {
     "data": {
      "text/plain": "array(['-', 'vk_ads', 'referal', 'facebook_ads', 'google_ads',\n       'instagram_ads', 'yandex-direct'], dtype=object)"
     },
     "execution_count": 16,
     "metadata": {},
     "output_type": "execute_result"
    }
   ],
   "source": [
    "df.utm_source.unique()"
   ],
   "metadata": {
    "collapsed": false,
    "pycharm": {
     "name": "#%%\n"
    }
   }
  },
  {
   "cell_type": "code",
   "execution_count": 17,
   "outputs": [],
   "source": [
    "yandex_a = df.query(\"event == 'purchase' and utm_source == 'referal'\").groupby(\"device_id\").agg({\"date\":\"min\"}).reset_index().rename({\"date\":\"first_purchase\"},axis=1)"
   ],
   "metadata": {
    "collapsed": false,
    "pycharm": {
     "name": "#%%\n"
    }
   }
  },
  {
   "cell_type": "code",
   "execution_count": 18,
   "outputs": [],
   "source": [
    "yandex_b = df.query(\"event == 'app_start' and utm_source == 'referal'\").groupby(\"device_id\").agg({\"date\":\"min\"}).reset_index().rename({\"date\":\"first_purchase\"},axis=1)"
   ],
   "metadata": {
    "collapsed": false,
    "pycharm": {
     "name": "#%%\n"
    }
   }
  },
  {
   "cell_type": "code",
   "execution_count": 19,
   "outputs": [
    {
     "data": {
      "text/plain": "0.3995227329816629"
     },
     "execution_count": 19,
     "metadata": {},
     "output_type": "execute_result"
    }
   ],
   "source": [
    "yandex_a.shape[0] / yandex_b.shape[0]"
   ],
   "metadata": {
    "collapsed": false,
    "pycharm": {
     "name": "#%%\n"
    }
   }
  },
  {
   "cell_type": "markdown",
   "source": [
    "В данном случае я думаю логичнее будет просто подставлять разные каналы в одну и туже переменную и посмотреть на значение в print, так как если создавать для каждого канала свою переменную код будет очень большим:"
   ],
   "metadata": {
    "collapsed": false,
    "pycharm": {
     "name": "#%% md\n"
    }
   }
  },
  {
   "cell_type": "code",
   "execution_count": 20,
   "outputs": [
    {
     "name": "stdout",
     "output_type": "stream",
     "text": [
      "Яндекс - 0.2954774363131648, Google - 0.29767405229444505, vk -  0.3628040728894627, Facebook - 0.3473822090380244, Instagram - 0.34665807698502177, Referral - 0.3995227329816629\n"
     ]
    }
   ],
   "source": [
    "print(\"Яндекс - 0.2954774363131648, Google - 0.29767405229444505, vk -  0.3628040728894627, Facebook - 0.3473822090380244, Instagram - 0.34665807698502177, Referral - 0.3995227329816629\")"
   ],
   "metadata": {
    "collapsed": false,
    "pycharm": {
     "name": "#%%\n"
    }
   }
  },
  {
   "cell_type": "markdown",
   "source": [
    "Как мы видим, самая низкая конверсия у Яндекса."
   ],
   "metadata": {
    "collapsed": false,
    "pycharm": {
     "name": "#%% md\n"
    }
   }
  },
  {
   "cell_type": "markdown",
   "source": [
    "#### Как выбрать метрику для A/B теста ?\n",
    "____\n",
    "\n",
    "Для начала я хотел бы дать общие рекомендации при выборе метрики:\n",
    "Проверочные вопросы для выбора продуктовых метрик\n",
    "- Дают ли эти показатели реальную картину успеха нашего продукта?\n",
    "- Влияют ли они на то, как мы относимся к продукту?\n",
    "- Мотивируют ли они команду, которая создаёт продукт?\n",
    "\n",
    "А также надо учитывать какая цель эксперимента:\n",
    "\n",
    "1. Business (инвесторам):\n",
    "    Метрики, которые важны инвесторам. Могут быть разные в зависимости от типа продукта и стадии его развития.\n",
    "    Примеры: доля рынка (в объёме продаж), количество новых покупателей и так далее.\n",
    "\n",
    "2. Margin (экономика):\n",
    "    Все метрики, касающиеся юнит-экономики и маржинальности. Демонстрируют то, насколько рентабелен и перспективен продукт.\n",
    "    Примеры: CAC, ARPU, LTV и так далее.\n",
    "\n",
    "3. Loyality (лояльность):\n",
    "    Метрики, отражающие лояльность пользователей к продукту.\n",
    "    Примеры: retention, К-фактор, churn rate, NPS, средняя оценка приложения в app store/google play и так далее.\n",
    "\n",
    "4. Value (ценность):\n",
    "    Метрики, отражающие, что пользователь нашёл для себя ценность продукта.\n",
    "    Примеры: прослушивание музыки больше N минут в день, N поездок за Х дней и так далее.\n",
    "\n",
    "5. Quality (качество):\n",
    "    Предполагаемое качество продукта / контента и тому подобное.\n",
    "    Примеры: % брака, количество жалоб, отказы и так далее.\n",
    "\n",
    "6. Marketing (маркетинг):\n",
    "    Отражают всё, что связано с трафиком и каналами привлечения пользователей в продукт.\n",
    "    Примеры: DAU, MAU, clicks, cost, installs.\n",
    "\n",
    "Также я хотел бы порекомендовать несколько книг по продуктовой аналитки и A/B тестам:\n",
    "- [Бизнес с нуля: Метод Lean Startup для быстрого тестирования идей и выбора бизнес-модели | Рис Эрик](https://www.ozon.ru/product/biznes-s-nulya-metod-lean-startup-dlya-bystrogo-testirovaniya-idey-i-vybora-biznes-modeli-ris-erik-254359868/?sh=RoJKJmdagg);\n",
    "- [Доверительное А/В-тестирование](https://www.ozon.ru/product/doveritelnoe-a-v-testirovanie-224221240/?sh=RoJKJrnLbQ).\n",
    "\n",
    "Ну а теперь возвращаемся в задачам:)"
   ],
   "metadata": {
    "collapsed": false,
    "pycharm": {
     "name": "#%% md\n"
    }
   }
  },
  {
   "cell_type": "markdown",
   "source": [
    "#### Проанализируйте на каком этапе воронки отваливается бОльшая часть клиентов. Посмотрите отдельно сценарии для зарегистрированных и для незарегистрированных пользователей. На каком шаге отваливается больше всего зарегистрированных пользователей?\n",
    "____\n",
    "\n",
    "Подсказка:\n",
    "\n",
    "- Для того, чтобы выделить группу тех, кому нужно и не нужно регистрироваться, добавьте колонку с датой регистрации. Если дата регистрации < даты совершения события, то пользователь уже зарегистрирован.\n",
    "\n"
   ],
   "metadata": {
    "collapsed": false,
    "pycharm": {
     "name": "#%% md\n"
    }
   }
  },
  {
   "cell_type": "code",
   "execution_count": 21,
   "outputs": [],
   "source": [
    "registration = df.query(\"event == 'register'\").groupby(\"device_id\").agg({\"date\":\"min\"}).\\\n",
    "    reset_index().rename({\"date\":\"date_of_registration\"},axis=1)"
   ],
   "metadata": {
    "collapsed": false,
    "pycharm": {
     "name": "#%%\n"
    }
   }
  },
  {
   "cell_type": "code",
   "execution_count": 22,
   "outputs": [],
   "source": [
    "df = df.merge(registration,how=\"left\",on=\"device_id\")"
   ],
   "metadata": {
    "collapsed": false,
    "pycharm": {
     "name": "#%%\n"
    }
   }
  },
  {
   "cell_type": "markdown",
   "source": [
    "Воронка и конверсия:\n",
    "____\n",
    "- Воронка — последовательность действий пользователей до совершения ключевого действия. Показывает, как пользователи проходят через определенную последовательность действий в продукте, на каких шагах и какая часть из них отваливается.\n",
    "\n",
    "- Конверсия (conversion rate, CR) — отношение числа пользователей, которые выполнили какое-либо целевое действие к общему числу пользователей.\n",
    "\n",
    "- Абсолютная конверсия — это конверсия в n-ый шаг из первого (из 100% посетителей – 2,4% добавили в корзину)\n",
    "Относительная конверсия — конверсия между двумя определенными шагами (из 1290 пользователей 60% (780) перешли корзину)\n",
    "Важно разделять эти конверсии, они обе нам нужны и важны.\n",
    "\n",
    "- Конверсионное окно (Conversion window) — это цикл целевого действия, то есть количество дней, за которое пользователь переходит из одного шага воронки в другой.\n",
    "\n",
    "\n",
    "<p align=\"center\">\n",
    "  <img  src=\"conversion.png\">\n",
    "</p>"
   ],
   "metadata": {
    "collapsed": false,
    "pycharm": {
     "name": "#%% md\n"
    }
   }
  },
  {
   "cell_type": "code",
   "execution_count": 23,
   "outputs": [
    {
     "data": {
      "text/plain": "75.39"
     },
     "execution_count": 23,
     "metadata": {},
     "output_type": "execute_result"
    }
   ],
   "source": [
    "round((df.query(\"event == 'choose_item' and date > date_of_registration\").shape[0] / df.query(\"event == 'search' and date > date_of_registration\").shape[0]) * 100,2)"
   ],
   "metadata": {
    "collapsed": false,
    "pycharm": {
     "name": "#%%\n"
    }
   }
  },
  {
   "cell_type": "code",
   "execution_count": 24,
   "outputs": [
    {
     "data": {
      "text/plain": "69.09"
     },
     "execution_count": 24,
     "metadata": {},
     "output_type": "execute_result"
    }
   ],
   "source": [
    "round((df.query(\"event == 'tap_basket' and date > date_of_registration\").shape[0] / df.query(\"event == 'choose_item' and date > date_of_registration\").shape[0]) * 100,2)"
   ],
   "metadata": {
    "collapsed": false,
    "pycharm": {
     "name": "#%%\n"
    }
   }
  },
  {
   "cell_type": "code",
   "execution_count": 25,
   "outputs": [
    {
     "data": {
      "text/plain": "33.89"
     },
     "execution_count": 25,
     "metadata": {},
     "output_type": "execute_result"
    }
   ],
   "source": [
    "round((df.query(\"event == 'purchase' and date > date_of_registration\").shape[0] / df.query(\"event == 'tap_basket' and date > date_of_registration\").shape[0]) * 100,2)"
   ],
   "metadata": {
    "collapsed": false,
    "pycharm": {
     "name": "#%%\n"
    }
   }
  },
  {
   "cell_type": "markdown",
   "source": [
    "#### Присвойте пользователям когорты по дню установки приложения и посчитайте для них  конверсию из установки в покупку в течение 7 дней. Для какой когорты конверсия была наибольшей?\n",
    "____\n",
    "\n",
    "Примечание: считаем пользователя сконвертировавшимся, если с момента установки до совершения первой покупки прошло не более 7 дней."
   ],
   "metadata": {
    "collapsed": false,
    "pycharm": {
     "name": "#%% md\n"
    }
   }
  },
  {
   "cell_type": "code",
   "execution_count": 26,
   "outputs": [],
   "source": [
    "app_install = df.query(\"event == 'app_install'\").groupby(\"device_id\").agg({\"date\":\"min\"}).\\\n",
    "    reset_index().rename({\"date\":\"date_of_installation\"},axis=1)"
   ],
   "metadata": {
    "collapsed": false,
    "pycharm": {
     "name": "#%%\n"
    }
   }
  },
  {
   "cell_type": "code",
   "execution_count": 27,
   "outputs": [],
   "source": [
    "purchase = df.query(\"event == 'purchase'\").groupby(\"device_id\").agg({\"date\":\"min\"}).\\\n",
    "    reset_index().rename({\"date\":\"purchase\"},axis=1)"
   ],
   "metadata": {
    "collapsed": false,
    "pycharm": {
     "name": "#%%\n"
    }
   }
  },
  {
   "cell_type": "code",
   "execution_count": 28,
   "outputs": [],
   "source": [
    "app_install = app_install.merge(purchase,on=\"device_id\",how=\"left\")"
   ],
   "metadata": {
    "collapsed": false,
    "pycharm": {
     "name": "#%%\n"
    }
   }
  },
  {
   "cell_type": "code",
   "execution_count": 29,
   "outputs": [],
   "source": [
    "app_install[\"difference\"] = (app_install[\"purchase\"] - app_install[\"date_of_installation\"]).dt.days"
   ],
   "metadata": {
    "collapsed": false,
    "pycharm": {
     "name": "#%%\n"
    }
   }
  },
  {
   "cell_type": "code",
   "execution_count": 30,
   "outputs": [],
   "source": [
    "cohort = app_install.query(\"difference <= 7\")"
   ],
   "metadata": {
    "collapsed": false,
    "pycharm": {
     "name": "#%%\n"
    }
   }
  },
  {
   "cell_type": "markdown",
   "source": [
    "Формула конверсии:\n",
    "- Конверсия = (Количество посетителей с целевым действием/ Общее число посетителей) * 100%"
   ],
   "metadata": {
    "collapsed": false,
    "pycharm": {
     "name": "#%% md\n"
    }
   }
  },
  {
   "cell_type": "code",
   "execution_count": 31,
   "outputs": [],
   "source": [
    "cohort = cohort.groupby(\"date_of_installation\",as_index=False).agg({\"device_id\":\"count\"}).rename({\"device_id\":\"less_than_7_days\"},axis=1)"
   ],
   "metadata": {
    "collapsed": false,
    "pycharm": {
     "name": "#%%\n"
    }
   }
  },
  {
   "cell_type": "code",
   "execution_count": 32,
   "outputs": [],
   "source": [
    "df2 =app_install\\\n",
    "        .groupby('date_of_installation')\\\n",
    "        .agg({'device_id': 'count'})\\\n",
    "        .rename(columns={'device_id': 'total_amount'})\\\n",
    "        .reset_index()"
   ],
   "metadata": {
    "collapsed": false,
    "pycharm": {
     "name": "#%%\n"
    }
   }
  },
  {
   "cell_type": "code",
   "execution_count": 33,
   "outputs": [],
   "source": [
    "cohort = cohort.merge(df2, on='date_of_installation')"
   ],
   "metadata": {
    "collapsed": false,
    "pycharm": {
     "name": "#%%\n"
    }
   }
  },
  {
   "cell_type": "code",
   "execution_count": 34,
   "outputs": [],
   "source": [
    "cohort['CR'] = round((cohort['less_than_7_days'] / cohort['total_amount']) * 100,1)"
   ],
   "metadata": {
    "collapsed": false,
    "pycharm": {
     "name": "#%%\n"
    }
   }
  },
  {
   "cell_type": "code",
   "execution_count": 35,
   "outputs": [
    {
     "data": {
      "text/plain": "   date_of_installation  less_than_7_days  total_amount    CR\n0            2020-01-01              1408          3579  39.3\n8            2020-01-09               558          1424  39.2\n14           2020-01-15              1650          4310  38.3\n13           2020-01-14              1973          5173  38.1\n1            2020-01-02              1186          3144  37.7\n..                  ...               ...           ...   ...\n77           2020-03-18               235          1171  20.1\n88           2020-03-29               223          1117  20.0\n81           2020-03-22               251          1261  19.9\n87           2020-03-28               209          1091  19.2\n65           2020-03-06               807          6358  12.7\n\n[91 rows x 4 columns]",
      "text/html": "<div>\n<style scoped>\n    .dataframe tbody tr th:only-of-type {\n        vertical-align: middle;\n    }\n\n    .dataframe tbody tr th {\n        vertical-align: top;\n    }\n\n    .dataframe thead th {\n        text-align: right;\n    }\n</style>\n<table border=\"1\" class=\"dataframe\">\n  <thead>\n    <tr style=\"text-align: right;\">\n      <th></th>\n      <th>date_of_installation</th>\n      <th>less_than_7_days</th>\n      <th>total_amount</th>\n      <th>CR</th>\n    </tr>\n  </thead>\n  <tbody>\n    <tr>\n      <th>0</th>\n      <td>2020-01-01</td>\n      <td>1408</td>\n      <td>3579</td>\n      <td>39.3</td>\n    </tr>\n    <tr>\n      <th>8</th>\n      <td>2020-01-09</td>\n      <td>558</td>\n      <td>1424</td>\n      <td>39.2</td>\n    </tr>\n    <tr>\n      <th>14</th>\n      <td>2020-01-15</td>\n      <td>1650</td>\n      <td>4310</td>\n      <td>38.3</td>\n    </tr>\n    <tr>\n      <th>13</th>\n      <td>2020-01-14</td>\n      <td>1973</td>\n      <td>5173</td>\n      <td>38.1</td>\n    </tr>\n    <tr>\n      <th>1</th>\n      <td>2020-01-02</td>\n      <td>1186</td>\n      <td>3144</td>\n      <td>37.7</td>\n    </tr>\n    <tr>\n      <th>...</th>\n      <td>...</td>\n      <td>...</td>\n      <td>...</td>\n      <td>...</td>\n    </tr>\n    <tr>\n      <th>77</th>\n      <td>2020-03-18</td>\n      <td>235</td>\n      <td>1171</td>\n      <td>20.1</td>\n    </tr>\n    <tr>\n      <th>88</th>\n      <td>2020-03-29</td>\n      <td>223</td>\n      <td>1117</td>\n      <td>20.0</td>\n    </tr>\n    <tr>\n      <th>81</th>\n      <td>2020-03-22</td>\n      <td>251</td>\n      <td>1261</td>\n      <td>19.9</td>\n    </tr>\n    <tr>\n      <th>87</th>\n      <td>2020-03-28</td>\n      <td>209</td>\n      <td>1091</td>\n      <td>19.2</td>\n    </tr>\n    <tr>\n      <th>65</th>\n      <td>2020-03-06</td>\n      <td>807</td>\n      <td>6358</td>\n      <td>12.7</td>\n    </tr>\n  </tbody>\n</table>\n<p>91 rows × 4 columns</p>\n</div>"
     },
     "execution_count": 35,
     "metadata": {},
     "output_type": "execute_result"
    }
   ],
   "source": [
    "cohort.sort_values(\"CR\",ascending=False)"
   ],
   "metadata": {
    "collapsed": false,
    "pycharm": {
     "name": "#%%\n"
    }
   }
  },
  {
   "cell_type": "markdown",
   "source": [
    "### Дополнительно:\n",
    "____\n",
    "Также помимо посчитанных метрик, я также хочу упомянуть метрики, которые показывает показатели доходов:\n",
    "\n",
    "1. ARPPU (Average revenue per paying user). Средний доход на платящего пользователя (то есть клиента). Состоит из того, насколько часто пользователь покупает, и насколько большой средний чек покупки.\n",
    "\n",
    "   - ARPPU=Число повторных покупок⋅Средний чек\n",
    "\n",
    "2. Для того, чтобы посчитать повторные покупки, нужно разделить общее количество покупок на общее количество покупателей,\n",
    "\n",
    "   - Повторные покупки = Число покупок / Число клиентов\n",
    "\n",
    "3. Средний чек — это доход, разделённый на количество покупок.\n",
    "\n",
    "   - Средний чек = Доход / Число покупок\n",
    "\n",
    "    Перемножаем две получившиеся позиции и получаем итог — ARPPU :)\n",
    "\n",
    "\n",
    "4. ARPU (Average revenue per user). Cредний доход с привлечённого пользователя. Для удобства и принятия решений разделим формулу ARPU на составные части.\n",
    "\n",
    "   - ARPU=Конверсия⋅ARPPU\n",
    "\n",
    "   - Конверсия = Число клиентов / Число пользователей\n",
    "\n",
    "5. Также ARPPU можно рассчитать вот так:\n",
    "\n",
    "   - ARPPU = Доход / Число клиентов\n",
    "\n",
    "6. LTV (lifetime value) Пожизненная ценность клиента. Отражает, сколько в среднем приносит пользователь денег в продукт до того, как покинет его. Смысл LTV состоит в том, чтобы прикинуть, сколько можно потратить на привлечение нового клиента на ранней стадии, в отношении вероятной прибыли от одного человека. Рассчитывается как произведение среднего дохода на пользователя (ARPU) и средней продолжительности жизни клиента (Lifetime).\n",
    "\n",
    "   - LTV=ARPU⋅Lifetime\n",
    "\n",
    "Также я оставлю дополнительные материалы по LTV:\n",
    "[Василий Сабиров (devtodev) - Важен каждый: почему нужно следить за полной ценностью клиентов](https://www.youtube.com/watch?v=rwvc3KHcuE8);\n",
    "[5 Simple Ways to Calculate Customer Lifetime Value](https://medium.com/swlh/5-simple-ways-to-calculate-customer-lifetime-value-5f49b1a12723)."
   ],
   "metadata": {
    "collapsed": false,
    "pycharm": {
     "name": "#%% md\n"
    }
   }
  },
  {
   "cell_type": "markdown",
   "source": [
    "Помимо всего того, что я вам дал, я хочу добавить ещё несколько метрик:\n",
    "\n",
    "Показатели расходов:\n",
    "____\n",
    "\n",
    "1. CPAcq (Cost per acquisition) – стоимость привлечения пользователей. Метрика показывает, во сколько компании обходится один пользователь, заходящий в продукт.\n",
    "\n",
    "   - CPAcq = Расходы на привлечение / Число пользователей\n",
    "\n",
    "2. CAC – стоимость привлечения клиента. Метрика показывает, во сколько компании обходится один клиент (то есть именно клиент — пользователь, совершивший целевое действие).  CPAcq и САС – это разные определения и метрики, не стоит их путать.\n",
    "\n",
    "   - CAC = Расходы на привлечение / Число клиентов\n",
    "\n",
    "\n",
    "\n",
    "Сравнивая LTV и CAC, мы можем определить, рентабелен маркетинг продукта или нет (то есть окупаются ли расходы на привлечение пользователей).\n",
    "\n",
    "Для принятия решений связанных с масштабированием, в расчёте CPAcq важно учитывать не всех пользователей, а только тех, которых мы привлекли, потратив деньги на привлечение. То есть только неорганический трафик.\n",
    "\n",
    "### LTV >> CAC\n",
    "\n",
    "Прочие метрики:\n",
    "____\n",
    "\n",
    "Можно выделить очень много разных метрик (главное в них не запутаться). Давайте посмотрим на некоторые специфичные метрики.\n",
    "\n",
    "1. NPS (net promoter score) — метрика уровня лояльности пользователей. Измеряется с помощью опросников, отражается в процентах. NPS измеряет количество постоянных клиентов, которые могут порекомендовать продукт (промоутеры), и тех клиентов, которые его ненавидят.\n",
    "\n",
    "   - NPS=% of promoters − % of detractors\n",
    "\n",
    "2. Оценка удовлетворенности клиентов (customer satisfaction score, CSAT) — измеряет общий уровень недовольства пользователя по поводу определенного продукта или функции. Пользователей просят оценить продукт или услугу по шкале 1-3, 1-5 или 1- 10. CSAT рассчитывается путем суммирования баллов и деления его на количество респондентов.\n",
    "\n",
    "CSAT = сумма положительных оценок / количество всех оценок ⋅ 100%\n",
    "\n",
    "3. Фактор виральности. Чем больше K-фактор, тем стремительнее распространяется ваш продукт по сети и тем он более вирален, то есть нравится аудитории.\n",
    "\n",
    "  - К−фактор=X⋅Y⋅Z\n",
    "\n",
    "    1. X — процент пользователей, которые пригласили новых пользователей\n",
    "\n",
    "    2. Y — среднее число людей, которых пригласил единичный пользователь\n",
    "\n",
    "    3. Z — число пользователей, принявших приглашение\n",
    "\n",
    "4. Средняя продолжительность сессии (average session length, ASL) – среднее арифметическое длин всех сессий.\n",
    "\n",
    "   - ASL= T / N\n",
    "\n",
    "    1. T — суммарная продолжительность сессий за период\n",
    "\n",
    "    2. N — общее количество сессий за тот же период\n",
    "\n",
    "5. Отказы — количество визитов, в которые посетитель просмотрел не более одной страницы и пробыл на сайте менее 15 секунд.\n",
    "\n",
    "6. Глубина просмотра – среднее количество страниц, просмотренных посетителями сайта за один визит.\n",
    "\n",
    "7. Количество сеансов (сессий) на пользователя — помогает понять как часто пользователи возвращаются и используют сайт."
   ],
   "metadata": {
    "collapsed": false,
    "pycharm": {
     "name": "#%% md\n"
    }
   }
  },
  {
   "cell_type": "markdown",
   "source": [
    "### Выводы:\n",
    "____\n",
    "\n",
    "- Данный доклад я сделал не только для вас, но и для себя в качестве опоры на формулы и тем самым данный проект является справочником."
   ],
   "metadata": {
    "collapsed": false,
    "pycharm": {
     "name": "#%% md\n"
    }
   }
  }
 ],
 "metadata": {
  "kernelspec": {
   "display_name": "Python 3",
   "language": "python",
   "name": "python3"
  },
  "language_info": {
   "codemirror_mode": {
    "name": "ipython",
    "version": 2
   },
   "file_extension": ".py",
   "mimetype": "text/x-python",
   "name": "python",
   "nbconvert_exporter": "python",
   "pygments_lexer": "ipython2",
   "version": "2.7.6"
  }
 },
 "nbformat": 4,
 "nbformat_minor": 0
}