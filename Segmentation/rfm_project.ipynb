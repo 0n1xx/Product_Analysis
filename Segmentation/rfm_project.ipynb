{
 "cells": [
  {
   "cell_type": "markdown",
   "source": [
    "# Методы сегментации клиентов и целевой аудитории:\n",
    "_____\n",
    "\n",
    "Данный проект является второй серией из репозитория по продуктовой аналитике и прежде всего хотелось бы рассмотреть для чего нужна сегментация наших пользователей:\n",
    "\n",
    "- Сегментация — это объединение объектов в группы по общим признакам.\n",
    "\n",
    "- Сегментация клиентов/ЦА — это объединение клиентской базы или потенциальных потребителей в группы на основе каких-либо признаков (н-р, пола, возраста, количества покупок и тп.)\n",
    "\n",
    "Зачем бизнесу сегментировать?\n",
    "____\n",
    "1. Выбор сегмента до запуска продукта (фокусирование).\n",
    "2. Маркетинговая оптимизация (ROMI).\n",
    "3. Выработка стратегии коммуникации.\n",
    "4. Рост продаж.\n",
    "5. Персональный подход.\n",
    "6. Диагностика источников изменений в метриках.\n",
    "7. Прогнозирование поведения пользователей.\n",
    "\n",
    "Вопросы, на которые нужно ответить:\n",
    "____\n",
    "1. Какие товары и услуги каким из ваших покупателей нужны?\n",
    "2. Как доносить ценность для разных сегментов?\n",
    "3. Какие потребители приносят вам больше денег, а на каких вы не зарабатываете?"
   ],
   "metadata": {
    "collapsed": false,
    "pycharm": {
     "name": "#%% md\n"
    }
   }
  },
  {
   "cell_type": "markdown",
   "source": [
    "Как обычно, начнём с выгрузки и предпросмотра наших данных:"
   ],
   "metadata": {
    "collapsed": false,
    "pycharm": {
     "name": "#%% md\n"
    }
   }
  },
  {
   "cell_type": "code",
   "execution_count": 2,
   "outputs": [],
   "source": [
    "import pandas as pd"
   ],
   "metadata": {
    "collapsed": false,
    "pycharm": {
     "name": "#%%\n"
    }
   }
  },
  {
   "cell_type": "code",
   "execution_count": 3,
   "outputs": [
    {
     "name": "stderr",
     "output_type": "stream",
     "text": [
      "/tmp/ipykernel_58912/1418323986.py:1: DtypeWarning: Columns (1) have mixed types. Specify dtype option on import or set low_memory=False.\n",
      "  orders = pd.read_csv(\"RFM_ht_data.csv\",parse_dates=[\"InvoiceDate\"])\n"
     ]
    },
    {
     "data": {
      "text/plain": "        InvoiceNo CustomerCode InvoiceDate   Amount\n0  C0011810010001     19067290  2020-09-01  1716.00\n1  C0011810010017     13233933  2020-09-01  1489.74\n2  C0011810010020     99057968  2020-09-01   151.47\n3  C0011810010021     80007276  2020-09-01   146.72\n4  C0011810010024     13164076  2020-09-01   104.00",
      "text/html": "<div>\n<style scoped>\n    .dataframe tbody tr th:only-of-type {\n        vertical-align: middle;\n    }\n\n    .dataframe tbody tr th {\n        vertical-align: top;\n    }\n\n    .dataframe thead th {\n        text-align: right;\n    }\n</style>\n<table border=\"1\" class=\"dataframe\">\n  <thead>\n    <tr style=\"text-align: right;\">\n      <th></th>\n      <th>InvoiceNo</th>\n      <th>CustomerCode</th>\n      <th>InvoiceDate</th>\n      <th>Amount</th>\n    </tr>\n  </thead>\n  <tbody>\n    <tr>\n      <th>0</th>\n      <td>C0011810010001</td>\n      <td>19067290</td>\n      <td>2020-09-01</td>\n      <td>1716.00</td>\n    </tr>\n    <tr>\n      <th>1</th>\n      <td>C0011810010017</td>\n      <td>13233933</td>\n      <td>2020-09-01</td>\n      <td>1489.74</td>\n    </tr>\n    <tr>\n      <th>2</th>\n      <td>C0011810010020</td>\n      <td>99057968</td>\n      <td>2020-09-01</td>\n      <td>151.47</td>\n    </tr>\n    <tr>\n      <th>3</th>\n      <td>C0011810010021</td>\n      <td>80007276</td>\n      <td>2020-09-01</td>\n      <td>146.72</td>\n    </tr>\n    <tr>\n      <th>4</th>\n      <td>C0011810010024</td>\n      <td>13164076</td>\n      <td>2020-09-01</td>\n      <td>104.00</td>\n    </tr>\n  </tbody>\n</table>\n</div>"
     },
     "execution_count": 3,
     "metadata": {},
     "output_type": "execute_result"
    }
   ],
   "source": [
    "orders = pd.read_csv(\"RFM_ht_data.csv\",parse_dates=[\"InvoiceDate\"])\n",
    "orders.head()"
   ],
   "metadata": {
    "collapsed": false,
    "pycharm": {
     "name": "#%%\n"
    }
   }
  },
  {
   "cell_type": "markdown",
   "source": [
    "#### Описание данных:\n",
    "____\n",
    "\n",
    "- InvoiceNo - номер заказа товара;\n",
    "- CustomerCode - код пользователя;\n",
    "- InvoiceDate - дата заказа;\n",
    "- Amount - сумма заказа."
   ],
   "metadata": {
    "collapsed": false,
    "pycharm": {
     "name": "#%% md\n"
    }
   }
  },
  {
   "cell_type": "code",
   "execution_count": 4,
   "outputs": [
    {
     "data": {
      "text/plain": "InvoiceNo               object\nCustomerCode            object\nInvoiceDate     datetime64[ns]\nAmount                 float64\ndtype: object"
     },
     "execution_count": 4,
     "metadata": {},
     "output_type": "execute_result"
    }
   ],
   "source": [
    "orders.dtypes"
   ],
   "metadata": {
    "collapsed": false,
    "pycharm": {
     "name": "#%%\n"
    }
   }
  },
  {
   "cell_type": "markdown",
   "source": [
    "Я бы крайне рекомендовал всегда специфицировать тип данных иначе будут проблемы в работе с данными в будущем:"
   ],
   "metadata": {
    "collapsed": false,
    "pycharm": {
     "name": "#%% md\n"
    }
   }
  },
  {
   "cell_type": "code",
   "execution_count": 5,
   "outputs": [],
   "source": [
    "orders[\"InvoiceNo\"] = orders[\"InvoiceNo\"].astype(\"str\")\n",
    "orders[\"CustomerCode\"] = orders[\"CustomerCode\"].astype(\"str\")"
   ],
   "metadata": {
    "collapsed": false,
    "pycharm": {
     "name": "#%%\n"
    }
   }
  },
  {
   "cell_type": "code",
   "execution_count": 6,
   "outputs": [
    {
     "name": "stderr",
     "output_type": "stream",
     "text": [
      "/tmp/ipykernel_58912/2164741630.py:1: FutureWarning: Treating datetime data as categorical rather than numeric in `.describe` is deprecated and will be removed in a future version of pandas. Specify `datetime_is_numeric=True` to silence this warning and adopt the future behavior now.\n",
      "  orders.InvoiceDate.describe()\n"
     ]
    },
    {
     "data": {
      "text/plain": "count                  332730\nunique                     30\ntop       2020-09-30 00:00:00\nfreq                    19781\nfirst     2020-09-01 00:00:00\nlast      2020-09-30 00:00:00\nName: InvoiceDate, dtype: object"
     },
     "execution_count": 6,
     "metadata": {},
     "output_type": "execute_result"
    }
   ],
   "source": [
    "orders.InvoiceDate.describe()"
   ],
   "metadata": {
    "collapsed": false,
    "pycharm": {
     "name": "#%%\n"
    }
   }
  },
  {
   "cell_type": "code",
   "execution_count": 7,
   "outputs": [
    {
     "data": {
      "text/plain": "(332730, 4)"
     },
     "execution_count": 7,
     "metadata": {},
     "output_type": "execute_result"
    }
   ],
   "source": [
    "orders.shape"
   ],
   "metadata": {
    "collapsed": false,
    "pycharm": {
     "name": "#%%\n"
    }
   }
  },
  {
   "cell_type": "markdown",
   "source": [
    "Как видно датасет по времени недолгий, но значений в нём довольно прилично, следовательно это может быть какая-то средняя компания по продажам услуг или товаров.\n",
    "\n",
    "Также хотелось бы проверить сколько уникальных значений пользователей у нас будет перед и после преобразований фрейма, вам тоже рекомендую так делать."
   ],
   "metadata": {
    "collapsed": false,
    "pycharm": {
     "name": "#%% md\n"
    }
   }
  },
  {
   "cell_type": "code",
   "execution_count": 8,
   "outputs": [
    {
     "data": {
      "text/plain": "123733"
     },
     "execution_count": 8,
     "metadata": {},
     "output_type": "execute_result"
    }
   ],
   "source": [
    "orders.CustomerCode.nunique()"
   ],
   "metadata": {
    "collapsed": false,
    "pycharm": {
     "name": "#%%\n"
    }
   }
  },
  {
   "cell_type": "markdown",
   "source": [
    "#### Какие бывают виды сегментации ?\n",
    "____\n",
    "\n",
    "1. Методика 5W Марка Шерингтона:\n",
    "    1. What (Что?) — Какой продукт вы предлагаете целевой аудитории?\n",
    "    2. Who (Кто?) — Кто покупатель продукта?\n",
    "    3. Why (Почему?) — Какую потребность удовлетворяет продукт?\n",
    "    4. When (Когда?) — В какие моменты совершается покупка?\n",
    "    5. Where (Где?) — В каких точках контакта принимается и реализуется решение о покупке?\n",
    "\n",
    "2. Khramatrix:\n",
    "    - Khramatrix — расширенная модель 5W. 4 дополнительных пункта:\n",
    "Описание целевой аудитории (ЦА) по географическим и демографическим критериям.\n",
    "Поведенческие особенности ЦА.\n",
    "Готовность к покупке: готов приобрести, собирает информацию, сравнивает варианты, хочет попробовать.\n",
    "Целевое действие, к которому Вы должны подтолкнуть ЦА.\n",
    "\n",
    "- При этом данные сегментации чаще всего используют маркетологи, так что теперь давайте изучим самые популярные виды среди аналитиков:\n",
    "____\n",
    "1. RFM-анализ:\n",
    "Способ сегментации по 3-м показателям:\n",
    "    1. Recency (давность)\n",
    "    2. Frequency (частота)\n",
    "    3. Monetary (деньги)\n",
    "\n",
    "<p align=\"center\">\n",
    "  <img  src=\"rfm.png\">\n",
    "</p>\n",
    "\n",
    "2. Когортный анализ\n",
    "    - Метод анализа поведения пользователей на основе объединения их по какому-либо признаку во времени.\n",
    "\n",
    "<p align=\"center\">\n",
    "  <img  src=\"cohort_analysis.png\">\n",
    "</p>\n"
   ],
   "metadata": {
    "collapsed": false,
    "pycharm": {
     "name": "#%% md\n"
    }
   }
  },
  {
   "cell_type": "markdown",
   "source": [
    "При этом последний метод я очень подробно описал в этом [докладе](https://github.com/0n1xx/RFM_Cohort_Analysis), в котором совсем чуть-чуть затронул и RFM-анализ, так вот давайте погрузимся в него поглубже и ответим на несколько вопросов после сегментирования.\n",
    "Для тех кто совсем не знаком с RFM-анализом рекомендую почитать вот эту [статью](https://aainabajaj39.medium.com/rfm-analysis-for-successful-customer-segmentation-using-python-6291decceb4b)."
   ],
   "metadata": {
    "collapsed": false,
    "pycharm": {
     "name": "#%% md\n"
    }
   }
  },
  {
   "cell_type": "code",
   "execution_count": 10,
   "outputs": [
    {
     "data": {
      "text/plain": "Timestamp('2020-09-30 00:00:00')"
     },
     "execution_count": 10,
     "metadata": {},
     "output_type": "execute_result"
    }
   ],
   "source": [
    "last_date = orders[\"InvoiceDate\"].max()\n",
    "last_date"
   ],
   "metadata": {
    "collapsed": false,
    "pycharm": {
     "name": "#%%\n"
    }
   }
  },
  {
   "cell_type": "code",
   "execution_count": 11,
   "outputs": [],
   "source": [
    "rfmTable = orders.groupby('CustomerCode').agg({'InvoiceDate': lambda x: (last_date - x.max()).days,\n",
    "                                               # Recency #Количество дней с последнего заказа\n",
    "                                           'InvoiceNo': lambda x: len(x),\n",
    "                                               # Frequency #Количество заказов\n",
    "                                           'Amount': lambda x: x.sum()})\n",
    "                                               # Monetary Value #Общая сумма по всем заказам\n",
    "\n",
    "rfmTable['InvoiceDate'] = rfmTable['InvoiceDate'].astype(int)\n",
    "rfmTable.rename(columns={'InvoiceDate': 'recency',\n",
    "                         'InvoiceNo': 'frequency',\n",
    "                         'Amount': 'monetary_value'}, inplace=True)"
   ],
   "metadata": {
    "collapsed": false,
    "pycharm": {
     "name": "#%%\n"
    }
   }
  },
  {
   "cell_type": "code",
   "execution_count": 12,
   "outputs": [],
   "source": [
    "rfmSegmentation = rfmTable"
   ],
   "metadata": {
    "collapsed": false,
    "pycharm": {
     "name": "#%%\n"
    }
   }
  },
  {
   "cell_type": "code",
   "execution_count": 13,
   "outputs": [],
   "source": [
    "quantiles = rfmSegmentation.quantile(q=[0.25,0.5,0.75])"
   ],
   "metadata": {
    "collapsed": false,
    "pycharm": {
     "name": "#%%\n"
    }
   }
  },
  {
   "cell_type": "markdown",
   "source": [
    "Разделение по RFM мы можем делать на сколько угодно квантилей, а порой стоит делить и по значениям, но в этом докладе я использую деление по 25% процентилю:"
   ],
   "metadata": {
    "collapsed": false,
    "pycharm": {
     "name": "#%% md\n"
    }
   }
  },
  {
   "cell_type": "code",
   "execution_count": 15,
   "outputs": [],
   "source": [
    "def RClass(value,parameter_name,quantiles_table):\n",
    "    if value <= quantiles_table[parameter_name][0.25]:\n",
    "        return 1\n",
    "    elif value <= quantiles_table[parameter_name][0.50]:\n",
    "        return 2\n",
    "    elif value <= quantiles_table[parameter_name][0.75]:\n",
    "        return 3\n",
    "    else:\n",
    "        return 4\n",
    "\n",
    "\n",
    "def FMClass(value, parameter_name,quantiles_table):\n",
    "    if value <= quantiles_table[parameter_name][0.25]:\n",
    "        return 4\n",
    "    elif value <= quantiles_table[parameter_name][0.50]:\n",
    "        return 3\n",
    "    elif value <= quantiles_table[parameter_name][0.75]:\n",
    "        return 2\n",
    "    else:\n",
    "        return 1\n"
   ],
   "metadata": {
    "collapsed": false,
    "pycharm": {
     "name": "#%%\n"
    }
   }
  },
  {
   "cell_type": "code",
   "execution_count": 16,
   "outputs": [],
   "source": [
    "rfmSegmentation['R_Quartile'] = rfmSegmentation['recency'].apply(RClass, args=('recency',quantiles))\n",
    "\n",
    "rfmSegmentation['F_Quartile'] = rfmSegmentation['frequency'].apply(FMClass, args=('frequency',quantiles))\n",
    "\n",
    "rfmSegmentation['M_Quartile'] = rfmSegmentation['monetary_value'].apply(FMClass, args=('monetary_value',quantiles))\n",
    "\n",
    "rfmSegmentation['RFMClass'] = rfmSegmentation.R_Quartile.map(str)                             + rfmSegmentation.F_Quartile.map(str)                             + rfmSegmentation.M_Quartile.map(str)"
   ],
   "metadata": {
    "collapsed": false,
    "pycharm": {
     "name": "#%%\n"
    }
   }
  },
  {
   "cell_type": "code",
   "execution_count": 17,
   "outputs": [
    {
     "data": {
      "text/plain": "              recency  frequency  monetary_value  R_Quartile  F_Quartile  \\\nCustomerCode                                                               \n02213019           19          1         1609.20           4           4   \n02213042           22          3         9685.48           4           2   \n02213071           29          1          415.00           4           4   \n02213088           23          1          305.00           4           4   \n02213092           25          1         1412.88           4           4   \n\n              M_Quartile RFMClass  \nCustomerCode                       \n02213019               3      443  \n02213042               1      421  \n02213071               4      444  \n02213088               4      444  \n02213092               3      443  ",
      "text/html": "<div>\n<style scoped>\n    .dataframe tbody tr th:only-of-type {\n        vertical-align: middle;\n    }\n\n    .dataframe tbody tr th {\n        vertical-align: top;\n    }\n\n    .dataframe thead th {\n        text-align: right;\n    }\n</style>\n<table border=\"1\" class=\"dataframe\">\n  <thead>\n    <tr style=\"text-align: right;\">\n      <th></th>\n      <th>recency</th>\n      <th>frequency</th>\n      <th>monetary_value</th>\n      <th>R_Quartile</th>\n      <th>F_Quartile</th>\n      <th>M_Quartile</th>\n      <th>RFMClass</th>\n    </tr>\n    <tr>\n      <th>CustomerCode</th>\n      <th></th>\n      <th></th>\n      <th></th>\n      <th></th>\n      <th></th>\n      <th></th>\n      <th></th>\n    </tr>\n  </thead>\n  <tbody>\n    <tr>\n      <th>02213019</th>\n      <td>19</td>\n      <td>1</td>\n      <td>1609.20</td>\n      <td>4</td>\n      <td>4</td>\n      <td>3</td>\n      <td>443</td>\n    </tr>\n    <tr>\n      <th>02213042</th>\n      <td>22</td>\n      <td>3</td>\n      <td>9685.48</td>\n      <td>4</td>\n      <td>2</td>\n      <td>1</td>\n      <td>421</td>\n    </tr>\n    <tr>\n      <th>02213071</th>\n      <td>29</td>\n      <td>1</td>\n      <td>415.00</td>\n      <td>4</td>\n      <td>4</td>\n      <td>4</td>\n      <td>444</td>\n    </tr>\n    <tr>\n      <th>02213088</th>\n      <td>23</td>\n      <td>1</td>\n      <td>305.00</td>\n      <td>4</td>\n      <td>4</td>\n      <td>4</td>\n      <td>444</td>\n    </tr>\n    <tr>\n      <th>02213092</th>\n      <td>25</td>\n      <td>1</td>\n      <td>1412.88</td>\n      <td>4</td>\n      <td>4</td>\n      <td>3</td>\n      <td>443</td>\n    </tr>\n  </tbody>\n</table>\n</div>"
     },
     "execution_count": 17,
     "metadata": {},
     "output_type": "execute_result"
    }
   ],
   "source": [
    "rfmSegmentation.head()"
   ],
   "metadata": {
    "collapsed": false,
    "pycharm": {
     "name": "#%%\n"
    }
   }
  },
  {
   "cell_type": "code",
   "execution_count": 18,
   "outputs": [
    {
     "data": {
      "text/plain": "123733"
     },
     "execution_count": 18,
     "metadata": {},
     "output_type": "execute_result"
    }
   ],
   "source": [
    "rfmSegmentation.shape[0]"
   ],
   "metadata": {
    "collapsed": false,
    "pycharm": {
     "name": "#%%\n"
    }
   }
  },
  {
   "cell_type": "markdown",
   "source": [
    "Проверка на соотношение пользователей прошла успешна и мы не потеряли никого, теперь можно начать отвечать на вопросы:"
   ],
   "metadata": {
    "collapsed": false,
    "pycharm": {
     "name": "#%% md\n"
    }
   }
  },
  {
   "cell_type": "markdown",
   "source": [
    "### Часть с вопросами:\n",
    "____"
   ],
   "metadata": {
    "collapsed": false,
    "pycharm": {
     "name": "#%% md\n"
    }
   }
  },
  {
   "cell_type": "markdown",
   "source": [
    "1. Какое максимальное кол-во покупок было совершено одним пользователем ?\n",
    "____"
   ],
   "metadata": {
    "collapsed": false,
    "pycharm": {
     "name": "#%% md\n"
    }
   }
  },
  {
   "cell_type": "code",
   "execution_count": 20,
   "outputs": [
    {
     "data": {
      "text/plain": "204"
     },
     "execution_count": 20,
     "metadata": {},
     "output_type": "execute_result"
    }
   ],
   "source": [
    "rfmSegmentation.frequency.max()"
   ],
   "metadata": {
    "collapsed": false,
    "pycharm": {
     "name": "#%%\n"
    }
   }
  },
  {
   "cell_type": "markdown",
   "source": [
    "2. Какая верхняя граница у суммы покупок у пользователей с классом 4 в подсегменте М? (Другими словами: пользователи, у которых сумма покупок от 0 до Х попадают в 4 класс в подсегменте М) ?\n",
    "____"
   ],
   "metadata": {
    "collapsed": false,
    "pycharm": {
     "name": "#%% md\n"
    }
   }
  },
  {
   "cell_type": "code",
   "execution_count": 21,
   "outputs": [
    {
     "data": {
      "text/plain": "765.0"
     },
     "execution_count": 21,
     "metadata": {},
     "output_type": "execute_result"
    }
   ],
   "source": [
    "quantiles.monetary_value[0.25]"
   ],
   "metadata": {
    "collapsed": false,
    "pycharm": {
     "name": "#%%\n"
    }
   }
  },
  {
   "cell_type": "markdown",
   "source": [
    "3. Какая нижняя граница у количества покупок у пользователей с классом 1 в подсегменте F ?\n",
    "____"
   ],
   "metadata": {
    "collapsed": false,
    "pycharm": {
     "name": "#%% md\n"
    }
   }
  },
  {
   "cell_type": "code",
   "execution_count": 22,
   "outputs": [
    {
     "data": {
      "text/plain": "4"
     },
     "execution_count": 22,
     "metadata": {},
     "output_type": "execute_result"
    }
   ],
   "source": [
    "rfmSegmentation.query(\"F_Quartile== 1\").frequency.min()"
   ],
   "metadata": {
    "collapsed": false,
    "pycharm": {
     "name": "#%%\n"
    }
   }
  },
  {
   "cell_type": "markdown",
   "source": [
    "4. Какое максимальное количество дней может пройти с момента последней покупки для того, чтобы пользователь попал в класс 2 в подсегменте R ?\n",
    "____"
   ],
   "metadata": {
    "collapsed": false,
    "pycharm": {
     "name": "#%% md\n"
    }
   }
  },
  {
   "cell_type": "code",
   "execution_count": 23,
   "outputs": [
    {
     "data": {
      "text/plain": "8"
     },
     "execution_count": 23,
     "metadata": {},
     "output_type": "execute_result"
    }
   ],
   "source": [
    "rfmSegmentation.query(\"R_Quartile == 2\").recency.max()"
   ],
   "metadata": {
    "collapsed": false,
    "pycharm": {
     "name": "#%%\n"
    }
   }
  },
  {
   "cell_type": "markdown",
   "source": [
    "5. Сколько пользователей попало в сегмент 111 ?\n",
    "____"
   ],
   "metadata": {
    "collapsed": false,
    "pycharm": {
     "name": "#%% md\n"
    }
   }
  },
  {
   "cell_type": "code",
   "execution_count": 26,
   "outputs": [],
   "source": [
    "rfmSegmentation.RFMClass = rfmSegmentation[\"RFMClass\"].astype(\"int\")"
   ],
   "metadata": {
    "collapsed": false,
    "pycharm": {
     "name": "#%%\n"
    }
   }
  },
  {
   "cell_type": "code",
   "execution_count": 27,
   "outputs": [
    {
     "data": {
      "text/plain": "9705"
     },
     "execution_count": 27,
     "metadata": {},
     "output_type": "execute_result"
    }
   ],
   "source": [
    "rfmSegmentation.query(\"RFMClass == 111\").shape[0]"
   ],
   "metadata": {
    "collapsed": false,
    "pycharm": {
     "name": "#%%\n"
    }
   }
  },
  {
   "cell_type": "markdown",
   "source": [
    "6. Сколько пользователей попало в сегмент 311 ?\n",
    "____"
   ],
   "metadata": {
    "collapsed": false,
    "pycharm": {
     "name": "#%% md\n"
    }
   }
  },
  {
   "cell_type": "code",
   "execution_count": 115,
   "outputs": [
    {
     "data": {
      "text/plain": "1609"
     },
     "execution_count": 115,
     "metadata": {},
     "output_type": "execute_result"
    }
   ],
   "source": [
    "rfmSegmentation.query(\"RFMClass == 311\").shape[0]"
   ],
   "metadata": {
    "collapsed": false,
    "pycharm": {
     "name": "#%%\n"
    }
   }
  },
  {
   "cell_type": "markdown",
   "source": [
    "7. В каком RFM-сегменте самое большое кол-во пользователей ?\n",
    "8. В каком RFM-сегменте самое маленькое кол-во пользователей ?\n",
    "9. Какое количество пользователей попало в самый малочисленный сегмент ?\n",
    "____"
   ],
   "metadata": {
    "collapsed": false,
    "pycharm": {
     "name": "#%% md\n"
    }
   }
  },
  {
   "cell_type": "code",
   "execution_count": 28,
   "outputs": [],
   "source": [
    "rfmSegmentation.reset_index(inplace=True)"
   ],
   "metadata": {
    "collapsed": false,
    "pycharm": {
     "name": "#%%\n"
    }
   }
  },
  {
   "cell_type": "code",
   "execution_count": 29,
   "outputs": [
    {
     "data": {
      "text/plain": "          CustomerCode\nRFMClass              \n444              10624\n111               9705\n443               6729\n344               6593\n211               5847\n...                ...\n424                 63\n214                 60\n114                 60\n314                 33\n414                  2\n\n[64 rows x 1 columns]",
      "text/html": "<div>\n<style scoped>\n    .dataframe tbody tr th:only-of-type {\n        vertical-align: middle;\n    }\n\n    .dataframe tbody tr th {\n        vertical-align: top;\n    }\n\n    .dataframe thead th {\n        text-align: right;\n    }\n</style>\n<table border=\"1\" class=\"dataframe\">\n  <thead>\n    <tr style=\"text-align: right;\">\n      <th></th>\n      <th>CustomerCode</th>\n    </tr>\n    <tr>\n      <th>RFMClass</th>\n      <th></th>\n    </tr>\n  </thead>\n  <tbody>\n    <tr>\n      <th>444</th>\n      <td>10624</td>\n    </tr>\n    <tr>\n      <th>111</th>\n      <td>9705</td>\n    </tr>\n    <tr>\n      <th>443</th>\n      <td>6729</td>\n    </tr>\n    <tr>\n      <th>344</th>\n      <td>6593</td>\n    </tr>\n    <tr>\n      <th>211</th>\n      <td>5847</td>\n    </tr>\n    <tr>\n      <th>...</th>\n      <td>...</td>\n    </tr>\n    <tr>\n      <th>424</th>\n      <td>63</td>\n    </tr>\n    <tr>\n      <th>214</th>\n      <td>60</td>\n    </tr>\n    <tr>\n      <th>114</th>\n      <td>60</td>\n    </tr>\n    <tr>\n      <th>314</th>\n      <td>33</td>\n    </tr>\n    <tr>\n      <th>414</th>\n      <td>2</td>\n    </tr>\n  </tbody>\n</table>\n<p>64 rows × 1 columns</p>\n</div>"
     },
     "execution_count": 29,
     "metadata": {},
     "output_type": "execute_result"
    }
   ],
   "source": [
    "rfmSegmentation.groupby(\"RFMClass\").agg({\"CustomerCode\":\"count\"}).sort_values(\"CustomerCode\",ascending=False)"
   ],
   "metadata": {
    "collapsed": false,
    "pycharm": {
     "name": "#%%\n"
    }
   }
  },
  {
   "cell_type": "markdown",
   "source": [
    "Ответы:\n",
    "____\n",
    "7. В сегменте 444 находиться больше всего пользователей;\n",
    "8. В сегменте 414 находиться меньше всего пользователей;\n",
    "9. В самый малочисленный сегмент попало всего лишь 2 пользователя."
   ],
   "metadata": {
    "collapsed": false,
    "pycharm": {
     "name": "#%% md\n"
    }
   }
  },
  {
   "cell_type": "markdown",
   "source": [
    "#### Выводы:\n",
    "____\n",
    "\n",
    "- В данном докладе мы узнали про методы сегментации, а также применили RFM-анализ на практике."
   ],
   "metadata": {
    "collapsed": false,
    "pycharm": {
     "name": "#%% md\n"
    }
   }
  }
 ],
 "metadata": {
  "kernelspec": {
   "display_name": "Python 3",
   "language": "python",
   "name": "python3"
  },
  "language_info": {
   "codemirror_mode": {
    "name": "ipython",
    "version": 2
   },
   "file_extension": ".py",
   "mimetype": "text/x-python",
   "name": "python",
   "nbconvert_exporter": "python",
   "pygments_lexer": "ipython2",
   "version": "2.7.6"
  }
 },
 "nbformat": 4,
 "nbformat_minor": 0
}